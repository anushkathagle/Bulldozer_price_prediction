{
 "cells": [
  {
   "cell_type": "markdown",
   "id": "5dc58435",
   "metadata": {},
   "source": [
    "# Predicting the sale price of bulldozers sold at auctions.\n",
    "\n",
    "## Data preperation\n",
    "\n",
    "This notebook is dedicated to Exploratory data analysis, Data Cleaning and Data preprocessing. In this notebook I will prepare the training and validation data that can be used to train the machine learning model efficiently"
   ]
  },
  {
   "cell_type": "code",
   "execution_count": 1,
   "id": "14563ef2",
   "metadata": {},
   "outputs": [],
   "source": [
    "### This cell contains all the tools we will be using\n",
    "import numpy as np\n",
    "import pandas as pd\n",
    "\n",
    "### Visualization Libraries\n",
    "import matplotlib.pyplot as plt\n",
    "import seaborn as sns\n",
    "\n",
    "%matplotlib inline\n",
    "\n",
    "### Preporcessing tools\n",
    "from sklearn.preprocessing import OrdinalEncoder\n",
    "import category_encoders as ce"
   ]
  },
  {
   "cell_type": "markdown",
   "id": "e76159d9",
   "metadata": {},
   "source": [
    "## Reading the Data\n",
    "Let's Import the data and start working with it."
   ]
  },
  {
   "cell_type": "code",
   "execution_count": 2,
   "id": "d26eecad",
   "metadata": {},
   "outputs": [],
   "source": [
    "### Reading the Train and valid data csv\n",
    "df = pd.read_csv('./bluebook-for-bulldozers-data/TrainAndValid.csv',\n",
    "                       low_memory=False)"
   ]
  },
  {
   "cell_type": "code",
   "execution_count": 3,
   "id": "a1e80e0d",
   "metadata": {
    "scrolled": true
   },
   "outputs": [
    {
     "data": {
      "text/html": [
       "<div>\n",
       "<style scoped>\n",
       "    .dataframe tbody tr th:only-of-type {\n",
       "        vertical-align: middle;\n",
       "    }\n",
       "\n",
       "    .dataframe tbody tr th {\n",
       "        vertical-align: top;\n",
       "    }\n",
       "\n",
       "    .dataframe thead th {\n",
       "        text-align: right;\n",
       "    }\n",
       "</style>\n",
       "<table border=\"1\" class=\"dataframe\">\n",
       "  <thead>\n",
       "    <tr style=\"text-align: right;\">\n",
       "      <th></th>\n",
       "      <th>SalesID</th>\n",
       "      <th>SalePrice</th>\n",
       "      <th>MachineID</th>\n",
       "      <th>ModelID</th>\n",
       "      <th>datasource</th>\n",
       "      <th>auctioneerID</th>\n",
       "      <th>YearMade</th>\n",
       "      <th>MachineHoursCurrentMeter</th>\n",
       "      <th>UsageBand</th>\n",
       "      <th>saledate</th>\n",
       "      <th>...</th>\n",
       "      <th>Undercarriage_Pad_Width</th>\n",
       "      <th>Stick_Length</th>\n",
       "      <th>Thumb</th>\n",
       "      <th>Pattern_Changer</th>\n",
       "      <th>Grouser_Type</th>\n",
       "      <th>Backhoe_Mounting</th>\n",
       "      <th>Blade_Type</th>\n",
       "      <th>Travel_Controls</th>\n",
       "      <th>Differential_Type</th>\n",
       "      <th>Steering_Controls</th>\n",
       "    </tr>\n",
       "  </thead>\n",
       "  <tbody>\n",
       "    <tr>\n",
       "      <th>0</th>\n",
       "      <td>1139246</td>\n",
       "      <td>66000.0</td>\n",
       "      <td>999089</td>\n",
       "      <td>3157</td>\n",
       "      <td>121</td>\n",
       "      <td>3.0</td>\n",
       "      <td>2004</td>\n",
       "      <td>68.0</td>\n",
       "      <td>Low</td>\n",
       "      <td>11/16/2006 0:00</td>\n",
       "      <td>...</td>\n",
       "      <td>NaN</td>\n",
       "      <td>NaN</td>\n",
       "      <td>NaN</td>\n",
       "      <td>NaN</td>\n",
       "      <td>NaN</td>\n",
       "      <td>NaN</td>\n",
       "      <td>NaN</td>\n",
       "      <td>NaN</td>\n",
       "      <td>Standard</td>\n",
       "      <td>Conventional</td>\n",
       "    </tr>\n",
       "    <tr>\n",
       "      <th>1</th>\n",
       "      <td>1139248</td>\n",
       "      <td>57000.0</td>\n",
       "      <td>117657</td>\n",
       "      <td>77</td>\n",
       "      <td>121</td>\n",
       "      <td>3.0</td>\n",
       "      <td>1996</td>\n",
       "      <td>4640.0</td>\n",
       "      <td>Low</td>\n",
       "      <td>3/26/2004 0:00</td>\n",
       "      <td>...</td>\n",
       "      <td>NaN</td>\n",
       "      <td>NaN</td>\n",
       "      <td>NaN</td>\n",
       "      <td>NaN</td>\n",
       "      <td>NaN</td>\n",
       "      <td>NaN</td>\n",
       "      <td>NaN</td>\n",
       "      <td>NaN</td>\n",
       "      <td>Standard</td>\n",
       "      <td>Conventional</td>\n",
       "    </tr>\n",
       "    <tr>\n",
       "      <th>2</th>\n",
       "      <td>1139249</td>\n",
       "      <td>10000.0</td>\n",
       "      <td>434808</td>\n",
       "      <td>7009</td>\n",
       "      <td>121</td>\n",
       "      <td>3.0</td>\n",
       "      <td>2001</td>\n",
       "      <td>2838.0</td>\n",
       "      <td>High</td>\n",
       "      <td>2/26/2004 0:00</td>\n",
       "      <td>...</td>\n",
       "      <td>NaN</td>\n",
       "      <td>NaN</td>\n",
       "      <td>NaN</td>\n",
       "      <td>NaN</td>\n",
       "      <td>NaN</td>\n",
       "      <td>NaN</td>\n",
       "      <td>NaN</td>\n",
       "      <td>NaN</td>\n",
       "      <td>NaN</td>\n",
       "      <td>NaN</td>\n",
       "    </tr>\n",
       "    <tr>\n",
       "      <th>3</th>\n",
       "      <td>1139251</td>\n",
       "      <td>38500.0</td>\n",
       "      <td>1026470</td>\n",
       "      <td>332</td>\n",
       "      <td>121</td>\n",
       "      <td>3.0</td>\n",
       "      <td>2001</td>\n",
       "      <td>3486.0</td>\n",
       "      <td>High</td>\n",
       "      <td>5/19/2011 0:00</td>\n",
       "      <td>...</td>\n",
       "      <td>NaN</td>\n",
       "      <td>NaN</td>\n",
       "      <td>NaN</td>\n",
       "      <td>NaN</td>\n",
       "      <td>NaN</td>\n",
       "      <td>NaN</td>\n",
       "      <td>NaN</td>\n",
       "      <td>NaN</td>\n",
       "      <td>NaN</td>\n",
       "      <td>NaN</td>\n",
       "    </tr>\n",
       "    <tr>\n",
       "      <th>4</th>\n",
       "      <td>1139253</td>\n",
       "      <td>11000.0</td>\n",
       "      <td>1057373</td>\n",
       "      <td>17311</td>\n",
       "      <td>121</td>\n",
       "      <td>3.0</td>\n",
       "      <td>2007</td>\n",
       "      <td>722.0</td>\n",
       "      <td>Medium</td>\n",
       "      <td>7/23/2009 0:00</td>\n",
       "      <td>...</td>\n",
       "      <td>NaN</td>\n",
       "      <td>NaN</td>\n",
       "      <td>NaN</td>\n",
       "      <td>NaN</td>\n",
       "      <td>NaN</td>\n",
       "      <td>NaN</td>\n",
       "      <td>NaN</td>\n",
       "      <td>NaN</td>\n",
       "      <td>NaN</td>\n",
       "      <td>NaN</td>\n",
       "    </tr>\n",
       "  </tbody>\n",
       "</table>\n",
       "<p>5 rows × 53 columns</p>\n",
       "</div>"
      ],
      "text/plain": [
       "   SalesID  SalePrice  MachineID  ModelID  datasource  auctioneerID  YearMade   \n",
       "0  1139246    66000.0     999089     3157         121           3.0      2004  \\\n",
       "1  1139248    57000.0     117657       77         121           3.0      1996   \n",
       "2  1139249    10000.0     434808     7009         121           3.0      2001   \n",
       "3  1139251    38500.0    1026470      332         121           3.0      2001   \n",
       "4  1139253    11000.0    1057373    17311         121           3.0      2007   \n",
       "\n",
       "   MachineHoursCurrentMeter UsageBand         saledate  ...   \n",
       "0                      68.0       Low  11/16/2006 0:00  ...  \\\n",
       "1                    4640.0       Low   3/26/2004 0:00  ...   \n",
       "2                    2838.0      High   2/26/2004 0:00  ...   \n",
       "3                    3486.0      High   5/19/2011 0:00  ...   \n",
       "4                     722.0    Medium   7/23/2009 0:00  ...   \n",
       "\n",
       "  Undercarriage_Pad_Width Stick_Length Thumb Pattern_Changer Grouser_Type   \n",
       "0                     NaN          NaN   NaN             NaN          NaN  \\\n",
       "1                     NaN          NaN   NaN             NaN          NaN   \n",
       "2                     NaN          NaN   NaN             NaN          NaN   \n",
       "3                     NaN          NaN   NaN             NaN          NaN   \n",
       "4                     NaN          NaN   NaN             NaN          NaN   \n",
       "\n",
       "  Backhoe_Mounting Blade_Type Travel_Controls Differential_Type   \n",
       "0              NaN        NaN             NaN          Standard  \\\n",
       "1              NaN        NaN             NaN          Standard   \n",
       "2              NaN        NaN             NaN               NaN   \n",
       "3              NaN        NaN             NaN               NaN   \n",
       "4              NaN        NaN             NaN               NaN   \n",
       "\n",
       "  Steering_Controls  \n",
       "0      Conventional  \n",
       "1      Conventional  \n",
       "2               NaN  \n",
       "3               NaN  \n",
       "4               NaN  \n",
       "\n",
       "[5 rows x 53 columns]"
      ]
     },
     "execution_count": 3,
     "metadata": {},
     "output_type": "execute_result"
    }
   ],
   "source": [
    "df.head()"
   ]
  },
  {
   "cell_type": "code",
   "execution_count": 4,
   "id": "6c0f2d6f",
   "metadata": {},
   "outputs": [
    {
     "name": "stdout",
     "output_type": "stream",
     "text": [
      "<class 'pandas.core.frame.DataFrame'>\n",
      "RangeIndex: 412698 entries, 0 to 412697\n",
      "Data columns (total 53 columns):\n",
      " #   Column                    Non-Null Count   Dtype  \n",
      "---  ------                    --------------   -----  \n",
      " 0   SalesID                   412698 non-null  int64  \n",
      " 1   SalePrice                 412698 non-null  float64\n",
      " 2   MachineID                 412698 non-null  int64  \n",
      " 3   ModelID                   412698 non-null  int64  \n",
      " 4   datasource                412698 non-null  int64  \n",
      " 5   auctioneerID              392562 non-null  float64\n",
      " 6   YearMade                  412698 non-null  int64  \n",
      " 7   MachineHoursCurrentMeter  147504 non-null  float64\n",
      " 8   UsageBand                 73670 non-null   object \n",
      " 9   saledate                  412698 non-null  object \n",
      " 10  fiModelDesc               412698 non-null  object \n",
      " 11  fiBaseModel               412698 non-null  object \n",
      " 12  fiSecondaryDesc           271971 non-null  object \n",
      " 13  fiModelSeries             58667 non-null   object \n",
      " 14  fiModelDescriptor         74816 non-null   object \n",
      " 15  ProductSize               196093 non-null  object \n",
      " 16  fiProductClassDesc        412698 non-null  object \n",
      " 17  state                     412698 non-null  object \n",
      " 18  ProductGroup              412698 non-null  object \n",
      " 19  ProductGroupDesc          412698 non-null  object \n",
      " 20  Drive_System              107087 non-null  object \n",
      " 21  Enclosure                 412364 non-null  object \n",
      " 22  Forks                     197715 non-null  object \n",
      " 23  Pad_Type                  81096 non-null   object \n",
      " 24  Ride_Control              152728 non-null  object \n",
      " 25  Stick                     81096 non-null   object \n",
      " 26  Transmission              188007 non-null  object \n",
      " 27  Turbocharged              81096 non-null   object \n",
      " 28  Blade_Extension           25983 non-null   object \n",
      " 29  Blade_Width               25983 non-null   object \n",
      " 30  Enclosure_Type            25983 non-null   object \n",
      " 31  Engine_Horsepower         25983 non-null   object \n",
      " 32  Hydraulics                330133 non-null  object \n",
      " 33  Pushblock                 25983 non-null   object \n",
      " 34  Ripper                    106945 non-null  object \n",
      " 35  Scarifier                 25994 non-null   object \n",
      " 36  Tip_Control               25983 non-null   object \n",
      " 37  Tire_Size                 97638 non-null   object \n",
      " 38  Coupler                   220679 non-null  object \n",
      " 39  Coupler_System            44974 non-null   object \n",
      " 40  Grouser_Tracks            44875 non-null   object \n",
      " 41  Hydraulics_Flow           44875 non-null   object \n",
      " 42  Track_Type                102193 non-null  object \n",
      " 43  Undercarriage_Pad_Width   102916 non-null  object \n",
      " 44  Stick_Length              102261 non-null  object \n",
      " 45  Thumb                     102332 non-null  object \n",
      " 46  Pattern_Changer           102261 non-null  object \n",
      " 47  Grouser_Type              102193 non-null  object \n",
      " 48  Backhoe_Mounting          80712 non-null   object \n",
      " 49  Blade_Type                81875 non-null   object \n",
      " 50  Travel_Controls           81877 non-null   object \n",
      " 51  Differential_Type         71564 non-null   object \n",
      " 52  Steering_Controls         71522 non-null   object \n",
      "dtypes: float64(3), int64(5), object(45)\n",
      "memory usage: 166.9+ MB\n"
     ]
    }
   ],
   "source": [
    "df.info()"
   ]
  },
  {
   "cell_type": "markdown",
   "id": "4278b88b",
   "metadata": {},
   "source": [
    "The dataset contains a variety of data types. Furthermore, there are numerous features with null values. To create an efficient Machine Learning model with the data, the data needs to be cleaned and preprocessed\n",
    "\n",
    "In the next few steps I will perform \n",
    "* Exploratory data analysis\n",
    "* Data Cleaning\n",
    "* Feature Encoding\n",
    "* Feature Engineering \n",
    "\n",
    "in order to prepare the data for Machine Learning Model."
   ]
  },
  {
   "cell_type": "markdown",
   "id": "503d79ed",
   "metadata": {},
   "source": [
    "## Exploratory Data Analysis\n",
    "Let's explore the data and it's features to get a better understanding of the data.\n",
    "\n",
    "**One of the most important feature of this dataset is sale date so let's explore it further**"
   ]
  },
  {
   "cell_type": "code",
   "execution_count": 5,
   "id": "87f9b384",
   "metadata": {},
   "outputs": [
    {
     "data": {
      "text/plain": [
       "<matplotlib.collections.PathCollection at 0x7fccf8867700>"
      ]
     },
     "execution_count": 5,
     "metadata": {},
     "output_type": "execute_result"
    },
    {
     "data": {
      "image/png": "[encoded data removed]",
      "text/plain": [
       "<Figure size 432x288 with 1 Axes>"
      ]
     },
     "metadata": {
      "needs_background": "light"
     },
     "output_type": "display_data"
    }
   ],
   "source": [
    "### plot sale date with sale price\n",
    "plt.scatter(df['saledate'][:1000],df['SalePrice'][:1000])"
   ]
  },
  {
   "cell_type": "code",
   "execution_count": 6,
   "id": "d8a982da",
   "metadata": {},
   "outputs": [
    {
     "data": {
      "text/plain": [
       "0    11/16/2006 0:00\n",
       "1     3/26/2004 0:00\n",
       "2     2/26/2004 0:00\n",
       "3     5/19/2011 0:00\n",
       "4     7/23/2009 0:00\n",
       "5    12/18/2008 0:00\n",
       "6     8/26/2004 0:00\n",
       "7    11/17/2005 0:00\n",
       "8     8/27/2009 0:00\n",
       "9      8/9/2007 0:00\n",
       "Name: saledate, dtype: object"
      ]
     },
     "execution_count": 6,
     "metadata": {},
     "output_type": "execute_result"
    }
   ],
   "source": [
    "### View first 10 sale date\n",
    "df['saledate'][:10]"
   ]
  },
  {
   "cell_type": "markdown",
   "id": "9012ccff",
   "metadata": {},
   "source": [
    "As we see here the data is in format of object and to make these dates useful to training our machine learning model we need to convert these into date format. "
   ]
  },
  {
   "cell_type": "markdown",
   "id": "b37a0250",
   "metadata": {},
   "source": [
    "### Parsing Dates\n",
    "* One way of doing this is either using `parse_date` attribute while importing out data/csv.\n",
    "* Another way is to use `to_datetime` method in pandas module. We can do that by telling pandas the column which contains dates by using `parse_date` parameter."
   ]
  },
  {
   "cell_type": "code",
   "execution_count": 3,
   "id": "a0d424fc",
   "metadata": {},
   "outputs": [],
   "source": [
    "### Converting object type date to datetime\n",
    "df['saledate'] = pd.to_datetime(df['saledate'])"
   ]
  },
  {
   "cell_type": "code",
   "execution_count": 8,
   "id": "bf4593db",
   "metadata": {
    "scrolled": true
   },
   "outputs": [
    {
     "data": {
      "text/plain": [
       "<matplotlib.collections.PathCollection at 0x7fccf87fc760>"
      ]
     },
     "execution_count": 8,
     "metadata": {},
     "output_type": "execute_result"
    },
    {
     "data": {
      "image/png": "[encoded data removed]",
      "text/plain": [
       "<Figure size 432x288 with 1 Axes>"
      ]
     },
     "metadata": {
      "needs_background": "light"
     },
     "output_type": "display_data"
    }
   ],
   "source": [
    "### Plotting date with sale after processing saledate\n",
    "plt.scatter(df['saledate'][:1000],df['SalePrice'][:1000])"
   ]
  },
  {
   "cell_type": "markdown",
   "id": "8dc558ed",
   "metadata": {},
   "source": [
    "We can see the difference after converting the dates from object to datetime. Data points are now seperated wrt years."
   ]
  },
  {
   "cell_type": "code",
   "execution_count": 9,
   "id": "6570f576",
   "metadata": {},
   "outputs": [
    {
     "data": {
      "text/plain": [
       "0    2006-11-16\n",
       "1    2004-03-26\n",
       "2    2004-02-26\n",
       "3    2011-05-19\n",
       "4    2009-07-23\n",
       "5    2008-12-18\n",
       "6    2004-08-26\n",
       "7    2005-11-17\n",
       "8    2009-08-27\n",
       "9    2007-08-09\n",
       "10   2008-08-21\n",
       "11   2006-08-24\n",
       "12   2005-10-20\n",
       "13   2006-01-26\n",
       "14   2006-01-03\n",
       "15   2006-11-16\n",
       "16   2007-06-14\n",
       "17   2010-01-28\n",
       "18   2006-03-09\n",
       "19   2005-11-17\n",
       "Name: saledate, dtype: datetime64[ns]"
      ]
     },
     "execution_count": 9,
     "metadata": {},
     "output_type": "execute_result"
    }
   ],
   "source": [
    "df['saledate'].head(20)"
   ]
  },
  {
   "cell_type": "markdown",
   "id": "39075e51",
   "metadata": {},
   "source": [
    "### Sorting DataFrame\n",
    "As the most important feature for price prediction is sale date and now that we have transformed our date we can sort our data by dates for better representation of data."
   ]
  },
  {
   "cell_type": "code",
   "execution_count": 4,
   "id": "c587dbc7",
   "metadata": {},
   "outputs": [],
   "source": [
    "df.sort_values(by = 'saledate',ascending = True,inplace=True)"
   ]
  },
  {
   "cell_type": "code",
   "execution_count": 11,
   "id": "a0574944",
   "metadata": {},
   "outputs": [
    {
     "data": {
      "text/plain": [
       "205615   1989-01-17\n",
       "274835   1989-01-31\n",
       "141296   1989-01-31\n",
       "212552   1989-01-31\n",
       "62755    1989-01-31\n",
       "54653    1989-01-31\n",
       "81383    1989-01-31\n",
       "204924   1989-01-31\n",
       "135376   1989-01-31\n",
       "113390   1989-01-31\n",
       "113394   1989-01-31\n",
       "116419   1989-01-31\n",
       "32138    1989-01-31\n",
       "127610   1989-01-31\n",
       "76171    1989-01-31\n",
       "127000   1989-01-31\n",
       "128130   1989-01-31\n",
       "127626   1989-01-31\n",
       "55455    1989-01-31\n",
       "55454    1989-01-31\n",
       "Name: saledate, dtype: datetime64[ns]"
      ]
     },
     "execution_count": 11,
     "metadata": {},
     "output_type": "execute_result"
    }
   ],
   "source": [
    "df['saledate'].head(20)"
   ]
  },
  {
   "cell_type": "markdown",
   "id": "3035b950",
   "metadata": {},
   "source": [
    "**Copy of original Dataframe**\n",
    "\n",
    "Creating a copy of the original dataframe so that we have an option to revert back to original data, if needed, after performing feature Engineering."
   ]
  },
  {
   "cell_type": "code",
   "execution_count": 5,
   "id": "4dbeb691",
   "metadata": {},
   "outputs": [],
   "source": [
    "df_cp = df.copy()"
   ]
  },
  {
   "cell_type": "code",
   "execution_count": 13,
   "id": "3a305fe8",
   "metadata": {},
   "outputs": [
    {
     "data": {
      "text/plain": [
       "205615   1989-01-17\n",
       "274835   1989-01-31\n",
       "141296   1989-01-31\n",
       "212552   1989-01-31\n",
       "62755    1989-01-31\n",
       "Name: saledate, dtype: datetime64[ns]"
      ]
     },
     "execution_count": 13,
     "metadata": {},
     "output_type": "execute_result"
    }
   ],
   "source": [
    "df_cp['saledate'].head()"
   ]
  },
  {
   "cell_type": "markdown",
   "id": "b0ea77a1",
   "metadata": {},
   "source": [
    "## Cleaning Data\n",
    "\n",
    "There are large amount of Nan values present in our dataset. Machine learning models cannot work with null values so I need to clean our data.\n",
    "\n",
    "Firstly, let's see a sample of all object type data."
   ]
  },
  {
   "cell_type": "code",
   "execution_count": 14,
   "id": "f3c859c2",
   "metadata": {
    "scrolled": true
   },
   "outputs": [
    {
     "name": "stdout",
     "output_type": "stream",
     "text": [
      "\n",
      "\n",
      "UsageBand\n",
      "UsageBand\n",
      "Medium    35832\n",
      "Low       25311\n",
      "High      12527\n",
      "Name: count, dtype: int64\n",
      "\n",
      "\n",
      "fiSecondaryDesc\n",
      "fiSecondaryDesc\n",
      "C         44431\n",
      "B         40165\n",
      "G         37915\n",
      "H         24729\n",
      "E         21532\n",
      "          ...  \n",
      "BLGPPS        1\n",
      "MSR           1\n",
      "LC7A          1\n",
      "CL            1\n",
      "BH            1\n",
      "Name: count, Length: 177, dtype: int64\n",
      "\n",
      "\n",
      "fiModelSeries\n",
      "fiModelSeries\n",
      "II      13770\n",
      "LC       9175\n",
      "III      5351\n",
      "-1       4646\n",
      "-2       4033\n",
      "        ...  \n",
      "LL          1\n",
      "6F          1\n",
      "-2LC        1\n",
      "-5A         1\n",
      "VII         1\n",
      "Name: count, Length: 123, dtype: int64\n",
      "\n",
      "\n",
      "fiModelDescriptor\n",
      "fiModelDescriptor\n",
      "L            16464\n",
      "LGP          16143\n",
      "LC           13295\n",
      "XL            6700\n",
      "6             2944\n",
      "             ...  \n",
      "K5               1\n",
      "HighLift         1\n",
      "High Lift        1\n",
      "III              1\n",
      "SL               1\n",
      "Name: count, Length: 140, dtype: int64\n",
      "\n",
      "\n",
      "ProductSize\n",
      "ProductSize\n",
      "Medium            64342\n",
      "Large / Medium    51297\n",
      "Small             27057\n",
      "Mini              25721\n",
      "Large             21396\n",
      "Compact            6280\n",
      "Name: count, dtype: int64\n",
      "\n",
      "\n",
      "Drive_System\n",
      "Drive_System\n",
      "Two Wheel Drive     47546\n",
      "Four Wheel Drive    33551\n",
      "No                  25166\n",
      "All Wheel Drive       824\n",
      "Name: count, dtype: int64\n",
      "\n",
      "\n",
      "Enclosure\n",
      "Enclosure\n",
      "OROPS                  177971\n",
      "EROPS                  141769\n",
      "EROPS w AC              92601\n",
      "EROPS AC                   18\n",
      "NO ROPS                     3\n",
      "None or Unspecified         2\n",
      "Name: count, dtype: int64\n",
      "\n",
      "\n",
      "Forks\n",
      "Forks\n",
      "None or Unspecified    183061\n",
      "Yes                     14654\n",
      "Name: count, dtype: int64\n",
      "\n",
      "\n",
      "Pad_Type\n",
      "Pad_Type\n",
      "None or Unspecified    72395\n",
      "Reversible              5950\n",
      "Street                  2725\n",
      "Grouser                   26\n",
      "Name: count, dtype: int64\n",
      "\n",
      "\n",
      "Ride_Control\n",
      "Ride_Control\n",
      "No                     79389\n",
      "None or Unspecified    64693\n",
      "Yes                     8646\n",
      "Name: count, dtype: int64\n",
      "\n",
      "\n",
      "Stick\n",
      "Stick\n",
      "Standard    49854\n",
      "Extended    31242\n",
      "Name: count, dtype: int64\n",
      "\n",
      "\n",
      "Transmission\n",
      "Transmission\n",
      "Standard               143915\n",
      "None or Unspecified     23889\n",
      "Powershift              11991\n",
      "Powershuttle             4286\n",
      "Hydrostatic              3342\n",
      "Direct Drive              422\n",
      "Autoshift                 118\n",
      "AutoShift                  44\n",
      "Name: count, dtype: int64\n",
      "\n",
      "\n",
      "Turbocharged\n",
      "Turbocharged\n",
      "None or Unspecified    77111\n",
      "Yes                     3985\n",
      "Name: count, dtype: int64\n",
      "\n",
      "\n",
      "Blade_Extension\n",
      "Blade_Extension\n",
      "None or Unspecified    25406\n",
      "Yes                      577\n",
      "Name: count, dtype: int64\n",
      "\n",
      "\n",
      "Blade_Width\n",
      "Blade_Width\n",
      "14'                    9867\n",
      "None or Unspecified    9521\n",
      "12'                    5201\n",
      "16'                     960\n",
      "13'                     335\n",
      "<12'                     99\n",
      "Name: count, dtype: int64\n",
      "\n",
      "\n",
      "Enclosure_Type\n",
      "Enclosure_Type\n",
      "None or Unspecified    22469\n",
      "Low Profile             2675\n",
      "High Profile             839\n",
      "Name: count, dtype: int64\n",
      "\n",
      "\n",
      "Engine_Horsepower\n",
      "Engine_Horsepower\n",
      "No          24642\n",
      "Variable     1341\n",
      "Name: count, dtype: int64\n",
      "\n",
      "\n",
      "Hydraulics\n",
      "Hydraulics\n",
      "2 Valve                145317\n",
      "Standard               106515\n",
      "Auxiliary               43224\n",
      "Base + 1 Function       25511\n",
      "3 Valve                  5807\n",
      "4 Valve                  3077\n",
      "Base + 3 Function         311\n",
      "Base + 2 Function         132\n",
      "Base + 5 Function          94\n",
      "Base + 4 Function          81\n",
      "Base + 6 Function          54\n",
      "None or Unspecified        10\n",
      "Name: count, dtype: int64\n",
      "\n",
      "\n",
      "Pushblock\n",
      "Pushblock\n",
      "None or Unspecified    20017\n",
      "Yes                     5966\n",
      "Name: count, dtype: int64\n",
      "\n",
      "\n",
      "Ripper\n",
      "Ripper\n",
      "None or Unspecified    85405\n",
      "Yes                     8185\n",
      "Multi Shank             8071\n",
      "Single Shank            5284\n",
      "Name: count, dtype: int64\n",
      "\n",
      "\n",
      "Scarifier\n",
      "Scarifier\n",
      "None or Unspecified    13033\n",
      "Yes                    12961\n",
      "Name: count, dtype: int64\n",
      "\n",
      "\n",
      "Tip_Control\n",
      "Tip_Control\n",
      "None or Unspecified    16832\n",
      "Sideshift & Tip         7164\n",
      "Tip                     1987\n",
      "Name: count, dtype: int64\n",
      "\n",
      "\n",
      "Tire_Size\n",
      "Tire_Size\n",
      "None or Unspecified    47823\n",
      "20.5                   15773\n",
      "14\"                     9111\n",
      "23.5                    8760\n",
      "26.5                    4635\n",
      "17.5                    3971\n",
      "29.5                    2767\n",
      "17.5\"                   1815\n",
      "13\"                      776\n",
      "20.5\"                    737\n",
      "15.5                     610\n",
      "15.5\"                    463\n",
      "23.5\"                    309\n",
      "7.0\"                      56\n",
      "23.1\"                     20\n",
      "10\"                        9\n",
      "10 inch                    3\n",
      "Name: count, dtype: int64\n",
      "\n",
      "\n",
      "Coupler\n",
      "Coupler\n",
      "None or Unspecified    190449\n",
      "Manual                  23918\n",
      "Hydraulic                6312\n",
      "Name: count, dtype: int64\n",
      "\n",
      "\n",
      "Coupler_System\n",
      "Coupler_System\n",
      "None or Unspecified    41727\n",
      "Yes                     3247\n",
      "Name: count, dtype: int64\n",
      "\n",
      "\n",
      "Grouser_Tracks\n",
      "Grouser_Tracks\n",
      "None or Unspecified    41820\n",
      "Yes                     3055\n",
      "Name: count, dtype: int64\n",
      "\n",
      "\n",
      "Hydraulics_Flow\n",
      "Hydraulics_Flow\n",
      "Standard               44251\n",
      "High Flow                597\n",
      "None or Unspecified       27\n",
      "Name: count, dtype: int64\n",
      "\n",
      "\n",
      "Track_Type\n",
      "Track_Type\n",
      "Steel     87463\n",
      "Rubber    14730\n",
      "Name: count, dtype: int64\n",
      "\n",
      "\n",
      "Undercarriage_Pad_Width\n",
      "Undercarriage_Pad_Width\n",
      "None or Unspecified    82444\n",
      "32 inch                 5287\n",
      "28 inch                 3152\n",
      "24 inch                 2998\n",
      "20 inch                 2664\n",
      "30 inch                 1602\n",
      "36 inch                 1544\n",
      "18 inch                 1439\n",
      "34 inch                  540\n",
      "16 inch                  481\n",
      "31 inch                  191\n",
      "27 inch                  144\n",
      "22 inch                  135\n",
      "26 inch                   98\n",
      "33 inch                   94\n",
      "14 inch                   51\n",
      "15 inch                   33\n",
      "25 inch                   17\n",
      "31.5 inch                  2\n",
      "Name: count, dtype: int64\n",
      "\n",
      "\n",
      "Stick_Length\n",
      "Stick_Length\n",
      "None or Unspecified    81539\n",
      "9' 6\"                   5832\n",
      "10' 6\"                  3519\n",
      "11' 0\"                  1601\n",
      "9' 10\"                  1463\n",
      "9' 8\"                   1462\n",
      "9' 7\"                   1423\n",
      "12' 10\"                 1087\n",
      "10' 2\"                  1004\n",
      "8' 6\"                    908\n",
      "8' 2\"                    614\n",
      "10' 10\"                  414\n",
      "12' 8\"                   322\n",
      "11' 10\"                  307\n",
      "8' 4\"                    274\n",
      "8' 10\"                   104\n",
      "12' 4\"                   103\n",
      "9' 5\"                    101\n",
      "15' 9\"                    87\n",
      "6' 3\"                     51\n",
      "13' 7\"                    11\n",
      "14' 1\"                     7\n",
      "13' 10\"                    7\n",
      "13' 9\"                     7\n",
      "19' 8\"                     5\n",
      "7' 10\"                     3\n",
      "15' 4\"                     3\n",
      "24' 3\"                     2\n",
      "9' 2\"                      1\n",
      "Name: count, dtype: int64\n",
      "\n",
      "\n",
      "Thumb\n",
      "Thumb\n",
      "None or Unspecified    85074\n",
      "Manual                  9678\n",
      "Hydraulic               7580\n",
      "Name: count, dtype: int64\n",
      "\n",
      "\n",
      "Pattern_Changer\n",
      "Pattern_Changer\n",
      "None or Unspecified    92924\n",
      "Yes                     9269\n",
      "No                        68\n",
      "Name: count, dtype: int64\n",
      "\n",
      "\n",
      "Grouser_Type\n",
      "Grouser_Type\n",
      "Double    86998\n",
      "Triple    15193\n",
      "Single        2\n",
      "Name: count, dtype: int64\n",
      "\n",
      "\n",
      "Backhoe_Mounting\n",
      "Backhoe_Mounting\n",
      "None or Unspecified    80692\n",
      "Yes                       20\n",
      "Name: count, dtype: int64\n",
      "\n",
      "\n",
      "Blade_Type\n",
      "Blade_Type\n",
      "PAT                    39633\n",
      "Straight               13461\n",
      "None or Unspecified    11841\n",
      "Semi U                  8907\n",
      "VPAT                    3681\n",
      "U                       1888\n",
      "Angle                   1684\n",
      "No                       743\n",
      "Landfill                  26\n",
      "Coal                      11\n",
      "Name: count, dtype: int64\n",
      "\n",
      "\n",
      "Travel_Controls\n",
      "Travel_Controls\n",
      "None or Unspecified    71447\n",
      "Differential Steer      5257\n",
      "Finger Tip              2693\n",
      "2 Pedal                 1144\n",
      "Lever                    902\n",
      "Pedal                    423\n",
      "1 Speed                   11\n",
      "Name: count, dtype: int64\n",
      "\n",
      "\n",
      "Differential_Type\n",
      "Differential_Type\n",
      "Standard        70169\n",
      "Limited Slip     1181\n",
      "No Spin           212\n",
      "Locking             2\n",
      "Name: count, dtype: int64\n",
      "\n",
      "\n",
      "Steering_Controls\n",
      "Steering_Controls\n",
      "Conventional           70774\n",
      "Command Control          594\n",
      "Four Wheel Standard      139\n",
      "Wheel                     14\n",
      "No                         1\n",
      "Name: count, dtype: int64\n"
     ]
    }
   ],
   "source": [
    "### Displaying values from columns which contains null values\n",
    "for col in df_cp.columns:\n",
    "    if df_cp[col].dtypes == object:\n",
    "        if df_cp[col].isna().sum() > 0:\n",
    "            print('\\n')\n",
    "            print(col)\n",
    "            ### Print dinstinct value counts\n",
    "            val = df_cp[col].value_counts()\n",
    "            print(val)"
   ]
  },
  {
   "cell_type": "markdown",
   "id": "950f89e9",
   "metadata": {},
   "source": [
    "From above sample it can be observed that there is a 'None or Unspecified' value present in various columns. So, let's convert them to Null values."
   ]
  },
  {
   "cell_type": "code",
   "execution_count": 6,
   "id": "b7a19391",
   "metadata": {},
   "outputs": [],
   "source": [
    "### Changing 'None or Unspecified' to None\n",
    "for col in df_cp.columns:\n",
    "    df_cp[col].mask(df_cp[col] == 'None or Unspecified',None,inplace=True)"
   ]
  },
  {
   "cell_type": "code",
   "execution_count": 16,
   "id": "289fa5e3",
   "metadata": {},
   "outputs": [
    {
     "name": "stdout",
     "output_type": "stream",
     "text": [
      "\n",
      "\n",
      "UsageBand\n",
      "UsageBand\n",
      "Medium    35832\n",
      "Low       25311\n",
      "High      12527\n",
      "Name: count, dtype: int64\n",
      "\n",
      "\n",
      "fiSecondaryDesc\n",
      "fiSecondaryDesc\n",
      "C         44431\n",
      "B         40165\n",
      "G         37915\n",
      "H         24729\n",
      "E         21532\n",
      "          ...  \n",
      "BLGPPS        1\n",
      "MSR           1\n",
      "LC7A          1\n",
      "CL            1\n",
      "BH            1\n",
      "Name: count, Length: 177, dtype: int64\n",
      "\n",
      "\n",
      "fiModelSeries\n",
      "fiModelSeries\n",
      "II      13770\n",
      "LC       9175\n",
      "III      5351\n",
      "-1       4646\n",
      "-2       4033\n",
      "        ...  \n",
      "LL          1\n",
      "6F          1\n",
      "-2LC        1\n",
      "-5A         1\n",
      "VII         1\n",
      "Name: count, Length: 123, dtype: int64\n",
      "\n",
      "\n",
      "fiModelDescriptor\n",
      "fiModelDescriptor\n",
      "L            16464\n",
      "LGP          16143\n",
      "LC           13295\n",
      "XL            6700\n",
      "6             2944\n",
      "             ...  \n",
      "K5               1\n",
      "HighLift         1\n",
      "High Lift        1\n",
      "III              1\n",
      "SL               1\n",
      "Name: count, Length: 140, dtype: int64\n",
      "\n",
      "\n",
      "ProductSize\n",
      "ProductSize\n",
      "Medium            64342\n",
      "Large / Medium    51297\n",
      "Small             27057\n",
      "Mini              25721\n",
      "Large             21396\n",
      "Compact            6280\n",
      "Name: count, dtype: int64\n",
      "\n",
      "\n",
      "Drive_System\n",
      "Drive_System\n",
      "Two Wheel Drive     47546\n",
      "Four Wheel Drive    33551\n",
      "No                  25166\n",
      "All Wheel Drive       824\n",
      "Name: count, dtype: int64\n",
      "\n",
      "\n",
      "Enclosure\n",
      "Enclosure\n",
      "OROPS         177971\n",
      "EROPS         141769\n",
      "EROPS w AC     92601\n",
      "EROPS AC          18\n",
      "NO ROPS            3\n",
      "Name: count, dtype: int64\n",
      "\n",
      "\n",
      "Forks\n",
      "Forks\n",
      "Yes    14654\n",
      "Name: count, dtype: int64\n",
      "\n",
      "\n",
      "Pad_Type\n",
      "Pad_Type\n",
      "Reversible    5950\n",
      "Street        2725\n",
      "Grouser         26\n",
      "Name: count, dtype: int64\n",
      "\n",
      "\n",
      "Ride_Control\n",
      "Ride_Control\n",
      "No     79389\n",
      "Yes     8646\n",
      "Name: count, dtype: int64\n",
      "\n",
      "\n",
      "Stick\n",
      "Stick\n",
      "Standard    49854\n",
      "Extended    31242\n",
      "Name: count, dtype: int64\n",
      "\n",
      "\n",
      "Transmission\n",
      "Transmission\n",
      "Standard        143915\n",
      "Powershift       11991\n",
      "Powershuttle      4286\n",
      "Hydrostatic       3342\n",
      "Direct Drive       422\n",
      "Autoshift          118\n",
      "AutoShift           44\n",
      "Name: count, dtype: int64\n",
      "\n",
      "\n",
      "Turbocharged\n",
      "Turbocharged\n",
      "Yes    3985\n",
      "Name: count, dtype: int64\n",
      "\n",
      "\n",
      "Blade_Extension\n",
      "Blade_Extension\n",
      "Yes    577\n",
      "Name: count, dtype: int64\n",
      "\n",
      "\n",
      "Blade_Width\n",
      "Blade_Width\n",
      "14'     9867\n",
      "12'     5201\n",
      "16'      960\n",
      "13'      335\n",
      "<12'      99\n",
      "Name: count, dtype: int64\n",
      "\n",
      "\n",
      "Enclosure_Type\n",
      "Enclosure_Type\n",
      "Low Profile     2675\n",
      "High Profile     839\n",
      "Name: count, dtype: int64\n",
      "\n",
      "\n",
      "Engine_Horsepower\n",
      "Engine_Horsepower\n",
      "No          24642\n",
      "Variable     1341\n",
      "Name: count, dtype: int64\n",
      "\n",
      "\n",
      "Hydraulics\n",
      "Hydraulics\n",
      "2 Valve              145317\n",
      "Standard             106515\n",
      "Auxiliary             43224\n",
      "Base + 1 Function     25511\n",
      "3 Valve                5807\n",
      "4 Valve                3077\n",
      "Base + 3 Function       311\n",
      "Base + 2 Function       132\n",
      "Base + 5 Function        94\n",
      "Base + 4 Function        81\n",
      "Base + 6 Function        54\n",
      "Name: count, dtype: int64\n",
      "\n",
      "\n",
      "Pushblock\n",
      "Pushblock\n",
      "Yes    5966\n",
      "Name: count, dtype: int64\n",
      "\n",
      "\n",
      "Ripper\n",
      "Ripper\n",
      "Yes             8185\n",
      "Multi Shank     8071\n",
      "Single Shank    5284\n",
      "Name: count, dtype: int64\n",
      "\n",
      "\n",
      "Scarifier\n",
      "Scarifier\n",
      "Yes    12961\n",
      "Name: count, dtype: int64\n",
      "\n",
      "\n",
      "Tip_Control\n",
      "Tip_Control\n",
      "Sideshift & Tip    7164\n",
      "Tip                1987\n",
      "Name: count, dtype: int64\n",
      "\n",
      "\n",
      "Tire_Size\n",
      "Tire_Size\n",
      "20.5       15773\n",
      "14\"         9111\n",
      "23.5        8760\n",
      "26.5        4635\n",
      "17.5        3971\n",
      "29.5        2767\n",
      "17.5\"       1815\n",
      "13\"          776\n",
      "20.5\"        737\n",
      "15.5         610\n",
      "15.5\"        463\n",
      "23.5\"        309\n",
      "7.0\"          56\n",
      "23.1\"         20\n",
      "10\"            9\n",
      "10 inch        3\n",
      "Name: count, dtype: int64\n",
      "\n",
      "\n",
      "Coupler\n",
      "Coupler\n",
      "Manual       23918\n",
      "Hydraulic     6312\n",
      "Name: count, dtype: int64\n",
      "\n",
      "\n",
      "Coupler_System\n",
      "Coupler_System\n",
      "Yes    3247\n",
      "Name: count, dtype: int64\n",
      "\n",
      "\n",
      "Grouser_Tracks\n",
      "Grouser_Tracks\n",
      "Yes    3055\n",
      "Name: count, dtype: int64\n",
      "\n",
      "\n",
      "Hydraulics_Flow\n",
      "Hydraulics_Flow\n",
      "Standard     44251\n",
      "High Flow      597\n",
      "Name: count, dtype: int64\n",
      "\n",
      "\n",
      "Track_Type\n",
      "Track_Type\n",
      "Steel     87463\n",
      "Rubber    14730\n",
      "Name: count, dtype: int64\n",
      "\n",
      "\n",
      "Undercarriage_Pad_Width\n",
      "Undercarriage_Pad_Width\n",
      "32 inch      5287\n",
      "28 inch      3152\n",
      "24 inch      2998\n",
      "20 inch      2664\n",
      "30 inch      1602\n",
      "36 inch      1544\n",
      "18 inch      1439\n",
      "34 inch       540\n",
      "16 inch       481\n",
      "31 inch       191\n",
      "27 inch       144\n",
      "22 inch       135\n",
      "26 inch        98\n",
      "33 inch        94\n",
      "14 inch        51\n",
      "15 inch        33\n",
      "25 inch        17\n",
      "31.5 inch       2\n",
      "Name: count, dtype: int64\n",
      "\n",
      "\n",
      "Stick_Length\n",
      "Stick_Length\n",
      "9' 6\"      5832\n",
      "10' 6\"     3519\n",
      "11' 0\"     1601\n",
      "9' 10\"     1463\n",
      "9' 8\"      1462\n",
      "9' 7\"      1423\n",
      "12' 10\"    1087\n",
      "10' 2\"     1004\n",
      "8' 6\"       908\n",
      "8' 2\"       614\n",
      "10' 10\"     414\n",
      "12' 8\"      322\n",
      "11' 10\"     307\n",
      "8' 4\"       274\n",
      "8' 10\"      104\n",
      "12' 4\"      103\n",
      "9' 5\"       101\n",
      "15' 9\"       87\n",
      "6' 3\"        51\n",
      "13' 7\"       11\n",
      "14' 1\"        7\n",
      "13' 10\"       7\n",
      "13' 9\"        7\n",
      "19' 8\"        5\n",
      "7' 10\"        3\n",
      "15' 4\"        3\n",
      "24' 3\"        2\n",
      "9' 2\"         1\n",
      "Name: count, dtype: int64\n",
      "\n",
      "\n",
      "Thumb\n",
      "Thumb\n",
      "Manual       9678\n",
      "Hydraulic    7580\n",
      "Name: count, dtype: int64\n",
      "\n",
      "\n",
      "Pattern_Changer\n",
      "Pattern_Changer\n",
      "Yes    9269\n",
      "No       68\n",
      "Name: count, dtype: int64\n",
      "\n",
      "\n",
      "Grouser_Type\n",
      "Grouser_Type\n",
      "Double    86998\n",
      "Triple    15193\n",
      "Single        2\n",
      "Name: count, dtype: int64\n",
      "\n",
      "\n",
      "Backhoe_Mounting\n",
      "Backhoe_Mounting\n",
      "Yes    20\n",
      "Name: count, dtype: int64\n",
      "\n",
      "\n",
      "Blade_Type\n",
      "Blade_Type\n",
      "PAT         39633\n",
      "Straight    13461\n",
      "Semi U       8907\n",
      "VPAT         3681\n",
      "U            1888\n",
      "Angle        1684\n",
      "No            743\n",
      "Landfill       26\n",
      "Coal           11\n",
      "Name: count, dtype: int64\n",
      "\n",
      "\n",
      "Travel_Controls\n",
      "Travel_Controls\n",
      "Differential Steer    5257\n",
      "Finger Tip            2693\n",
      "2 Pedal               1144\n",
      "Lever                  902\n",
      "Pedal                  423\n",
      "1 Speed                 11\n",
      "Name: count, dtype: int64\n",
      "\n",
      "\n",
      "Differential_Type\n",
      "Differential_Type\n",
      "Standard        70169\n",
      "Limited Slip     1181\n",
      "No Spin           212\n",
      "Locking             2\n",
      "Name: count, dtype: int64\n",
      "\n",
      "\n",
      "Steering_Controls\n",
      "Steering_Controls\n",
      "Conventional           70774\n",
      "Command Control          594\n",
      "Four Wheel Standard      139\n",
      "Wheel                     14\n",
      "No                         1\n",
      "Name: count, dtype: int64\n"
     ]
    }
   ],
   "source": [
    "### Checking the column value counts again\n",
    "for col in df_cp.columns:\n",
    "    if df_cp[col].dtypes == object:\n",
    "        if df_cp[col].isna().sum() > 0:\n",
    "            print('\\n')\n",
    "            print(col)\n",
    "            val = df_cp[col].value_counts()\n",
    "            print(val)"
   ]
  },
  {
   "cell_type": "markdown",
   "id": "9daa0cdb",
   "metadata": {},
   "source": [
    "Let's check the percentage of null values present in each columns to understant and decide the approach to handle the missing data."
   ]
  },
  {
   "cell_type": "code",
   "execution_count": 17,
   "id": "ed32012b",
   "metadata": {
    "scrolled": false
   },
   "outputs": [
    {
     "data": {
      "text/plain": [
       "SalesID                      0.000000\n",
       "SalePrice                    0.000000\n",
       "MachineID                    0.000000\n",
       "ModelID                      0.000000\n",
       "datasource                   0.000000\n",
       "auctioneerID                 4.879113\n",
       "YearMade                     0.000000\n",
       "MachineHoursCurrentMeter    64.258610\n",
       "UsageBand                   82.149174\n",
       "saledate                     0.000000\n",
       "fiModelDesc                  0.000000\n",
       "fiBaseModel                  0.000000\n",
       "fiSecondaryDesc             34.099269\n",
       "fiModelSeries               85.784520\n",
       "fiModelDescriptor           81.871490\n",
       "ProductSize                 52.485110\n",
       "fiProductClassDesc           0.000000\n",
       "state                        0.000000\n",
       "ProductGroup                 0.000000\n",
       "ProductGroupDesc             0.000000\n",
       "Drive_System                74.051970\n",
       "Enclosure                    0.081415\n",
       "Forks                       96.449220\n",
       "Pad_Type                    97.891679\n",
       "Ride_Control                78.668421\n",
       "Stick                       80.349796\n",
       "Transmission                60.232906\n",
       "Turbocharged                99.034403\n",
       "Blade_Extension             99.860188\n",
       "Blade_Width                 96.011127\n",
       "Enclosure_Type              99.148530\n",
       "Engine_Horsepower           93.704113\n",
       "Hydraulics                  20.008578\n",
       "Pushblock                   98.554391\n",
       "Ripper                      94.780687\n",
       "Scarifier                   96.859447\n",
       "Tip_Control                 97.782640\n",
       "Tire_Size                   87.929430\n",
       "Coupler                     92.675031\n",
       "Coupler_System              99.213226\n",
       "Grouser_Tracks              99.259749\n",
       "Hydraulics_Flow             89.132974\n",
       "Track_Type                  75.237825\n",
       "Undercarriage_Pad_Width     95.039472\n",
       "Stick_Length                94.978895\n",
       "Thumb                       95.818250\n",
       "Pattern_Changer             97.737571\n",
       "Grouser_Type                75.237825\n",
       "Backhoe_Mounting            99.995154\n",
       "Blade_Type                  83.030206\n",
       "Travel_Controls             97.472728\n",
       "Differential_Type           82.659475\n",
       "Steering_Controls           82.669652\n",
       "dtype: float64"
      ]
     },
     "execution_count": 17,
     "metadata": {},
     "output_type": "execute_result"
    }
   ],
   "source": [
    "### Display the percentage of null values present in each column\n",
    "df_cp.isna().sum()*100/len(df)"
   ]
  },
  {
   "cell_type": "markdown",
   "id": "4adc36f4",
   "metadata": {},
   "source": [
    "We have a lot of columns with more than 50% null values. These features will reduce the accuracy of prediction. So, the best solution is to drop these columns"
   ]
  },
  {
   "cell_type": "code",
   "execution_count": 7,
   "id": "7527c307",
   "metadata": {},
   "outputs": [],
   "source": [
    "### Setting the benchmark to drop columns with more than 65% null values\n",
    "### Creating a list of all the columns that are dropped to duplicate it in the test data.\n",
    "droped_col = []\n",
    "for col in df_cp.columns:\n",
    "    if df_cp[col].isna().sum()*100/len(df_cp) > 65:\n",
    "        droped_col.append(col)\n",
    "        df_cp.drop(col,axis = 1,inplace = True)"
   ]
  },
  {
   "cell_type": "code",
   "execution_count": 19,
   "id": "9932b1e8",
   "metadata": {},
   "outputs": [
    {
     "name": "stdout",
     "output_type": "stream",
     "text": [
      "<class 'pandas.core.frame.DataFrame'>\n",
      "Index: 412698 entries, 205615 to 409203\n",
      "Data columns (total 20 columns):\n",
      " #   Column                    Non-Null Count   Dtype         \n",
      "---  ------                    --------------   -----         \n",
      " 0   SalesID                   412698 non-null  int64         \n",
      " 1   SalePrice                 412698 non-null  float64       \n",
      " 2   MachineID                 412698 non-null  int64         \n",
      " 3   ModelID                   412698 non-null  int64         \n",
      " 4   datasource                412698 non-null  int64         \n",
      " 5   auctioneerID              392562 non-null  float64       \n",
      " 6   YearMade                  412698 non-null  int64         \n",
      " 7   MachineHoursCurrentMeter  147504 non-null  float64       \n",
      " 8   saledate                  412698 non-null  datetime64[ns]\n",
      " 9   fiModelDesc               412698 non-null  object        \n",
      " 10  fiBaseModel               412698 non-null  object        \n",
      " 11  fiSecondaryDesc           271971 non-null  object        \n",
      " 12  ProductSize               196093 non-null  object        \n",
      " 13  fiProductClassDesc        412698 non-null  object        \n",
      " 14  state                     412698 non-null  object        \n",
      " 15  ProductGroup              412698 non-null  object        \n",
      " 16  ProductGroupDesc          412698 non-null  object        \n",
      " 17  Enclosure                 412362 non-null  object        \n",
      " 18  Transmission              164118 non-null  object        \n",
      " 19  Hydraulics                330123 non-null  object        \n",
      "dtypes: datetime64[ns](1), float64(3), int64(5), object(11)\n",
      "memory usage: 66.1+ MB\n"
     ]
    }
   ],
   "source": [
    "# df_cp.isna().sum()*100/len(df_cp)\n",
    "df_cp.info()"
   ]
  },
  {
   "cell_type": "markdown",
   "id": "b2c25c41",
   "metadata": {},
   "source": [
    "### Handling Missing Values in Numerical columns"
   ]
  },
  {
   "cell_type": "code",
   "execution_count": 20,
   "id": "1d29cb35",
   "metadata": {},
   "outputs": [
    {
     "data": {
      "text/plain": [
       "auctioneerID\n",
       "1.0     192773\n",
       "2.0      57441\n",
       "3.0      30288\n",
       "4.0      20877\n",
       "99.0     12042\n",
       "6.0      11950\n",
       "7.0       7847\n",
       "8.0       7419\n",
       "5.0       7002\n",
       "10.0      5876\n",
       "9.0       4764\n",
       "11.0      3823\n",
       "12.0      3610\n",
       "13.0      3068\n",
       "18.0      2359\n",
       "14.0      2277\n",
       "20.0      2238\n",
       "19.0      2074\n",
       "16.0      1807\n",
       "15.0      1742\n",
       "21.0      1601\n",
       "22.0      1429\n",
       "24.0      1357\n",
       "23.0      1322\n",
       "17.0      1275\n",
       "27.0      1150\n",
       "25.0       959\n",
       "28.0       860\n",
       "26.0       796\n",
       "0.0        536\n",
       "Name: count, dtype: int64"
      ]
     },
     "execution_count": 20,
     "metadata": {},
     "output_type": "execute_result"
    }
   ],
   "source": [
    "df_cp['auctioneerID'].value_counts()"
   ]
  },
  {
   "cell_type": "markdown",
   "id": "50870be9",
   "metadata": {},
   "source": [
    "Since, auctioneerID is only missing 4% value imputing the missing value will not create a bias. Thus, the way to handle auctioneerID will be to impute it with near by values."
   ]
  },
  {
   "cell_type": "code",
   "execution_count": 8,
   "id": "93078946",
   "metadata": {},
   "outputs": [],
   "source": [
    "### back filling null values\n",
    "df_cp['auctioneerID'].bfill(axis=0,inplace=True)"
   ]
  },
  {
   "cell_type": "code",
   "execution_count": 22,
   "id": "25d1e80a",
   "metadata": {},
   "outputs": [
    {
     "data": {
      "text/plain": [
       "0"
      ]
     },
     "execution_count": 22,
     "metadata": {},
     "output_type": "execute_result"
    }
   ],
   "source": [
    "df_cp['auctioneerID'].isna().sum()"
   ]
  },
  {
   "cell_type": "code",
   "execution_count": 9,
   "id": "2a5053b2",
   "metadata": {
    "scrolled": true
   },
   "outputs": [
    {
     "data": {
      "text/plain": [
       "count    1.475040e+05\n",
       "mean     3.522988e+03\n",
       "std      2.716993e+04\n",
       "min      0.000000e+00\n",
       "25%      0.000000e+00\n",
       "50%      0.000000e+00\n",
       "75%      3.209000e+03\n",
       "max      2.483300e+06\n",
       "Name: MachineHoursCurrentMeter, dtype: float64"
      ]
     },
     "execution_count": 9,
     "metadata": {},
     "output_type": "execute_result"
    }
   ],
   "source": [
    "df['MachineHoursCurrentMeter'].describe()"
   ]
  },
  {
   "cell_type": "code",
   "execution_count": 24,
   "id": "b754f708",
   "metadata": {
    "scrolled": false
   },
   "outputs": [
    {
     "data": {
      "text/plain": [
       "<AxesSubplot:xlabel='MachineHoursCurrentMeter'>"
      ]
     },
     "execution_count": 24,
     "metadata": {},
     "output_type": "execute_result"
    },
    {
     "data": {
      "image/png": "[encoded data removed]",
      "text/plain": [
       "<Figure size 432x288 with 1 Axes>"
      ]
     },
     "metadata": {
      "needs_background": "light"
     },
     "output_type": "display_data"
    }
   ],
   "source": [
    "sns.boxplot(x = df_cp['MachineHoursCurrentMeter'])"
   ]
  },
  {
   "cell_type": "code",
   "execution_count": 25,
   "id": "3c2c98b3",
   "metadata": {
    "scrolled": false
   },
   "outputs": [
    {
     "data": {
      "text/plain": [
       "<seaborn.axisgrid.PairGrid at 0x7fcd1c3982b0>"
      ]
     },
     "execution_count": 25,
     "metadata": {},
     "output_type": "execute_result"
    },
    {
     "data": {
      "image/png": "[encoded data removed]",
      "text/plain": [
       "<Figure size 1080x180 with 6 Axes>"
      ]
     },
     "metadata": {
      "needs_background": "light"
     },
     "output_type": "display_data"
    }
   ],
   "source": [
    "sns.pairplot(df_cp,x_vars = df_cp.columns[1:7],y_vars=df_cp.columns[7])"
   ]
  },
  {
   "cell_type": "code",
   "execution_count": 26,
   "id": "20c637f8",
   "metadata": {},
   "outputs": [],
   "source": [
    "corr_val = df_cp[['SalesID','MachineID','SalePrice','ModelID','datasource',\n",
    "                  'auctioneerID','YearMade','MachineHoursCurrentMeter']].corr()"
   ]
  },
  {
   "cell_type": "code",
   "execution_count": 27,
   "id": "5844e5c4",
   "metadata": {},
   "outputs": [
    {
     "data": {
      "text/plain": [
       "<AxesSubplot:>"
      ]
     },
     "execution_count": 27,
     "metadata": {},
     "output_type": "execute_result"
    },
    {
     "data": {
      "image/png": "[encoded data removed]",
      "text/plain": [
       "<Figure size 864x576 with 2 Axes>"
      ]
     },
     "metadata": {
      "needs_background": "light"
     },
     "output_type": "display_data"
    }
   ],
   "source": [
    "plt.figure(figsize=(12,8))\n",
    "sns.heatmap(corr_val,linewidths=.5)"
   ]
  },
  {
   "cell_type": "markdown",
   "id": "3d27de44",
   "metadata": {},
   "source": [
    "There is no strong correlation of MachineHoursCurrentMeter with any other numeric data. Furthermore, there are a lot of outliers in the data present. Thus, we are filling values with median since it is least sensitive to ourliers, compared to mean."
   ]
  },
  {
   "cell_type": "code",
   "execution_count": 10,
   "id": "521f84c7",
   "metadata": {},
   "outputs": [],
   "source": [
    "df_cp['MachineHoursCurrentMeter'].fillna(round(df['MachineHoursCurrentMeter'].mean(),2)\n",
    "                                         ,inplace=True)"
   ]
  },
  {
   "cell_type": "markdown",
   "id": "ae5fdac7",
   "metadata": {},
   "source": [
    "### Handling Missing Values in non-Numerical columns\n",
    "\n",
    "Check the non-numeric column with their null value percentage "
   ]
  },
  {
   "cell_type": "code",
   "execution_count": 29,
   "id": "54e8cc9d",
   "metadata": {
    "scrolled": false
   },
   "outputs": [
    {
     "name": "stdout",
     "output_type": "stream",
     "text": [
      "fiSecondaryDesc   34.09926871465333\n",
      "ProductSize   52.48511017741787\n",
      "Enclosure   0.08141546603085065\n",
      "Transmission   60.23290638675254\n",
      "Hydraulics   20.008577700885393\n"
     ]
    }
   ],
   "source": [
    "for col in df_cp.columns:\n",
    "    if df_cp[col].dtypes == object:\n",
    "        null_val = df_cp[col].isna().sum()*100/len(df_cp)\n",
    "        if null_val > 0:\n",
    "            print(col,' ', null_val)"
   ]
  },
  {
   "cell_type": "code",
   "execution_count": 30,
   "id": "fa07d919",
   "metadata": {},
   "outputs": [
    {
     "data": {
      "text/plain": [
       "Enclosure\n",
       "OROPS         177971\n",
       "EROPS         141769\n",
       "EROPS w AC     92601\n",
       "EROPS AC          18\n",
       "NO ROPS            3\n",
       "Name: count, dtype: int64"
      ]
     },
     "execution_count": 30,
     "metadata": {},
     "output_type": "execute_result"
    }
   ],
   "source": [
    "df_cp['Enclosure'].value_counts()"
   ]
  },
  {
   "cell_type": "code",
   "execution_count": 11,
   "id": "84a4c59e",
   "metadata": {},
   "outputs": [],
   "source": [
    "### Filling with absence value i.e No ROPS\n",
    "df_cp['Enclosure'].fillna('NO ROPS',inplace=True)"
   ]
  },
  {
   "cell_type": "code",
   "execution_count": 32,
   "id": "f5bfb33d",
   "metadata": {},
   "outputs": [
    {
     "data": {
      "text/plain": [
       "Transmission\n",
       "Standard        143915\n",
       "Powershift       11991\n",
       "Powershuttle      4286\n",
       "Hydrostatic       3342\n",
       "Direct Drive       422\n",
       "Autoshift          118\n",
       "AutoShift           44\n",
       "Name: count, dtype: int64"
      ]
     },
     "execution_count": 32,
     "metadata": {},
     "output_type": "execute_result"
    }
   ],
   "source": [
    "df_cp['Transmission'].value_counts()"
   ]
  },
  {
   "cell_type": "code",
   "execution_count": 12,
   "id": "a75e5ec4",
   "metadata": {},
   "outputs": [],
   "source": [
    "### Combining same value with different naming convention\n",
    "df_cp['Transmission'].mask(df_cp['Transmission'] == 'AutoShift','Autoshift',inplace = True)"
   ]
  },
  {
   "cell_type": "code",
   "execution_count": 13,
   "id": "b40125cd",
   "metadata": {},
   "outputs": [],
   "source": [
    "### Filling with the high frequency value\n",
    "df_cp['Transmission'].fillna('Standard',inplace=True)"
   ]
  },
  {
   "cell_type": "code",
   "execution_count": 35,
   "id": "a500dae1",
   "metadata": {},
   "outputs": [
    {
     "data": {
      "text/plain": [
       "Hydraulics\n",
       "2 Valve              145317\n",
       "Standard             106515\n",
       "Auxiliary             43224\n",
       "Base + 1 Function     25511\n",
       "3 Valve                5807\n",
       "4 Valve                3077\n",
       "Base + 3 Function       311\n",
       "Base + 2 Function       132\n",
       "Base + 5 Function        94\n",
       "Base + 4 Function        81\n",
       "Base + 6 Function        54\n",
       "Name: count, dtype: int64"
      ]
     },
     "execution_count": 35,
     "metadata": {},
     "output_type": "execute_result"
    }
   ],
   "source": [
    "df_cp['Hydraulics'].value_counts()"
   ]
  },
  {
   "cell_type": "code",
   "execution_count": 14,
   "id": "b6f37f48",
   "metadata": {},
   "outputs": [],
   "source": [
    "### Filling with the high frequency value\n",
    "df_cp['Hydraulics'].fillna(method='ffill',inplace=True)"
   ]
  },
  {
   "cell_type": "code",
   "execution_count": 37,
   "id": "b1e3548f",
   "metadata": {},
   "outputs": [
    {
     "data": {
      "text/html": [
       "<div>\n",
       "<style scoped>\n",
       "    .dataframe tbody tr th:only-of-type {\n",
       "        vertical-align: middle;\n",
       "    }\n",
       "\n",
       "    .dataframe tbody tr th {\n",
       "        vertical-align: top;\n",
       "    }\n",
       "\n",
       "    .dataframe thead th {\n",
       "        text-align: right;\n",
       "    }\n",
       "</style>\n",
       "<table border=\"1\" class=\"dataframe\">\n",
       "  <thead>\n",
       "    <tr style=\"text-align: right;\">\n",
       "      <th></th>\n",
       "      <th>ProductSize</th>\n",
       "      <th>ProductGroup</th>\n",
       "      <th>ProductGroupDesc</th>\n",
       "    </tr>\n",
       "  </thead>\n",
       "  <tbody>\n",
       "    <tr>\n",
       "      <th>205615</th>\n",
       "      <td>Medium</td>\n",
       "      <td>TTT</td>\n",
       "      <td>Track Type Tractors</td>\n",
       "    </tr>\n",
       "    <tr>\n",
       "      <th>274835</th>\n",
       "      <td>NaN</td>\n",
       "      <td>WL</td>\n",
       "      <td>Wheel Loader</td>\n",
       "    </tr>\n",
       "    <tr>\n",
       "      <th>141296</th>\n",
       "      <td>Large</td>\n",
       "      <td>TTT</td>\n",
       "      <td>Track Type Tractors</td>\n",
       "    </tr>\n",
       "    <tr>\n",
       "      <th>212552</th>\n",
       "      <td>NaN</td>\n",
       "      <td>WL</td>\n",
       "      <td>Wheel Loader</td>\n",
       "    </tr>\n",
       "    <tr>\n",
       "      <th>62755</th>\n",
       "      <td>NaN</td>\n",
       "      <td>TTT</td>\n",
       "      <td>Track Type Tractors</td>\n",
       "    </tr>\n",
       "    <tr>\n",
       "      <th>...</th>\n",
       "      <td>...</td>\n",
       "      <td>...</td>\n",
       "      <td>...</td>\n",
       "    </tr>\n",
       "    <tr>\n",
       "      <th>410879</th>\n",
       "      <td>NaN</td>\n",
       "      <td>TTT</td>\n",
       "      <td>Track Type Tractors</td>\n",
       "    </tr>\n",
       "    <tr>\n",
       "      <th>412476</th>\n",
       "      <td>NaN</td>\n",
       "      <td>SSL</td>\n",
       "      <td>Skid Steer Loaders</td>\n",
       "    </tr>\n",
       "    <tr>\n",
       "      <th>411927</th>\n",
       "      <td>Mini</td>\n",
       "      <td>TEX</td>\n",
       "      <td>Track Excavators</td>\n",
       "    </tr>\n",
       "    <tr>\n",
       "      <th>407124</th>\n",
       "      <td>NaN</td>\n",
       "      <td>MG</td>\n",
       "      <td>Motor Graders</td>\n",
       "    </tr>\n",
       "    <tr>\n",
       "      <th>409203</th>\n",
       "      <td>NaN</td>\n",
       "      <td>WL</td>\n",
       "      <td>Wheel Loader</td>\n",
       "    </tr>\n",
       "  </tbody>\n",
       "</table>\n",
       "<p>412698 rows × 3 columns</p>\n",
       "</div>"
      ],
      "text/plain": [
       "       ProductSize ProductGroup     ProductGroupDesc\n",
       "205615      Medium          TTT  Track Type Tractors\n",
       "274835         NaN           WL         Wheel Loader\n",
       "141296       Large          TTT  Track Type Tractors\n",
       "212552         NaN           WL         Wheel Loader\n",
       "62755          NaN          TTT  Track Type Tractors\n",
       "...            ...          ...                  ...\n",
       "410879         NaN          TTT  Track Type Tractors\n",
       "412476         NaN          SSL   Skid Steer Loaders\n",
       "411927        Mini          TEX     Track Excavators\n",
       "407124         NaN           MG        Motor Graders\n",
       "409203         NaN           WL         Wheel Loader\n",
       "\n",
       "[412698 rows x 3 columns]"
      ]
     },
     "execution_count": 37,
     "metadata": {},
     "output_type": "execute_result"
    }
   ],
   "source": [
    "df_cp[['ProductSize','ProductGroup','ProductGroupDesc']]"
   ]
  },
  {
   "cell_type": "markdown",
   "id": "02d491d3",
   "metadata": {},
   "source": [
    "Here it can be observed that Product Group Description is a redundant column. So, I will drop it.\n",
    "\n",
    "Let's first explore the relation between `ProductSize`, `ProductGroup`, and `SalePrice`. This will help me to impute data."
   ]
  },
  {
   "cell_type": "code",
   "execution_count": 38,
   "id": "341f74fa",
   "metadata": {},
   "outputs": [
    {
     "name": "stderr",
     "output_type": "stream",
     "text": [
      "/Users/Anushka/opt/anaconda3/lib/python3.8/site-packages/seaborn/_decorators.py:36: FutureWarning: Pass the following variable as a keyword arg: x. From version 0.12, the only valid positional argument will be `data`, and passing other arguments without an explicit keyword will result in an error or misinterpretation.\n",
      "  warnings.warn(\n"
     ]
    },
    {
     "data": {
      "text/plain": [
       "<AxesSubplot:xlabel='ProductSize', ylabel='SalePrice'>"
      ]
     },
     "execution_count": 38,
     "metadata": {},
     "output_type": "execute_result"
    },
    {
     "data": {
      "image/png": "[encoded data removed]",
      "text/plain": [
       "<Figure size 432x288 with 1 Axes>"
      ]
     },
     "metadata": {
      "needs_background": "light"
     },
     "output_type": "display_data"
    }
   ],
   "source": [
    "sns.stripplot(df_cp['ProductSize'],y = df_cp['SalePrice'],hue=df_cp['ProductGroup'])"
   ]
  },
  {
   "cell_type": "code",
   "execution_count": 39,
   "id": "5bd87e1e",
   "metadata": {},
   "outputs": [
    {
     "name": "stderr",
     "output_type": "stream",
     "text": [
      "/Users/Anushka/opt/anaconda3/lib/python3.8/site-packages/seaborn/_decorators.py:36: FutureWarning: Pass the following variable as a keyword arg: x. From version 0.12, the only valid positional argument will be `data`, and passing other arguments without an explicit keyword will result in an error or misinterpretation.\n",
      "  warnings.warn(\n"
     ]
    },
    {
     "data": {
      "text/plain": [
       "<AxesSubplot:xlabel='ProductGroup', ylabel='SalePrice'>"
      ]
     },
     "execution_count": 39,
     "metadata": {},
     "output_type": "execute_result"
    },
    {
     "data": {
      "image/png": "[encoded data removed]",
      "text/plain": [
       "<Figure size 432x288 with 1 Axes>"
      ]
     },
     "metadata": {
      "needs_background": "light"
     },
     "output_type": "display_data"
    }
   ],
   "source": [
    "sns.stripplot(df_cp['ProductGroup'],y = df_cp['SalePrice'],hue=df_cp['ProductSize'])"
   ]
  },
  {
   "cell_type": "markdown",
   "id": "f47c67f7",
   "metadata": {},
   "source": [
    "The above two plot indicate that `TTT` and `WL` have majority **medium** size product. Whereas, `TEX` has Majority of **Large/Medium** sized product. So we will impute the missing value based on the mode of the product group."
   ]
  },
  {
   "cell_type": "code",
   "execution_count": 15,
   "id": "e567a25a",
   "metadata": {},
   "outputs": [
    {
     "name": "stderr",
     "output_type": "stream",
     "text": [
      "<ipython-input-15-ce9992700b86>:1: SettingWithCopyWarning: \n",
      "A value is trying to be set on a copy of a slice from a DataFrame\n",
      "\n",
      "See the caveats in the documentation: https://pandas.pydata.org/pandas-docs/stable/user_guide/indexing.html#returning-a-view-versus-a-copy\n",
      "  df_cp[df_cp['ProductGroup']=='TTT']['ProductSize'].fillna('Medium',inplace = True)\n",
      "<ipython-input-15-ce9992700b86>:2: SettingWithCopyWarning: \n",
      "A value is trying to be set on a copy of a slice from a DataFrame\n",
      "\n",
      "See the caveats in the documentation: https://pandas.pydata.org/pandas-docs/stable/user_guide/indexing.html#returning-a-view-versus-a-copy\n",
      "  df_cp[df_cp['ProductGroup']=='WL']['ProductSize'].fillna('Medium',inplace = True)\n",
      "<ipython-input-15-ce9992700b86>:3: SettingWithCopyWarning: \n",
      "A value is trying to be set on a copy of a slice from a DataFrame\n",
      "\n",
      "See the caveats in the documentation: https://pandas.pydata.org/pandas-docs/stable/user_guide/indexing.html#returning-a-view-versus-a-copy\n",
      "  df_cp[df_cp['ProductGroup']=='TEX']['ProductSize'].fillna('Large / Medium',inplace = True)\n"
     ]
    }
   ],
   "source": [
    "df_cp[df_cp['ProductGroup']=='TTT']['ProductSize'].fillna('Medium',inplace = True)\n",
    "df_cp[df_cp['ProductGroup']=='WL']['ProductSize'].fillna('Medium',inplace = True)\n",
    "df_cp[df_cp['ProductGroup']=='TEX']['ProductSize'].fillna('Large / Medium',inplace = True)"
   ]
  },
  {
   "cell_type": "code",
   "execution_count": 16,
   "id": "0f2b7ca9",
   "metadata": {},
   "outputs": [],
   "source": [
    "### Filling the remaining value with the highest frequency value\n",
    "df_cp['ProductSize'].fillna('Medium',inplace = True)"
   ]
  },
  {
   "cell_type": "code",
   "execution_count": 42,
   "id": "aa599b64",
   "metadata": {},
   "outputs": [
    {
     "data": {
      "text/html": [
       "<div>\n",
       "<style scoped>\n",
       "    .dataframe tbody tr th:only-of-type {\n",
       "        vertical-align: middle;\n",
       "    }\n",
       "\n",
       "    .dataframe tbody tr th {\n",
       "        vertical-align: top;\n",
       "    }\n",
       "\n",
       "    .dataframe thead th {\n",
       "        text-align: right;\n",
       "    }\n",
       "</style>\n",
       "<table border=\"1\" class=\"dataframe\">\n",
       "  <thead>\n",
       "    <tr style=\"text-align: right;\">\n",
       "      <th></th>\n",
       "      <th>fiModelDesc</th>\n",
       "      <th>fiBaseModel</th>\n",
       "      <th>fiSecondaryDesc</th>\n",
       "    </tr>\n",
       "  </thead>\n",
       "  <tbody>\n",
       "    <tr>\n",
       "      <th>205615</th>\n",
       "      <td>TD20</td>\n",
       "      <td>TD20</td>\n",
       "      <td>NaN</td>\n",
       "    </tr>\n",
       "    <tr>\n",
       "      <th>274835</th>\n",
       "      <td>A66</td>\n",
       "      <td>A66</td>\n",
       "      <td>NaN</td>\n",
       "    </tr>\n",
       "    <tr>\n",
       "      <th>141296</th>\n",
       "      <td>D7G</td>\n",
       "      <td>D7</td>\n",
       "      <td>G</td>\n",
       "    </tr>\n",
       "    <tr>\n",
       "      <th>212552</th>\n",
       "      <td>A62</td>\n",
       "      <td>A62</td>\n",
       "      <td>NaN</td>\n",
       "    </tr>\n",
       "    <tr>\n",
       "      <th>62755</th>\n",
       "      <td>D3B</td>\n",
       "      <td>D3</td>\n",
       "      <td>B</td>\n",
       "    </tr>\n",
       "    <tr>\n",
       "      <th>54653</th>\n",
       "      <td>D6C</td>\n",
       "      <td>D6</td>\n",
       "      <td>C</td>\n",
       "    </tr>\n",
       "    <tr>\n",
       "      <th>81383</th>\n",
       "      <td>IT12</td>\n",
       "      <td>IT12</td>\n",
       "      <td>NaN</td>\n",
       "    </tr>\n",
       "    <tr>\n",
       "      <th>204924</th>\n",
       "      <td>544</td>\n",
       "      <td>544</td>\n",
       "      <td>NaN</td>\n",
       "    </tr>\n",
       "    <tr>\n",
       "      <th>135376</th>\n",
       "      <td>D5HII</td>\n",
       "      <td>D5</td>\n",
       "      <td>H</td>\n",
       "    </tr>\n",
       "    <tr>\n",
       "      <th>113390</th>\n",
       "      <td>12F</td>\n",
       "      <td>12</td>\n",
       "      <td>F</td>\n",
       "    </tr>\n",
       "    <tr>\n",
       "      <th>113394</th>\n",
       "      <td>12F</td>\n",
       "      <td>12</td>\n",
       "      <td>F</td>\n",
       "    </tr>\n",
       "    <tr>\n",
       "      <th>116419</th>\n",
       "      <td>225</td>\n",
       "      <td>225</td>\n",
       "      <td>NaN</td>\n",
       "    </tr>\n",
       "    <tr>\n",
       "      <th>32138</th>\n",
       "      <td>580</td>\n",
       "      <td>580</td>\n",
       "      <td>NaN</td>\n",
       "    </tr>\n",
       "    <tr>\n",
       "      <th>127610</th>\n",
       "      <td>950</td>\n",
       "      <td>950</td>\n",
       "      <td>NaN</td>\n",
       "    </tr>\n",
       "    <tr>\n",
       "      <th>76171</th>\n",
       "      <td>980</td>\n",
       "      <td>980</td>\n",
       "      <td>NaN</td>\n",
       "    </tr>\n",
       "  </tbody>\n",
       "</table>\n",
       "</div>"
      ],
      "text/plain": [
       "       fiModelDesc fiBaseModel fiSecondaryDesc\n",
       "205615        TD20        TD20             NaN\n",
       "274835         A66         A66             NaN\n",
       "141296         D7G          D7               G\n",
       "212552         A62         A62             NaN\n",
       "62755          D3B          D3               B\n",
       "54653          D6C          D6               C\n",
       "81383         IT12        IT12             NaN\n",
       "204924         544         544             NaN\n",
       "135376       D5HII          D5               H\n",
       "113390         12F          12               F\n",
       "113394         12F          12               F\n",
       "116419         225         225             NaN\n",
       "32138          580         580             NaN\n",
       "127610         950         950             NaN\n",
       "76171          980         980             NaN"
      ]
     },
     "execution_count": 42,
     "metadata": {},
     "output_type": "execute_result"
    }
   ],
   "source": [
    "df_cp[['fiModelDesc','fiBaseModel','fiSecondaryDesc']][:15]"
   ]
  },
  {
   "cell_type": "code",
   "execution_count": 43,
   "id": "d5311436",
   "metadata": {
    "scrolled": false
   },
   "outputs": [
    {
     "data": {
      "text/plain": [
       "fiSecondaryDesc\n",
       "C         44431\n",
       "B         40165\n",
       "G         37915\n",
       "H         24729\n",
       "E         21532\n",
       "          ...  \n",
       "BLGPPS        1\n",
       "MSR           1\n",
       "LC7A          1\n",
       "CL            1\n",
       "BH            1\n",
       "Name: count, Length: 177, dtype: int64"
      ]
     },
     "execution_count": 43,
     "metadata": {},
     "output_type": "execute_result"
    }
   ],
   "source": [
    "df_cp['fiSecondaryDesc'].value_counts()"
   ]
  },
  {
   "cell_type": "markdown",
   "id": "388742d8",
   "metadata": {},
   "source": [
    "Since the null values in 'fiSecondaryDesc' are not missing but are related to the fiModelDesc feature. Imputing it with some value is not the ideal solution. To handle the Null values we will first convert the column to categorical value and the set the Null values with 0.\n",
    "\n",
    "\n",
    "fiModelDesc and ProductGroupDesc are redundant columns thus. Dropping them will be a ideal."
   ]
  },
  {
   "cell_type": "code",
   "execution_count": 17,
   "id": "a8714b0b",
   "metadata": {},
   "outputs": [],
   "source": [
    "### Adding the columns to the list of dropped columns\n",
    "droped_col.extend(['fiModelDesc','ProductGroupDesc'])\n",
    "\n",
    "### Dropping the columns\n",
    "df_cp.drop(['fiModelDesc','ProductGroupDesc'],axis = 1, inplace =True)"
   ]
  },
  {
   "cell_type": "markdown",
   "id": "d87a5a95",
   "metadata": {},
   "source": [
    "## Feature Encoding\n",
    "Since, Machine Learning modules cannot process string type data, we need to convert them into data types, that can be processed by them.\n",
    "Now, we are going to convert all string type data into numeric form using various method depending on the attribute."
   ]
  },
  {
   "cell_type": "code",
   "execution_count": 45,
   "id": "5677c2f5",
   "metadata": {},
   "outputs": [
    {
     "name": "stdout",
     "output_type": "stream",
     "text": [
      "fiBaseModel\n",
      "fiBaseModel\n",
      "580      20179\n",
      "310      17886\n",
      "D6       13527\n",
      "416      12900\n",
      "D5        9636\n",
      "         ...  \n",
      "56           1\n",
      "B4230        1\n",
      "IS30         1\n",
      "MM555        1\n",
      "WLK15        1\n",
      "Name: count, Length: 1961, dtype: int64\n",
      "fiSecondaryDesc\n",
      "fiSecondaryDesc\n",
      "C         44431\n",
      "B         40165\n",
      "G         37915\n",
      "H         24729\n",
      "E         21532\n",
      "          ...  \n",
      "BLGPPS        1\n",
      "MSR           1\n",
      "LC7A          1\n",
      "CL            1\n",
      "BH            1\n",
      "Name: count, Length: 177, dtype: int64\n",
      "ProductSize\n",
      "ProductSize\n",
      "Medium            280947\n",
      "Large / Medium     51297\n",
      "Small              27057\n",
      "Mini               25721\n",
      "Large              21396\n",
      "Compact             6280\n",
      "Name: count, dtype: int64\n",
      "fiProductClassDesc\n",
      "fiProductClassDesc\n",
      "Backhoe Loader - 14.0 to 15.0 Ft Standard Digging Depth             57542\n",
      "Track Type Tractor, Dozer - 20.0 to 75.0 Horsepower                 18131\n",
      "Wheel Loader - 150.0 to 175.0 Horsepower                            15537\n",
      "Track Type Tractor, Dozer - 85.0 to 105.0 Horsepower                15161\n",
      "Hydraulic Excavator, Track - 21.0 to 24.0 Metric Tons               13736\n",
      "                                                                    ...  \n",
      "Hydraulic Excavator, Track - Unidentified (Compact Construction)       38\n",
      "Wheel Loader - 1000.0 + Horsepower                                     25\n",
      "Hydraulic Excavator, Track - 150.0 to 300.0 Metric Tons                21\n",
      "Hydraulic Excavator, Track - 300.0 + Metric Tons                        1\n",
      "Motorgrader - Unidentified                                              1\n",
      "Name: count, Length: 74, dtype: int64\n",
      "state\n",
      "state\n",
      "Florida           67320\n",
      "Texas             53110\n",
      "California        29761\n",
      "Washington        16222\n",
      "Georgia           14633\n",
      "Maryland          13322\n",
      "Mississippi       13240\n",
      "Ohio              12369\n",
      "Illinois          11540\n",
      "Colorado          11529\n",
      "New Jersey        11156\n",
      "North Carolina    10636\n",
      "Tennessee         10298\n",
      "Alabama           10292\n",
      "Pennsylvania      10234\n",
      "South Carolina     9951\n",
      "Arizona            9364\n",
      "New York           8639\n",
      "Connecticut        8276\n",
      "Minnesota          7885\n",
      "Missouri           7178\n",
      "Nevada             6932\n",
      "Louisiana          6627\n",
      "Kentucky           5351\n",
      "Maine              5096\n",
      "Indiana            4124\n",
      "Arkansas           3933\n",
      "New Mexico         3631\n",
      "Utah               3046\n",
      "Unspecified        2801\n",
      "Wisconsin          2745\n",
      "New Hampshire      2738\n",
      "Virginia           2353\n",
      "Idaho              2025\n",
      "Oregon             1911\n",
      "Michigan           1831\n",
      "Wyoming            1672\n",
      "Montana            1336\n",
      "Iowa               1336\n",
      "Oklahoma           1326\n",
      "Nebraska            866\n",
      "West Virginia       840\n",
      "Kansas              667\n",
      "Delaware            510\n",
      "North Dakota        480\n",
      "Alaska              430\n",
      "Massachusetts       347\n",
      "Vermont             300\n",
      "South Dakota        244\n",
      "Hawaii              118\n",
      "Rhode Island         83\n",
      "Puerto Rico          42\n",
      "Washington DC         2\n",
      "Name: count, dtype: int64\n",
      "ProductGroup\n",
      "ProductGroup\n",
      "TEX    104230\n",
      "TTT     82582\n",
      "BL      81401\n",
      "WL      73216\n",
      "SSL     45011\n",
      "MG      26258\n",
      "Name: count, dtype: int64\n",
      "Enclosure\n",
      "Enclosure\n",
      "OROPS         177971\n",
      "EROPS         141769\n",
      "EROPS w AC     92601\n",
      "NO ROPS          339\n",
      "EROPS AC          18\n",
      "Name: count, dtype: int64\n",
      "Transmission\n",
      "Transmission\n",
      "Standard        392495\n",
      "Powershift       11991\n",
      "Powershuttle      4286\n",
      "Hydrostatic       3342\n",
      "Direct Drive       422\n",
      "Autoshift          162\n",
      "Name: count, dtype: int64\n",
      "Hydraulics\n",
      "Hydraulics\n",
      "2 Valve              227892\n",
      "Standard             106515\n",
      "Auxiliary             43224\n",
      "Base + 1 Function     25511\n",
      "3 Valve                5807\n",
      "4 Valve                3077\n",
      "Base + 3 Function       311\n",
      "Base + 2 Function       132\n",
      "Base + 5 Function        94\n",
      "Base + 4 Function        81\n",
      "Base + 6 Function        54\n",
      "Name: count, dtype: int64\n"
     ]
    }
   ],
   "source": [
    "### Value counts of object type features\n",
    "for col in df_cp.columns:\n",
    "    if df_cp[col].dtypes == object:\n",
    "        print(col)\n",
    "        print(df_cp[col].value_counts())"
   ]
  },
  {
   "cell_type": "markdown",
   "id": "08b20e44",
   "metadata": {},
   "source": [
    "### Binning features with >15 cardinality \n",
    "\n",
    "Binning features with >15 and <100 cardinality will reduce the number of unique values in the column. This will reduce the number of encoded columns in the dataset."
   ]
  },
  {
   "cell_type": "code",
   "execution_count": 18,
   "id": "6c7e8fde",
   "metadata": {},
   "outputs": [],
   "source": [
    "## Define function for grouping state into categories\n",
    "def bin_state(state):\n",
    "    \n",
    "    # check if Northeast state\n",
    "    if state in ['Connecticut', 'Maine', 'Massachusetts', 'New Hampshire','Rhode Island', 'Vermont',\n",
    "                'New Jersey','New York', 'Pennsylvania']:\n",
    "        return 'Northeast'\n",
    "    \n",
    "    # check if Southern state\n",
    "    elif state in ['Delaware', 'Florida', 'Georgia', 'Maryland', 'North Carolina', 'South Carolina', 'Virginia',\n",
    "                    'Washington DC', 'West Virginia', 'Alabama', 'Kentucky', 'Mississippi',\n",
    "                    'Tennessee','Arkansas', 'Louisiana', 'Oklahoma', 'Texas']:\n",
    "        return 'South'\n",
    "    # check if Midwest state\n",
    "    elif state in ['Illinois', 'Indiana', 'Michigan', 'Ohio', 'Wisconsin', 'Iowa', 'Kansas', \n",
    "                   'Minnesota', 'Missouri', 'Nebraska', 'North Dakota', 'South Dakota']:\n",
    "        return 'Midwest'\n",
    "    # check if Western state\n",
    "    elif state in ['Arizona', 'Colorado', 'Idaho', 'Montana', 'Nevada', 'New Mexico', 'Utah',\n",
    "                   'Wyoming' , 'Alaska', 'California', 'Hawaii', 'Oregon', 'Washington']:\n",
    "        return 'West'\n",
    "    \n",
    "    # Remaining are categorised as other\n",
    "    else:\n",
    "        return 'Other'"
   ]
  },
  {
   "cell_type": "code",
   "execution_count": 19,
   "id": "6757f9f3",
   "metadata": {},
   "outputs": [],
   "source": [
    "### Binning the states using the above function\n",
    "df_cp['region'] = df_cp['state'].apply(bin_state)\n",
    "df_cp.drop('state',axis =1, inplace = True)"
   ]
  },
  {
   "cell_type": "markdown",
   "id": "bb7b87bb",
   "metadata": {},
   "source": [
    "### Ordinal Encoding\n",
    "\n",
    "Let's check features with cardinality <=6 if they have any order(trend) with sale price"
   ]
  },
  {
   "cell_type": "code",
   "execution_count": 48,
   "id": "41fe59f4",
   "metadata": {},
   "outputs": [
    {
     "name": "stderr",
     "output_type": "stream",
     "text": [
      "/Users/Anushka/opt/anaconda3/lib/python3.8/site-packages/seaborn/_decorators.py:36: FutureWarning: Pass the following variable as a keyword arg: x. From version 0.12, the only valid positional argument will be `data`, and passing other arguments without an explicit keyword will result in an error or misinterpretation.\n",
      "  warnings.warn(\n"
     ]
    },
    {
     "data": {
      "text/plain": [
       "<AxesSubplot:xlabel='Enclosure', ylabel='SalePrice'>"
      ]
     },
     "execution_count": 48,
     "metadata": {},
     "output_type": "execute_result"
    },
    {
     "data": {
      "image/png": "[encoded data removed]",
      "text/plain": [
       "<Figure size 432x288 with 1 Axes>"
      ]
     },
     "metadata": {
      "needs_background": "light"
     },
     "output_type": "display_data"
    }
   ],
   "source": [
    "sns.stripplot(df_cp['Enclosure'],y = df_cp['SalePrice'])"
   ]
  },
  {
   "cell_type": "code",
   "execution_count": 49,
   "id": "757f3d30",
   "metadata": {},
   "outputs": [
    {
     "name": "stderr",
     "output_type": "stream",
     "text": [
      "/Users/Anushka/opt/anaconda3/lib/python3.8/site-packages/seaborn/_decorators.py:36: FutureWarning: Pass the following variable as a keyword arg: x. From version 0.12, the only valid positional argument will be `data`, and passing other arguments without an explicit keyword will result in an error or misinterpretation.\n",
      "  warnings.warn(\n"
     ]
    },
    {
     "data": {
      "text/plain": [
       "<AxesSubplot:xlabel='Transmission', ylabel='SalePrice'>"
      ]
     },
     "execution_count": 49,
     "metadata": {},
     "output_type": "execute_result"
    },
    {
     "data": {
      "image/png": "[encoded data removed]",
      "text/plain": [
       "<Figure size 432x288 with 1 Axes>"
      ]
     },
     "metadata": {
      "needs_background": "light"
     },
     "output_type": "display_data"
    }
   ],
   "source": [
    "sns.stripplot(df_cp['Transmission'],y = df_cp['SalePrice'])"
   ]
  },
  {
   "cell_type": "code",
   "execution_count": 50,
   "id": "db04e1c4",
   "metadata": {},
   "outputs": [
    {
     "name": "stderr",
     "output_type": "stream",
     "text": [
      "/Users/Anushka/opt/anaconda3/lib/python3.8/site-packages/seaborn/_decorators.py:36: FutureWarning: Pass the following variable as a keyword arg: x. From version 0.12, the only valid positional argument will be `data`, and passing other arguments without an explicit keyword will result in an error or misinterpretation.\n",
      "  warnings.warn(\n"
     ]
    },
    {
     "data": {
      "text/plain": [
       "<AxesSubplot:xlabel='ProductSize', ylabel='SalePrice'>"
      ]
     },
     "execution_count": 50,
     "metadata": {},
     "output_type": "execute_result"
    },
    {
     "data": {
      "image/png": "[encoded data removed]",
      "text/plain": [
       "<Figure size 432x288 with 1 Axes>"
      ]
     },
     "metadata": {
      "needs_background": "light"
     },
     "output_type": "display_data"
    }
   ],
   "source": [
    "sns.stripplot(df_cp['ProductSize'],y = df_cp['SalePrice'])"
   ]
  },
  {
   "cell_type": "markdown",
   "id": "c1ecfd6d",
   "metadata": {},
   "source": [
    "Encoding the `ProductSize`, `Enclosure`, and `Transmission` column with ordinal encoding to maintain the independent order of the values."
   ]
  },
  {
   "cell_type": "code",
   "execution_count": 20,
   "id": "2c3d03b6",
   "metadata": {},
   "outputs": [],
   "source": [
    "### Creating a encoding order grid according the trends witnessed with salePrice in the above plots \n",
    "encoding_order = {'ProductSize':[['Medium','Large','Large / Medium','Small','Mini','Compact']],\n",
    "            'Enclosure':[['EROPS w AC','EROPS','OROPS','NO ROPS','EROPS AC']],\n",
    "            'Transmission':[['Powershift','Standard','Autoshift','Hydrostatic','Direct Drive','Powershuttle']]}"
   ]
  },
  {
   "cell_type": "code",
   "execution_count": 21,
   "id": "e95ac0a8",
   "metadata": {},
   "outputs": [],
   "source": [
    "for key, value in encoding_order.items():\n",
    "    ### Using Ordinal Encoder class\n",
    "    o_enc = OrdinalEncoder(categories=value)\n",
    "    ### Using Fit-transform to simultaneously fit the data and transfrom it\n",
    "    df_cp[key + '_Enc'] = o_enc.fit_transform(df_cp[[key]])\n",
    "    ### Dropping the original  column post encoding\n",
    "    df_cp.drop(key,axis = 1,inplace = True)"
   ]
  },
  {
   "cell_type": "code",
   "execution_count": 53,
   "id": "9236e3e1",
   "metadata": {},
   "outputs": [
    {
     "name": "stdout",
     "output_type": "stream",
     "text": [
      "<class 'pandas.core.frame.DataFrame'>\n",
      "Index: 412698 entries, 205615 to 409203\n",
      "Data columns (total 18 columns):\n",
      " #   Column                    Non-Null Count   Dtype         \n",
      "---  ------                    --------------   -----         \n",
      " 0   SalesID                   412698 non-null  int64         \n",
      " 1   SalePrice                 412698 non-null  float64       \n",
      " 2   MachineID                 412698 non-null  int64         \n",
      " 3   ModelID                   412698 non-null  int64         \n",
      " 4   datasource                412698 non-null  int64         \n",
      " 5   auctioneerID              412698 non-null  float64       \n",
      " 6   YearMade                  412698 non-null  int64         \n",
      " 7   MachineHoursCurrentMeter  412698 non-null  float64       \n",
      " 8   saledate                  412698 non-null  datetime64[ns]\n",
      " 9   fiBaseModel               412698 non-null  object        \n",
      " 10  fiSecondaryDesc           271971 non-null  object        \n",
      " 11  fiProductClassDesc        412698 non-null  object        \n",
      " 12  ProductGroup              412698 non-null  object        \n",
      " 13  Hydraulics                412698 non-null  object        \n",
      " 14  region                    412698 non-null  object        \n",
      " 15  ProductSize_Enc           412698 non-null  float64       \n",
      " 16  Enclosure_Enc             412698 non-null  float64       \n",
      " 17  Transmission_Enc          412698 non-null  float64       \n",
      "dtypes: datetime64[ns](1), float64(6), int64(5), object(6)\n",
      "memory usage: 59.8+ MB\n"
     ]
    }
   ],
   "source": [
    "df_cp.info()"
   ]
  },
  {
   "cell_type": "markdown",
   "id": "1ec08644",
   "metadata": {},
   "source": [
    "### Binary Encoding\n",
    "\n",
    "Since, there is not trend observed between Hydraluics and sale price I will use a nominal encoding technique. I am using Binary encoding technique because the cardinality is = 11. Binary encoding will reduce the number of features added to the data frame compared to one-hot or dummy encoding. "
   ]
  },
  {
   "cell_type": "code",
   "execution_count": 22,
   "id": "6170d0f6",
   "metadata": {},
   "outputs": [
    {
     "data": {
      "text/html": [
       "<div>\n",
       "<style scoped>\n",
       "    .dataframe tbody tr th:only-of-type {\n",
       "        vertical-align: middle;\n",
       "    }\n",
       "\n",
       "    .dataframe tbody tr th {\n",
       "        vertical-align: top;\n",
       "    }\n",
       "\n",
       "    .dataframe thead th {\n",
       "        text-align: right;\n",
       "    }\n",
       "</style>\n",
       "<table border=\"1\" class=\"dataframe\">\n",
       "  <thead>\n",
       "    <tr style=\"text-align: right;\">\n",
       "      <th></th>\n",
       "      <th>Hydraulics_0</th>\n",
       "      <th>Hydraulics_1</th>\n",
       "      <th>Hydraulics_2</th>\n",
       "      <th>Hydraulics_3</th>\n",
       "    </tr>\n",
       "  </thead>\n",
       "  <tbody>\n",
       "    <tr>\n",
       "      <th>205615</th>\n",
       "      <td>0</td>\n",
       "      <td>0</td>\n",
       "      <td>0</td>\n",
       "      <td>1</td>\n",
       "    </tr>\n",
       "    <tr>\n",
       "      <th>274835</th>\n",
       "      <td>0</td>\n",
       "      <td>0</td>\n",
       "      <td>0</td>\n",
       "      <td>1</td>\n",
       "    </tr>\n",
       "    <tr>\n",
       "      <th>141296</th>\n",
       "      <td>0</td>\n",
       "      <td>0</td>\n",
       "      <td>0</td>\n",
       "      <td>1</td>\n",
       "    </tr>\n",
       "    <tr>\n",
       "      <th>212552</th>\n",
       "      <td>0</td>\n",
       "      <td>0</td>\n",
       "      <td>0</td>\n",
       "      <td>1</td>\n",
       "    </tr>\n",
       "    <tr>\n",
       "      <th>62755</th>\n",
       "      <td>0</td>\n",
       "      <td>0</td>\n",
       "      <td>0</td>\n",
       "      <td>1</td>\n",
       "    </tr>\n",
       "    <tr>\n",
       "      <th>...</th>\n",
       "      <td>...</td>\n",
       "      <td>...</td>\n",
       "      <td>...</td>\n",
       "      <td>...</td>\n",
       "    </tr>\n",
       "    <tr>\n",
       "      <th>410879</th>\n",
       "      <td>0</td>\n",
       "      <td>0</td>\n",
       "      <td>0</td>\n",
       "      <td>1</td>\n",
       "    </tr>\n",
       "    <tr>\n",
       "      <th>412476</th>\n",
       "      <td>0</td>\n",
       "      <td>1</td>\n",
       "      <td>0</td>\n",
       "      <td>1</td>\n",
       "    </tr>\n",
       "    <tr>\n",
       "      <th>411927</th>\n",
       "      <td>0</td>\n",
       "      <td>1</td>\n",
       "      <td>0</td>\n",
       "      <td>1</td>\n",
       "    </tr>\n",
       "    <tr>\n",
       "      <th>407124</th>\n",
       "      <td>0</td>\n",
       "      <td>0</td>\n",
       "      <td>1</td>\n",
       "      <td>0</td>\n",
       "    </tr>\n",
       "    <tr>\n",
       "      <th>409203</th>\n",
       "      <td>0</td>\n",
       "      <td>0</td>\n",
       "      <td>0</td>\n",
       "      <td>1</td>\n",
       "    </tr>\n",
       "  </tbody>\n",
       "</table>\n",
       "<p>412698 rows × 4 columns</p>\n",
       "</div>"
      ],
      "text/plain": [
       "        Hydraulics_0  Hydraulics_1  Hydraulics_2  Hydraulics_3\n",
       "205615             0             0             0             1\n",
       "274835             0             0             0             1\n",
       "141296             0             0             0             1\n",
       "212552             0             0             0             1\n",
       "62755              0             0             0             1\n",
       "...              ...           ...           ...           ...\n",
       "410879             0             0             0             1\n",
       "412476             0             1             0             1\n",
       "411927             0             1             0             1\n",
       "407124             0             0             1             0\n",
       "409203             0             0             0             1\n",
       "\n",
       "[412698 rows x 4 columns]"
      ]
     },
     "execution_count": 22,
     "metadata": {},
     "output_type": "execute_result"
    }
   ],
   "source": [
    "### Using Sklearn's Binary Encoder\n",
    "bi_enc = ce.BinaryEncoder(df_cp['Hydraulics'])\n",
    "### Using Fit-transform to simultaneously fit the data and transfrom it\n",
    "enc = bi_enc.fit_transform(df_cp['Hydraulics'])\n",
    "enc"
   ]
  },
  {
   "cell_type": "code",
   "execution_count": 23,
   "id": "1e49f174",
   "metadata": {},
   "outputs": [],
   "source": [
    "### Combining the encoded values with the original dataframe\n",
    "df_cp = pd.concat([df_cp,enc],axis = 1)\n",
    "\n",
    "### Dropping the original column\n",
    "df_cp.drop('Hydraulics',axis=1,inplace=True)"
   ]
  },
  {
   "cell_type": "markdown",
   "id": "af06741a",
   "metadata": {},
   "source": [
    "### Dummy Encoding"
   ]
  },
  {
   "cell_type": "code",
   "execution_count": 24,
   "id": "67567a13",
   "metadata": {},
   "outputs": [
    {
     "data": {
      "text/html": [
       "<div>\n",
       "<style scoped>\n",
       "    .dataframe tbody tr th:only-of-type {\n",
       "        vertical-align: middle;\n",
       "    }\n",
       "\n",
       "    .dataframe tbody tr th {\n",
       "        vertical-align: top;\n",
       "    }\n",
       "\n",
       "    .dataframe thead th {\n",
       "        text-align: right;\n",
       "    }\n",
       "</style>\n",
       "<table border=\"1\" class=\"dataframe\">\n",
       "  <thead>\n",
       "    <tr style=\"text-align: right;\">\n",
       "      <th></th>\n",
       "      <th>region_Northeast</th>\n",
       "      <th>region_Other</th>\n",
       "      <th>region_South</th>\n",
       "      <th>region_West</th>\n",
       "      <th>ProductGroup_MG</th>\n",
       "      <th>ProductGroup_SSL</th>\n",
       "      <th>ProductGroup_TEX</th>\n",
       "      <th>ProductGroup_TTT</th>\n",
       "      <th>ProductGroup_WL</th>\n",
       "    </tr>\n",
       "  </thead>\n",
       "  <tbody>\n",
       "    <tr>\n",
       "      <th>205615</th>\n",
       "      <td>0.0</td>\n",
       "      <td>0.0</td>\n",
       "      <td>1.0</td>\n",
       "      <td>0.0</td>\n",
       "      <td>0.0</td>\n",
       "      <td>0.0</td>\n",
       "      <td>0.0</td>\n",
       "      <td>1.0</td>\n",
       "      <td>0.0</td>\n",
       "    </tr>\n",
       "    <tr>\n",
       "      <th>274835</th>\n",
       "      <td>0.0</td>\n",
       "      <td>0.0</td>\n",
       "      <td>1.0</td>\n",
       "      <td>0.0</td>\n",
       "      <td>0.0</td>\n",
       "      <td>0.0</td>\n",
       "      <td>0.0</td>\n",
       "      <td>0.0</td>\n",
       "      <td>1.0</td>\n",
       "    </tr>\n",
       "    <tr>\n",
       "      <th>141296</th>\n",
       "      <td>0.0</td>\n",
       "      <td>0.0</td>\n",
       "      <td>1.0</td>\n",
       "      <td>0.0</td>\n",
       "      <td>0.0</td>\n",
       "      <td>0.0</td>\n",
       "      <td>0.0</td>\n",
       "      <td>1.0</td>\n",
       "      <td>0.0</td>\n",
       "    </tr>\n",
       "    <tr>\n",
       "      <th>212552</th>\n",
       "      <td>0.0</td>\n",
       "      <td>0.0</td>\n",
       "      <td>1.0</td>\n",
       "      <td>0.0</td>\n",
       "      <td>0.0</td>\n",
       "      <td>0.0</td>\n",
       "      <td>0.0</td>\n",
       "      <td>0.0</td>\n",
       "      <td>1.0</td>\n",
       "    </tr>\n",
       "    <tr>\n",
       "      <th>62755</th>\n",
       "      <td>0.0</td>\n",
       "      <td>0.0</td>\n",
       "      <td>1.0</td>\n",
       "      <td>0.0</td>\n",
       "      <td>0.0</td>\n",
       "      <td>0.0</td>\n",
       "      <td>0.0</td>\n",
       "      <td>1.0</td>\n",
       "      <td>0.0</td>\n",
       "    </tr>\n",
       "    <tr>\n",
       "      <th>...</th>\n",
       "      <td>...</td>\n",
       "      <td>...</td>\n",
       "      <td>...</td>\n",
       "      <td>...</td>\n",
       "      <td>...</td>\n",
       "      <td>...</td>\n",
       "      <td>...</td>\n",
       "      <td>...</td>\n",
       "      <td>...</td>\n",
       "    </tr>\n",
       "    <tr>\n",
       "      <th>410879</th>\n",
       "      <td>0.0</td>\n",
       "      <td>0.0</td>\n",
       "      <td>0.0</td>\n",
       "      <td>1.0</td>\n",
       "      <td>0.0</td>\n",
       "      <td>0.0</td>\n",
       "      <td>0.0</td>\n",
       "      <td>1.0</td>\n",
       "      <td>0.0</td>\n",
       "    </tr>\n",
       "    <tr>\n",
       "      <th>412476</th>\n",
       "      <td>0.0</td>\n",
       "      <td>0.0</td>\n",
       "      <td>0.0</td>\n",
       "      <td>1.0</td>\n",
       "      <td>0.0</td>\n",
       "      <td>1.0</td>\n",
       "      <td>0.0</td>\n",
       "      <td>0.0</td>\n",
       "      <td>0.0</td>\n",
       "    </tr>\n",
       "    <tr>\n",
       "      <th>411927</th>\n",
       "      <td>0.0</td>\n",
       "      <td>0.0</td>\n",
       "      <td>0.0</td>\n",
       "      <td>1.0</td>\n",
       "      <td>0.0</td>\n",
       "      <td>0.0</td>\n",
       "      <td>1.0</td>\n",
       "      <td>0.0</td>\n",
       "      <td>0.0</td>\n",
       "    </tr>\n",
       "    <tr>\n",
       "      <th>407124</th>\n",
       "      <td>0.0</td>\n",
       "      <td>0.0</td>\n",
       "      <td>0.0</td>\n",
       "      <td>1.0</td>\n",
       "      <td>1.0</td>\n",
       "      <td>0.0</td>\n",
       "      <td>0.0</td>\n",
       "      <td>0.0</td>\n",
       "      <td>0.0</td>\n",
       "    </tr>\n",
       "    <tr>\n",
       "      <th>409203</th>\n",
       "      <td>0.0</td>\n",
       "      <td>0.0</td>\n",
       "      <td>0.0</td>\n",
       "      <td>1.0</td>\n",
       "      <td>0.0</td>\n",
       "      <td>0.0</td>\n",
       "      <td>0.0</td>\n",
       "      <td>0.0</td>\n",
       "      <td>1.0</td>\n",
       "    </tr>\n",
       "  </tbody>\n",
       "</table>\n",
       "<p>412698 rows × 9 columns</p>\n",
       "</div>"
      ],
      "text/plain": [
       "        region_Northeast  region_Other  region_South  region_West   \n",
       "205615               0.0           0.0           1.0          0.0  \\\n",
       "274835               0.0           0.0           1.0          0.0   \n",
       "141296               0.0           0.0           1.0          0.0   \n",
       "212552               0.0           0.0           1.0          0.0   \n",
       "62755                0.0           0.0           1.0          0.0   \n",
       "...                  ...           ...           ...          ...   \n",
       "410879               0.0           0.0           0.0          1.0   \n",
       "412476               0.0           0.0           0.0          1.0   \n",
       "411927               0.0           0.0           0.0          1.0   \n",
       "407124               0.0           0.0           0.0          1.0   \n",
       "409203               0.0           0.0           0.0          1.0   \n",
       "\n",
       "        ProductGroup_MG  ProductGroup_SSL  ProductGroup_TEX  ProductGroup_TTT   \n",
       "205615              0.0               0.0               0.0               1.0  \\\n",
       "274835              0.0               0.0               0.0               0.0   \n",
       "141296              0.0               0.0               0.0               1.0   \n",
       "212552              0.0               0.0               0.0               0.0   \n",
       "62755               0.0               0.0               0.0               1.0   \n",
       "...                 ...               ...               ...               ...   \n",
       "410879              0.0               0.0               0.0               1.0   \n",
       "412476              0.0               1.0               0.0               0.0   \n",
       "411927              0.0               0.0               1.0               0.0   \n",
       "407124              1.0               0.0               0.0               0.0   \n",
       "409203              0.0               0.0               0.0               0.0   \n",
       "\n",
       "        ProductGroup_WL  \n",
       "205615              0.0  \n",
       "274835              1.0  \n",
       "141296              0.0  \n",
       "212552              1.0  \n",
       "62755               0.0  \n",
       "...                 ...  \n",
       "410879              0.0  \n",
       "412476              0.0  \n",
       "411927              0.0  \n",
       "407124              0.0  \n",
       "409203              1.0  \n",
       "\n",
       "[412698 rows x 9 columns]"
      ]
     },
     "execution_count": 24,
     "metadata": {},
     "output_type": "execute_result"
    }
   ],
   "source": [
    "### Dummy encoding for the features with cardinality <10 and no indivisual order\n",
    "dummy_enc = pd.get_dummies(data = df_cp[['region','ProductGroup']],\n",
    "                           drop_first=True,columns=['region','ProductGroup'],\n",
    "                           dtype=float)\n",
    "dummy_enc"
   ]
  },
  {
   "cell_type": "code",
   "execution_count": 25,
   "id": "3118ea09",
   "metadata": {},
   "outputs": [],
   "source": [
    "df_cp = pd.concat([df_cp,dummy_enc],axis = 1)"
   ]
  },
  {
   "cell_type": "code",
   "execution_count": 26,
   "id": "c3a714a9",
   "metadata": {},
   "outputs": [],
   "source": [
    "df_cp.drop(['region','ProductGroup'],axis=1,inplace = True)"
   ]
  },
  {
   "cell_type": "markdown",
   "id": "a9f33163",
   "metadata": {},
   "source": [
    "### Using astype for conversion\n",
    "\n",
    "Using Astype convertion for features with >100 cardinality.\n",
    "\n",
    "More info regarding astype:\n",
    "https://pandas.pydata.org/pandas-docs/stable/reference/general_utility_functions.html#data-types-related-functionality"
   ]
  },
  {
   "cell_type": "code",
   "execution_count": 27,
   "id": "eeb6b571",
   "metadata": {},
   "outputs": [],
   "source": [
    "### Turning string values into catagory using astype method.\n",
    "for column, value in df_cp.items():\n",
    "    if df_cp[column].dtypes == object:\n",
    "        df_cp[column] = value.astype('category')"
   ]
  },
  {
   "cell_type": "markdown",
   "id": "c9725a03",
   "metadata": {},
   "source": [
    "When we convert string to categories pandas under the hood assign codes to all the categories. If there is a missing value a code of -1 is assigned to it. So here we will just increment the codes assigned to each catagory by 1. Thus we will not have any missing value."
   ]
  },
  {
   "cell_type": "code",
   "execution_count": 28,
   "id": "c72ad6ab",
   "metadata": {},
   "outputs": [
    {
     "data": {
      "text/plain": [
       "array([-1, -1, 58, ..., 58, 58, 60], dtype=int16)"
      ]
     },
     "execution_count": 28,
     "metadata": {},
     "output_type": "execute_result"
    }
   ],
   "source": [
    "pd.Categorical(df_cp['fiSecondaryDesc']).codes"
   ]
  },
  {
   "cell_type": "code",
   "execution_count": 29,
   "id": "05f3dbc4",
   "metadata": {},
   "outputs": [],
   "source": [
    "### Check for labels that are catagorical\n",
    "for column, value in df_cp.items():\n",
    "    if pd.api.types.is_categorical_dtype(value):\n",
    "        ### Incrementing codes by 1 to fill the missing values\n",
    "        df_cp[column] =  pd.Categorical(value).codes + 1"
   ]
  },
  {
   "cell_type": "code",
   "execution_count": 62,
   "id": "ef4ff0bc",
   "metadata": {},
   "outputs": [
    {
     "name": "stdout",
     "output_type": "stream",
     "text": [
      "<class 'pandas.core.frame.DataFrame'>\n",
      "Index: 412698 entries, 205615 to 409203\n",
      "Data columns (total 28 columns):\n",
      " #   Column                    Non-Null Count   Dtype         \n",
      "---  ------                    --------------   -----         \n",
      " 0   SalesID                   412698 non-null  int64         \n",
      " 1   SalePrice                 412698 non-null  float64       \n",
      " 2   MachineID                 412698 non-null  int64         \n",
      " 3   ModelID                   412698 non-null  int64         \n",
      " 4   datasource                412698 non-null  int64         \n",
      " 5   auctioneerID              412698 non-null  float64       \n",
      " 6   YearMade                  412698 non-null  int64         \n",
      " 7   MachineHoursCurrentMeter  412698 non-null  float64       \n",
      " 8   saledate                  412698 non-null  datetime64[ns]\n",
      " 9   fiBaseModel               412698 non-null  int16         \n",
      " 10  fiSecondaryDesc           412698 non-null  int16         \n",
      " 11  fiProductClassDesc        412698 non-null  int8          \n",
      " 12  ProductSize_Enc           412698 non-null  float64       \n",
      " 13  Enclosure_Enc             412698 non-null  float64       \n",
      " 14  Transmission_Enc          412698 non-null  float64       \n",
      " 15  Hydraulics_0              412698 non-null  int64         \n",
      " 16  Hydraulics_1              412698 non-null  int64         \n",
      " 17  Hydraulics_2              412698 non-null  int64         \n",
      " 18  Hydraulics_3              412698 non-null  int64         \n",
      " 19  region_Northeast          412698 non-null  float64       \n",
      " 20  region_Other              412698 non-null  float64       \n",
      " 21  region_South              412698 non-null  float64       \n",
      " 22  region_West               412698 non-null  float64       \n",
      " 23  ProductGroup_MG           412698 non-null  float64       \n",
      " 24  ProductGroup_SSL          412698 non-null  float64       \n",
      " 25  ProductGroup_TEX          412698 non-null  float64       \n",
      " 26  ProductGroup_TTT          412698 non-null  float64       \n",
      " 27  ProductGroup_WL           412698 non-null  float64       \n",
      "dtypes: datetime64[ns](1), float64(15), int16(2), int64(9), int8(1)\n",
      "memory usage: 83.8 MB\n"
     ]
    }
   ],
   "source": [
    "df_cp.info()"
   ]
  },
  {
   "cell_type": "markdown",
   "id": "551084a4",
   "metadata": {},
   "source": [
    "## Feature Engineering\n",
    "Let's work on the features of our data to make it more suitable for training our machine learning model.\n",
    "\n",
    "### Adding datetime parameter\n",
    "First, we are going to extract various properties, like date, month, year etc. from out sale date column. "
   ]
  },
  {
   "cell_type": "code",
   "execution_count": 30,
   "id": "a64da935",
   "metadata": {},
   "outputs": [],
   "source": [
    "## Add datetime parameter for saledate.\n",
    "df_cp['day'] = df_cp.saledate.dt.day\n",
    "df_cp['month'] = df_cp.saledate.dt.month\n",
    "df_cp['year'] = df_cp.saledate.dt.year\n",
    "df_cp['DayOfWeek'] = df_cp.saledate.dt.day_of_week\n",
    "df_cp['StartOfMonth'] = df_cp.saledate.dt.is_month_start\n",
    "df_cp['EndOfYear'] = df_cp.saledate.dt.is_year_end"
   ]
  },
  {
   "cell_type": "code",
   "execution_count": 64,
   "id": "bad460fb",
   "metadata": {},
   "outputs": [
    {
     "data": {
      "text/html": [
       "<div>\n",
       "<style scoped>\n",
       "    .dataframe tbody tr th:only-of-type {\n",
       "        vertical-align: middle;\n",
       "    }\n",
       "\n",
       "    .dataframe tbody tr th {\n",
       "        vertical-align: top;\n",
       "    }\n",
       "\n",
       "    .dataframe thead th {\n",
       "        text-align: right;\n",
       "    }\n",
       "</style>\n",
       "<table border=\"1\" class=\"dataframe\">\n",
       "  <thead>\n",
       "    <tr style=\"text-align: right;\">\n",
       "      <th></th>\n",
       "      <th>205615</th>\n",
       "      <th>274835</th>\n",
       "      <th>141296</th>\n",
       "      <th>212552</th>\n",
       "      <th>62755</th>\n",
       "    </tr>\n",
       "  </thead>\n",
       "  <tbody>\n",
       "    <tr>\n",
       "      <th>SalesID</th>\n",
       "      <td>1646770</td>\n",
       "      <td>1821514</td>\n",
       "      <td>1505138</td>\n",
       "      <td>1671174</td>\n",
       "      <td>1329056</td>\n",
       "    </tr>\n",
       "    <tr>\n",
       "      <th>SalePrice</th>\n",
       "      <td>9500.0</td>\n",
       "      <td>14000.0</td>\n",
       "      <td>50000.0</td>\n",
       "      <td>16000.0</td>\n",
       "      <td>22000.0</td>\n",
       "    </tr>\n",
       "    <tr>\n",
       "      <th>MachineID</th>\n",
       "      <td>1126363</td>\n",
       "      <td>1194089</td>\n",
       "      <td>1473654</td>\n",
       "      <td>1327630</td>\n",
       "      <td>1336053</td>\n",
       "    </tr>\n",
       "    <tr>\n",
       "      <th>ModelID</th>\n",
       "      <td>8434</td>\n",
       "      <td>10150</td>\n",
       "      <td>4139</td>\n",
       "      <td>8591</td>\n",
       "      <td>4089</td>\n",
       "    </tr>\n",
       "    <tr>\n",
       "      <th>datasource</th>\n",
       "      <td>132</td>\n",
       "      <td>132</td>\n",
       "      <td>132</td>\n",
       "      <td>132</td>\n",
       "      <td>132</td>\n",
       "    </tr>\n",
       "    <tr>\n",
       "      <th>auctioneerID</th>\n",
       "      <td>18.0</td>\n",
       "      <td>99.0</td>\n",
       "      <td>99.0</td>\n",
       "      <td>99.0</td>\n",
       "      <td>99.0</td>\n",
       "    </tr>\n",
       "    <tr>\n",
       "      <th>YearMade</th>\n",
       "      <td>1974</td>\n",
       "      <td>1980</td>\n",
       "      <td>1978</td>\n",
       "      <td>1980</td>\n",
       "      <td>1984</td>\n",
       "    </tr>\n",
       "    <tr>\n",
       "      <th>MachineHoursCurrentMeter</th>\n",
       "      <td>0.0</td>\n",
       "      <td>0.0</td>\n",
       "      <td>0.0</td>\n",
       "      <td>0.0</td>\n",
       "      <td>0.0</td>\n",
       "    </tr>\n",
       "    <tr>\n",
       "      <th>saledate</th>\n",
       "      <td>1989-01-17 00:00:00</td>\n",
       "      <td>1989-01-31 00:00:00</td>\n",
       "      <td>1989-01-31 00:00:00</td>\n",
       "      <td>1989-01-31 00:00:00</td>\n",
       "      <td>1989-01-31 00:00:00</td>\n",
       "    </tr>\n",
       "    <tr>\n",
       "      <th>fiBaseModel</th>\n",
       "      <td>1744</td>\n",
       "      <td>559</td>\n",
       "      <td>713</td>\n",
       "      <td>558</td>\n",
       "      <td>683</td>\n",
       "    </tr>\n",
       "    <tr>\n",
       "      <th>fiSecondaryDesc</th>\n",
       "      <td>0</td>\n",
       "      <td>0</td>\n",
       "      <td>59</td>\n",
       "      <td>0</td>\n",
       "      <td>21</td>\n",
       "    </tr>\n",
       "    <tr>\n",
       "      <th>fiProductClassDesc</th>\n",
       "      <td>47</td>\n",
       "      <td>60</td>\n",
       "      <td>50</td>\n",
       "      <td>74</td>\n",
       "      <td>51</td>\n",
       "    </tr>\n",
       "    <tr>\n",
       "      <th>ProductSize_Enc</th>\n",
       "      <td>0.0</td>\n",
       "      <td>0.0</td>\n",
       "      <td>1.0</td>\n",
       "      <td>0.0</td>\n",
       "      <td>0.0</td>\n",
       "    </tr>\n",
       "    <tr>\n",
       "      <th>Enclosure_Enc</th>\n",
       "      <td>2.0</td>\n",
       "      <td>2.0</td>\n",
       "      <td>2.0</td>\n",
       "      <td>1.0</td>\n",
       "      <td>2.0</td>\n",
       "    </tr>\n",
       "    <tr>\n",
       "      <th>Transmission_Enc</th>\n",
       "      <td>4.0</td>\n",
       "      <td>1.0</td>\n",
       "      <td>1.0</td>\n",
       "      <td>1.0</td>\n",
       "      <td>1.0</td>\n",
       "    </tr>\n",
       "    <tr>\n",
       "      <th>Hydraulics_0</th>\n",
       "      <td>0</td>\n",
       "      <td>0</td>\n",
       "      <td>0</td>\n",
       "      <td>0</td>\n",
       "      <td>0</td>\n",
       "    </tr>\n",
       "    <tr>\n",
       "      <th>Hydraulics_1</th>\n",
       "      <td>0</td>\n",
       "      <td>0</td>\n",
       "      <td>0</td>\n",
       "      <td>0</td>\n",
       "      <td>0</td>\n",
       "    </tr>\n",
       "    <tr>\n",
       "      <th>Hydraulics_2</th>\n",
       "      <td>0</td>\n",
       "      <td>0</td>\n",
       "      <td>0</td>\n",
       "      <td>0</td>\n",
       "      <td>0</td>\n",
       "    </tr>\n",
       "    <tr>\n",
       "      <th>Hydraulics_3</th>\n",
       "      <td>1</td>\n",
       "      <td>1</td>\n",
       "      <td>1</td>\n",
       "      <td>1</td>\n",
       "      <td>1</td>\n",
       "    </tr>\n",
       "    <tr>\n",
       "      <th>region_Northeast</th>\n",
       "      <td>0.0</td>\n",
       "      <td>0.0</td>\n",
       "      <td>0.0</td>\n",
       "      <td>0.0</td>\n",
       "      <td>0.0</td>\n",
       "    </tr>\n",
       "    <tr>\n",
       "      <th>region_Other</th>\n",
       "      <td>0.0</td>\n",
       "      <td>0.0</td>\n",
       "      <td>0.0</td>\n",
       "      <td>0.0</td>\n",
       "      <td>0.0</td>\n",
       "    </tr>\n",
       "    <tr>\n",
       "      <th>region_South</th>\n",
       "      <td>1.0</td>\n",
       "      <td>1.0</td>\n",
       "      <td>1.0</td>\n",
       "      <td>1.0</td>\n",
       "      <td>1.0</td>\n",
       "    </tr>\n",
       "    <tr>\n",
       "      <th>region_West</th>\n",
       "      <td>0.0</td>\n",
       "      <td>0.0</td>\n",
       "      <td>0.0</td>\n",
       "      <td>0.0</td>\n",
       "      <td>0.0</td>\n",
       "    </tr>\n",
       "    <tr>\n",
       "      <th>ProductGroup_MG</th>\n",
       "      <td>0.0</td>\n",
       "      <td>0.0</td>\n",
       "      <td>0.0</td>\n",
       "      <td>0.0</td>\n",
       "      <td>0.0</td>\n",
       "    </tr>\n",
       "    <tr>\n",
       "      <th>ProductGroup_SSL</th>\n",
       "      <td>0.0</td>\n",
       "      <td>0.0</td>\n",
       "      <td>0.0</td>\n",
       "      <td>0.0</td>\n",
       "      <td>0.0</td>\n",
       "    </tr>\n",
       "    <tr>\n",
       "      <th>ProductGroup_TEX</th>\n",
       "      <td>0.0</td>\n",
       "      <td>0.0</td>\n",
       "      <td>0.0</td>\n",
       "      <td>0.0</td>\n",
       "      <td>0.0</td>\n",
       "    </tr>\n",
       "    <tr>\n",
       "      <th>ProductGroup_TTT</th>\n",
       "      <td>1.0</td>\n",
       "      <td>0.0</td>\n",
       "      <td>1.0</td>\n",
       "      <td>0.0</td>\n",
       "      <td>1.0</td>\n",
       "    </tr>\n",
       "    <tr>\n",
       "      <th>ProductGroup_WL</th>\n",
       "      <td>0.0</td>\n",
       "      <td>1.0</td>\n",
       "      <td>0.0</td>\n",
       "      <td>1.0</td>\n",
       "      <td>0.0</td>\n",
       "    </tr>\n",
       "    <tr>\n",
       "      <th>day</th>\n",
       "      <td>17</td>\n",
       "      <td>31</td>\n",
       "      <td>31</td>\n",
       "      <td>31</td>\n",
       "      <td>31</td>\n",
       "    </tr>\n",
       "    <tr>\n",
       "      <th>month</th>\n",
       "      <td>1</td>\n",
       "      <td>1</td>\n",
       "      <td>1</td>\n",
       "      <td>1</td>\n",
       "      <td>1</td>\n",
       "    </tr>\n",
       "    <tr>\n",
       "      <th>year</th>\n",
       "      <td>1989</td>\n",
       "      <td>1989</td>\n",
       "      <td>1989</td>\n",
       "      <td>1989</td>\n",
       "      <td>1989</td>\n",
       "    </tr>\n",
       "    <tr>\n",
       "      <th>DayOfWeek</th>\n",
       "      <td>1</td>\n",
       "      <td>1</td>\n",
       "      <td>1</td>\n",
       "      <td>1</td>\n",
       "      <td>1</td>\n",
       "    </tr>\n",
       "    <tr>\n",
       "      <th>StartOfMonth</th>\n",
       "      <td>False</td>\n",
       "      <td>False</td>\n",
       "      <td>False</td>\n",
       "      <td>False</td>\n",
       "      <td>False</td>\n",
       "    </tr>\n",
       "    <tr>\n",
       "      <th>EndOfYear</th>\n",
       "      <td>False</td>\n",
       "      <td>False</td>\n",
       "      <td>False</td>\n",
       "      <td>False</td>\n",
       "      <td>False</td>\n",
       "    </tr>\n",
       "  </tbody>\n",
       "</table>\n",
       "</div>"
      ],
      "text/plain": [
       "                                       205615               274835   \n",
       "SalesID                               1646770              1821514  \\\n",
       "SalePrice                              9500.0              14000.0   \n",
       "MachineID                             1126363              1194089   \n",
       "ModelID                                  8434                10150   \n",
       "datasource                                132                  132   \n",
       "auctioneerID                             18.0                 99.0   \n",
       "YearMade                                 1974                 1980   \n",
       "MachineHoursCurrentMeter                  0.0                  0.0   \n",
       "saledate                  1989-01-17 00:00:00  1989-01-31 00:00:00   \n",
       "fiBaseModel                              1744                  559   \n",
       "fiSecondaryDesc                             0                    0   \n",
       "fiProductClassDesc                         47                   60   \n",
       "ProductSize_Enc                           0.0                  0.0   \n",
       "Enclosure_Enc                             2.0                  2.0   \n",
       "Transmission_Enc                          4.0                  1.0   \n",
       "Hydraulics_0                                0                    0   \n",
       "Hydraulics_1                                0                    0   \n",
       "Hydraulics_2                                0                    0   \n",
       "Hydraulics_3                                1                    1   \n",
       "region_Northeast                          0.0                  0.0   \n",
       "region_Other                              0.0                  0.0   \n",
       "region_South                              1.0                  1.0   \n",
       "region_West                               0.0                  0.0   \n",
       "ProductGroup_MG                           0.0                  0.0   \n",
       "ProductGroup_SSL                          0.0                  0.0   \n",
       "ProductGroup_TEX                          0.0                  0.0   \n",
       "ProductGroup_TTT                          1.0                  0.0   \n",
       "ProductGroup_WL                           0.0                  1.0   \n",
       "day                                        17                   31   \n",
       "month                                       1                    1   \n",
       "year                                     1989                 1989   \n",
       "DayOfWeek                                   1                    1   \n",
       "StartOfMonth                            False                False   \n",
       "EndOfYear                               False                False   \n",
       "\n",
       "                                       141296               212552   \n",
       "SalesID                               1505138              1671174  \\\n",
       "SalePrice                             50000.0              16000.0   \n",
       "MachineID                             1473654              1327630   \n",
       "ModelID                                  4139                 8591   \n",
       "datasource                                132                  132   \n",
       "auctioneerID                             99.0                 99.0   \n",
       "YearMade                                 1978                 1980   \n",
       "MachineHoursCurrentMeter                  0.0                  0.0   \n",
       "saledate                  1989-01-31 00:00:00  1989-01-31 00:00:00   \n",
       "fiBaseModel                               713                  558   \n",
       "fiSecondaryDesc                            59                    0   \n",
       "fiProductClassDesc                         50                   74   \n",
       "ProductSize_Enc                           1.0                  0.0   \n",
       "Enclosure_Enc                             2.0                  1.0   \n",
       "Transmission_Enc                          1.0                  1.0   \n",
       "Hydraulics_0                                0                    0   \n",
       "Hydraulics_1                                0                    0   \n",
       "Hydraulics_2                                0                    0   \n",
       "Hydraulics_3                                1                    1   \n",
       "region_Northeast                          0.0                  0.0   \n",
       "region_Other                              0.0                  0.0   \n",
       "region_South                              1.0                  1.0   \n",
       "region_West                               0.0                  0.0   \n",
       "ProductGroup_MG                           0.0                  0.0   \n",
       "ProductGroup_SSL                          0.0                  0.0   \n",
       "ProductGroup_TEX                          0.0                  0.0   \n",
       "ProductGroup_TTT                          1.0                  0.0   \n",
       "ProductGroup_WL                           0.0                  1.0   \n",
       "day                                        31                   31   \n",
       "month                                       1                    1   \n",
       "year                                     1989                 1989   \n",
       "DayOfWeek                                   1                    1   \n",
       "StartOfMonth                            False                False   \n",
       "EndOfYear                               False                False   \n",
       "\n",
       "                                       62755   \n",
       "SalesID                               1329056  \n",
       "SalePrice                             22000.0  \n",
       "MachineID                             1336053  \n",
       "ModelID                                  4089  \n",
       "datasource                                132  \n",
       "auctioneerID                             99.0  \n",
       "YearMade                                 1984  \n",
       "MachineHoursCurrentMeter                  0.0  \n",
       "saledate                  1989-01-31 00:00:00  \n",
       "fiBaseModel                               683  \n",
       "fiSecondaryDesc                            21  \n",
       "fiProductClassDesc                         51  \n",
       "ProductSize_Enc                           0.0  \n",
       "Enclosure_Enc                             2.0  \n",
       "Transmission_Enc                          1.0  \n",
       "Hydraulics_0                                0  \n",
       "Hydraulics_1                                0  \n",
       "Hydraulics_2                                0  \n",
       "Hydraulics_3                                1  \n",
       "region_Northeast                          0.0  \n",
       "region_Other                              0.0  \n",
       "region_South                              1.0  \n",
       "region_West                               0.0  \n",
       "ProductGroup_MG                           0.0  \n",
       "ProductGroup_SSL                          0.0  \n",
       "ProductGroup_TEX                          0.0  \n",
       "ProductGroup_TTT                          1.0  \n",
       "ProductGroup_WL                           0.0  \n",
       "day                                        31  \n",
       "month                                       1  \n",
       "year                                     1989  \n",
       "DayOfWeek                                   1  \n",
       "StartOfMonth                            False  \n",
       "EndOfYear                               False  "
      ]
     },
     "execution_count": 64,
     "metadata": {},
     "output_type": "execute_result"
    }
   ],
   "source": [
    "df_cp.head().T"
   ]
  },
  {
   "cell_type": "code",
   "execution_count": 31,
   "id": "bed98679",
   "metadata": {},
   "outputs": [],
   "source": [
    "### Droping saledate column since we no longer need it as it will be redundant data\n",
    "df_cp.drop('saledate',axis = 1,inplace = True)"
   ]
  },
  {
   "cell_type": "markdown",
   "id": "a9677ec2",
   "metadata": {},
   "source": [
    "### Weird Data"
   ]
  },
  {
   "cell_type": "code",
   "execution_count": 66,
   "id": "d60e0ede",
   "metadata": {},
   "outputs": [
    {
     "data": {
      "text/plain": [
       "YearMade\n",
       "1000    39391\n",
       "1919      127\n",
       "1920       17\n",
       "1937        1\n",
       "1942        1\n",
       "1947        1\n",
       "1948        3\n",
       "1949        1\n",
       "1950        8\n",
       "1951        7\n",
       "1952        6\n",
       "1953        7\n",
       "1954        3\n",
       "1955        5\n",
       "1956       20\n",
       "1957       16\n",
       "1958       25\n",
       "1959       28\n",
       "1960       97\n",
       "1961       99\n",
       "Name: count, dtype: int64"
      ]
     },
     "execution_count": 66,
     "metadata": {},
     "output_type": "execute_result"
    }
   ],
   "source": [
    "df_cp['YearMade'].value_counts().sort_index()[:20]"
   ]
  },
  {
   "cell_type": "code",
   "execution_count": 67,
   "id": "e2d939a4",
   "metadata": {},
   "outputs": [
    {
     "data": {
      "text/plain": [
       "Text(0.5, 1.0, 'Year Made')"
      ]
     },
     "execution_count": 67,
     "metadata": {},
     "output_type": "execute_result"
    },
    {
     "data": {
      "image/png": "[encoded data removed]",
      "text/plain": [
       "<Figure size 432x288 with 2 Axes>"
      ]
     },
     "metadata": {
      "needs_background": "light"
     },
     "output_type": "display_data"
    }
   ],
   "source": [
    "# plt.scatter(df_cp['SalePrice'],df_cp['YearMade'])\n",
    "fig, (ax1,ax2) = plt.subplots(1,2)\n",
    "ax1.hist(df_cp['year'])\n",
    "ax1.set_title('Sale Year')\n",
    "ax2.hist(df_cp[df_cp['YearMade'] == 1000]['year'])\n",
    "ax2.set_title('Year Made')"
   ]
  },
  {
   "cell_type": "markdown",
   "id": "b6107b07",
   "metadata": {},
   "source": [
    "There are few items with Yearmade as 1000. To handle these outlier and inaccurate values, I referenced the year first bulldozer was made and changed the year made for the item to earliest year available in the data post the invention year. \n",
    "\n",
    "According to wikipedia first bulldozer was invented in 1925. So, I changed the year 1000,1919,1920 to 1937 i.e. the earliest year present in our data, post the invention year."
   ]
  },
  {
   "cell_type": "code",
   "execution_count": 32,
   "id": "3a3aa504",
   "metadata": {},
   "outputs": [],
   "source": [
    "df_cp['YearMade'].mask(df_cp['YearMade'] == 1000,1937,inplace=True)\n",
    "df_cp['YearMade'].mask(df_cp['YearMade'] == 1919,1937,inplace=True)\n",
    "df_cp['YearMade'].mask(df_cp['YearMade'] == 1920,1937,inplace=True)"
   ]
  },
  {
   "cell_type": "code",
   "execution_count": 33,
   "id": "aa78c37e",
   "metadata": {},
   "outputs": [
    {
     "data": {
      "text/plain": [
       "YearMade\n",
       "1937    39536\n",
       "2005    22096\n",
       "1998    21751\n",
       "2004    20914\n",
       "1999    19274\n",
       "        ...  \n",
       "1949        1\n",
       "1947        1\n",
       "2012        1\n",
       "1942        1\n",
       "2013        1\n",
       "Name: count, Length: 70, dtype: int64"
      ]
     },
     "execution_count": 33,
     "metadata": {},
     "output_type": "execute_result"
    }
   ],
   "source": [
    "df_cp.YearMade.value_counts()"
   ]
  },
  {
   "cell_type": "code",
   "execution_count": 34,
   "id": "4a69a9bb",
   "metadata": {},
   "outputs": [],
   "source": [
    "### Saving out clean test_valid date as a json\n",
    "df_cp.to_csv('Processed Data/TrainValid_Clean.csv',index=False)"
   ]
  }
 ],
 "metadata": {
  "kernelspec": {
   "display_name": "Python 3",
   "language": "python",
   "name": "python3"
  },
  "language_info": {
   "codemirror_mode": {
    "name": "ipython",
    "version": 3
   },
   "file_extension": ".py",
   "mimetype": "text/x-python",
   "name": "python",
   "nbconvert_exporter": "python",
   "pygments_lexer": "ipython3",
   "version": "3.8.8"
  }
 },
 "nbformat": 4,
 "nbformat_minor": 5
}
