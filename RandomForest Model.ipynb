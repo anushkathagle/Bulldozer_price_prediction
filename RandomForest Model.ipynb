{
 "cells": [
  {
   "cell_type": "markdown",
   "id": "faa1dfcf",
   "metadata": {},
   "source": [
    "# Random Forest Model"
   ]
  },
  {
   "cell_type": "code",
   "execution_count": 1,
   "id": "bde4871b",
   "metadata": {},
   "outputs": [],
   "source": [
    "import numpy as np \n",
    "import pandas as pd\n",
    "\n",
    "### Visualization libraries\n",
    "import seaborn as sns\n",
    "import matplotlib.pyplot as plt\n",
    "\n",
    "### Modeling tools\n",
    "from sklearn.ensemble import RandomForestRegressor\n",
    "\n",
    "### Evaluation tools\n",
    "from sklearn.metrics import mean_absolute_error, mean_squared_log_error,make_scorer\n",
    "from sklearn.inspection import permutation_importance\n",
    "\n",
    "### HyperParameter tuning tools\n",
    "from sklearn.model_selection import  RandomizedSearchCV,GridSearchCV"
   ]
  },
  {
   "cell_type": "code",
   "execution_count": 58,
   "id": "631ed8ef",
   "metadata": {},
   "outputs": [
    {
     "data": {
      "text/html": [
       "<div>\n",
       "<style scoped>\n",
       "    .dataframe tbody tr th:only-of-type {\n",
       "        vertical-align: middle;\n",
       "    }\n",
       "\n",
       "    .dataframe tbody tr th {\n",
       "        vertical-align: top;\n",
       "    }\n",
       "\n",
       "    .dataframe thead th {\n",
       "        text-align: right;\n",
       "    }\n",
       "</style>\n",
       "<table border=\"1\" class=\"dataframe\">\n",
       "  <thead>\n",
       "    <tr style=\"text-align: right;\">\n",
       "      <th></th>\n",
       "      <th>SalesID</th>\n",
       "      <th>SalePrice</th>\n",
       "      <th>MachineID</th>\n",
       "      <th>ModelID</th>\n",
       "      <th>datasource</th>\n",
       "      <th>auctioneerID</th>\n",
       "      <th>YearMade</th>\n",
       "      <th>MachineHoursCurrentMeter</th>\n",
       "      <th>fiBaseModel</th>\n",
       "      <th>fiSecondaryDesc</th>\n",
       "      <th>...</th>\n",
       "      <th>ProductGroup_SSL</th>\n",
       "      <th>ProductGroup_TEX</th>\n",
       "      <th>ProductGroup_TTT</th>\n",
       "      <th>ProductGroup_WL</th>\n",
       "      <th>day</th>\n",
       "      <th>month</th>\n",
       "      <th>year</th>\n",
       "      <th>DayOfWeek</th>\n",
       "      <th>StartOfMonth</th>\n",
       "      <th>EndOfYear</th>\n",
       "    </tr>\n",
       "  </thead>\n",
       "  <tbody>\n",
       "    <tr>\n",
       "      <th>0</th>\n",
       "      <td>1646770</td>\n",
       "      <td>9500.0</td>\n",
       "      <td>1126363</td>\n",
       "      <td>8434</td>\n",
       "      <td>132</td>\n",
       "      <td>18.0</td>\n",
       "      <td>1974</td>\n",
       "      <td>3522.99</td>\n",
       "      <td>1744</td>\n",
       "      <td>0</td>\n",
       "      <td>...</td>\n",
       "      <td>0.0</td>\n",
       "      <td>0.0</td>\n",
       "      <td>1.0</td>\n",
       "      <td>0.0</td>\n",
       "      <td>17</td>\n",
       "      <td>1</td>\n",
       "      <td>1989</td>\n",
       "      <td>1</td>\n",
       "      <td>False</td>\n",
       "      <td>False</td>\n",
       "    </tr>\n",
       "    <tr>\n",
       "      <th>1</th>\n",
       "      <td>1821514</td>\n",
       "      <td>14000.0</td>\n",
       "      <td>1194089</td>\n",
       "      <td>10150</td>\n",
       "      <td>132</td>\n",
       "      <td>99.0</td>\n",
       "      <td>1980</td>\n",
       "      <td>3522.99</td>\n",
       "      <td>559</td>\n",
       "      <td>0</td>\n",
       "      <td>...</td>\n",
       "      <td>0.0</td>\n",
       "      <td>0.0</td>\n",
       "      <td>0.0</td>\n",
       "      <td>1.0</td>\n",
       "      <td>31</td>\n",
       "      <td>1</td>\n",
       "      <td>1989</td>\n",
       "      <td>1</td>\n",
       "      <td>False</td>\n",
       "      <td>False</td>\n",
       "    </tr>\n",
       "    <tr>\n",
       "      <th>2</th>\n",
       "      <td>1505138</td>\n",
       "      <td>50000.0</td>\n",
       "      <td>1473654</td>\n",
       "      <td>4139</td>\n",
       "      <td>132</td>\n",
       "      <td>99.0</td>\n",
       "      <td>1978</td>\n",
       "      <td>3522.99</td>\n",
       "      <td>713</td>\n",
       "      <td>59</td>\n",
       "      <td>...</td>\n",
       "      <td>0.0</td>\n",
       "      <td>0.0</td>\n",
       "      <td>1.0</td>\n",
       "      <td>0.0</td>\n",
       "      <td>31</td>\n",
       "      <td>1</td>\n",
       "      <td>1989</td>\n",
       "      <td>1</td>\n",
       "      <td>False</td>\n",
       "      <td>False</td>\n",
       "    </tr>\n",
       "    <tr>\n",
       "      <th>3</th>\n",
       "      <td>1671174</td>\n",
       "      <td>16000.0</td>\n",
       "      <td>1327630</td>\n",
       "      <td>8591</td>\n",
       "      <td>132</td>\n",
       "      <td>99.0</td>\n",
       "      <td>1980</td>\n",
       "      <td>3522.99</td>\n",
       "      <td>558</td>\n",
       "      <td>0</td>\n",
       "      <td>...</td>\n",
       "      <td>0.0</td>\n",
       "      <td>0.0</td>\n",
       "      <td>0.0</td>\n",
       "      <td>1.0</td>\n",
       "      <td>31</td>\n",
       "      <td>1</td>\n",
       "      <td>1989</td>\n",
       "      <td>1</td>\n",
       "      <td>False</td>\n",
       "      <td>False</td>\n",
       "    </tr>\n",
       "    <tr>\n",
       "      <th>4</th>\n",
       "      <td>1329056</td>\n",
       "      <td>22000.0</td>\n",
       "      <td>1336053</td>\n",
       "      <td>4089</td>\n",
       "      <td>132</td>\n",
       "      <td>99.0</td>\n",
       "      <td>1984</td>\n",
       "      <td>3522.99</td>\n",
       "      <td>683</td>\n",
       "      <td>21</td>\n",
       "      <td>...</td>\n",
       "      <td>0.0</td>\n",
       "      <td>0.0</td>\n",
       "      <td>1.0</td>\n",
       "      <td>0.0</td>\n",
       "      <td>31</td>\n",
       "      <td>1</td>\n",
       "      <td>1989</td>\n",
       "      <td>1</td>\n",
       "      <td>False</td>\n",
       "      <td>False</td>\n",
       "    </tr>\n",
       "  </tbody>\n",
       "</table>\n",
       "<p>5 rows × 33 columns</p>\n",
       "</div>"
      ],
      "text/plain": [
       "   SalesID  SalePrice  MachineID  ModelID  datasource  auctioneerID  YearMade   \n",
       "0  1646770     9500.0    1126363     8434         132          18.0      1974  \\\n",
       "1  1821514    14000.0    1194089    10150         132          99.0      1980   \n",
       "2  1505138    50000.0    1473654     4139         132          99.0      1978   \n",
       "3  1671174    16000.0    1327630     8591         132          99.0      1980   \n",
       "4  1329056    22000.0    1336053     4089         132          99.0      1984   \n",
       "\n",
       "   MachineHoursCurrentMeter  fiBaseModel  fiSecondaryDesc  ...   \n",
       "0                   3522.99         1744                0  ...  \\\n",
       "1                   3522.99          559                0  ...   \n",
       "2                   3522.99          713               59  ...   \n",
       "3                   3522.99          558                0  ...   \n",
       "4                   3522.99          683               21  ...   \n",
       "\n",
       "   ProductGroup_SSL  ProductGroup_TEX  ProductGroup_TTT  ProductGroup_WL  day   \n",
       "0               0.0               0.0               1.0              0.0   17  \\\n",
       "1               0.0               0.0               0.0              1.0   31   \n",
       "2               0.0               0.0               1.0              0.0   31   \n",
       "3               0.0               0.0               0.0              1.0   31   \n",
       "4               0.0               0.0               1.0              0.0   31   \n",
       "\n",
       "   month  year  DayOfWeek  StartOfMonth  EndOfYear  \n",
       "0      1  1989          1         False      False  \n",
       "1      1  1989          1         False      False  \n",
       "2      1  1989          1         False      False  \n",
       "3      1  1989          1         False      False  \n",
       "4      1  1989          1         False      False  \n",
       "\n",
       "[5 rows x 33 columns]"
      ]
     },
     "execution_count": 58,
     "metadata": {},
     "output_type": "execute_result"
    }
   ],
   "source": [
    "### Importing the clean Train and Valid data\n",
    "df = pd.read_csv('Processed Data/TrainValid_Clean.csv')\n",
    "df.head()"
   ]
  },
  {
   "cell_type": "code",
   "execution_count": 59,
   "id": "d48d8c43",
   "metadata": {},
   "outputs": [
    {
     "name": "stdout",
     "output_type": "stream",
     "text": [
      "<class 'pandas.core.frame.DataFrame'>\n",
      "RangeIndex: 412698 entries, 0 to 412697\n",
      "Data columns (total 33 columns):\n",
      " #   Column                    Non-Null Count   Dtype  \n",
      "---  ------                    --------------   -----  \n",
      " 0   SalesID                   412698 non-null  int64  \n",
      " 1   SalePrice                 412698 non-null  float64\n",
      " 2   MachineID                 412698 non-null  int64  \n",
      " 3   ModelID                   412698 non-null  int64  \n",
      " 4   datasource                412698 non-null  int64  \n",
      " 5   auctioneerID              412698 non-null  float64\n",
      " 6   YearMade                  412698 non-null  int64  \n",
      " 7   MachineHoursCurrentMeter  412698 non-null  float64\n",
      " 8   fiBaseModel               412698 non-null  int64  \n",
      " 9   fiSecondaryDesc           412698 non-null  int64  \n",
      " 10  fiProductClassDesc        412698 non-null  int64  \n",
      " 11  ProductSize_Enc           412698 non-null  float64\n",
      " 12  Enclosure_Enc             412698 non-null  float64\n",
      " 13  Transmission_Enc          412698 non-null  float64\n",
      " 14  Hydraulics_0              412698 non-null  int64  \n",
      " 15  Hydraulics_1              412698 non-null  int64  \n",
      " 16  Hydraulics_2              412698 non-null  int64  \n",
      " 17  Hydraulics_3              412698 non-null  int64  \n",
      " 18  region_Northeast          412698 non-null  float64\n",
      " 19  region_Other              412698 non-null  float64\n",
      " 20  region_South              412698 non-null  float64\n",
      " 21  region_West               412698 non-null  float64\n",
      " 22  ProductGroup_MG           412698 non-null  float64\n",
      " 23  ProductGroup_SSL          412698 non-null  float64\n",
      " 24  ProductGroup_TEX          412698 non-null  float64\n",
      " 25  ProductGroup_TTT          412698 non-null  float64\n",
      " 26  ProductGroup_WL           412698 non-null  float64\n",
      " 27  day                       412698 non-null  int64  \n",
      " 28  month                     412698 non-null  int64  \n",
      " 29  year                      412698 non-null  int64  \n",
      " 30  DayOfWeek                 412698 non-null  int64  \n",
      " 31  StartOfMonth              412698 non-null  bool   \n",
      " 32  EndOfYear                 412698 non-null  bool   \n",
      "dtypes: bool(2), float64(15), int64(16)\n",
      "memory usage: 98.4 MB\n"
     ]
    }
   ],
   "source": [
    "df.info()"
   ]
  },
  {
   "cell_type": "markdown",
   "id": "bcc2cf06",
   "metadata": {},
   "source": [
    "### Train and validation Split\n",
    "\n",
    "Creating a Training and Validation split of the data."
   ]
  },
  {
   "cell_type": "code",
   "execution_count": 7,
   "id": "bd53dfc7",
   "metadata": {},
   "outputs": [
    {
     "data": {
      "text/plain": [
       "year\n",
       "2009    43849\n",
       "2008    39767\n",
       "2011    35197\n",
       "2010    33390\n",
       "2007    32208\n",
       "2006    21685\n",
       "2005    20463\n",
       "2004    19879\n",
       "2001    17594\n",
       "2000    17415\n",
       "2002    17246\n",
       "2003    15254\n",
       "1998    13046\n",
       "1999    12793\n",
       "2012    11573\n",
       "1997     9785\n",
       "1996     8829\n",
       "1995     8530\n",
       "1994     7929\n",
       "1993     6303\n",
       "1992     5519\n",
       "1991     5109\n",
       "1989     4806\n",
       "1990     4529\n",
       "Name: count, dtype: int64"
      ]
     },
     "execution_count": 7,
     "metadata": {},
     "output_type": "execute_result"
    }
   ],
   "source": [
    "df['year'].value_counts()"
   ]
  },
  {
   "cell_type": "markdown",
   "id": "645b39a4",
   "metadata": {},
   "source": [
    "According to kaggle competition data\n",
    "\n",
    "* Train.csv is the training set, which contains data through the end of 2011.\n",
    "* Valid.csv is the validation set, which contains data from January 1, 2012 - April 30, 2012"
   ]
  },
  {
   "cell_type": "code",
   "execution_count": 60,
   "id": "d2f7c1f0",
   "metadata": {},
   "outputs": [],
   "source": [
    "train_df = df[df['year'] != 2012]\n",
    "valid_df = df[df['year'] == 2012]"
   ]
  },
  {
   "cell_type": "code",
   "execution_count": 61,
   "id": "a198415b",
   "metadata": {},
   "outputs": [
    {
     "data": {
      "text/plain": [
       "(401125, 11573)"
      ]
     },
     "execution_count": 61,
     "metadata": {},
     "output_type": "execute_result"
    }
   ],
   "source": [
    "len(train_df),len(valid_df)"
   ]
  },
  {
   "cell_type": "code",
   "execution_count": 62,
   "id": "7e6a5234",
   "metadata": {},
   "outputs": [
    {
     "data": {
      "text/plain": [
       "((401125, 32), (401125,), (11573, 32), (11573,))"
      ]
     },
     "execution_count": 62,
     "metadata": {},
     "output_type": "execute_result"
    }
   ],
   "source": [
    "### Seperating features and label into X and y\n",
    "X_train,y_train = train_df.drop('SalePrice',axis=1),train_df['SalePrice']\n",
    "X_valid,y_valid = valid_df.drop('SalePrice',axis = 1),valid_df['SalePrice']\n",
    "X_train.shape, y_train.shape, X_valid.shape, y_valid.shape"
   ]
  },
  {
   "cell_type": "markdown",
   "id": "d4f6f72b",
   "metadata": {},
   "source": [
    "## Modeling\n",
    "\n",
    "First let's train a basic model and evaluate it's performace."
   ]
  },
  {
   "cell_type": "code",
   "execution_count": 6,
   "id": "47dd7b1a",
   "metadata": {},
   "outputs": [
    {
     "name": "stdout",
     "output_type": "stream",
     "text": [
      "CPU times: user 7min 34s, sys: 3.71 s, total: 7min 38s\n",
      "Wall time: 1min 1s\n"
     ]
    },
    {
     "data": {
      "text/plain": [
       "RandomForestRegressor(n_jobs=-1, random_state=42)"
      ]
     },
     "execution_count": 6,
     "metadata": {},
     "output_type": "execute_result"
    }
   ],
   "source": [
    "%%time\n",
    "### Instantiating a random forest regressor model and then training it on the train_df\n",
    "### Random forest model\n",
    "rfr = RandomForestRegressor(n_jobs=-1,\n",
    "                           random_state=42)\n",
    "\n",
    "### Fitting the training dataset\n",
    "rfr.fit(X_train,y_train)"
   ]
  },
  {
   "cell_type": "markdown",
   "id": "81f0d9cb",
   "metadata": {},
   "source": [
    "## Evalutation\n",
    "\n",
    "To evalutate the performance of our random forest model I will be using various metric along with root mean squared error. This will help me Identify if my base model is overfitting or underfitting the data."
   ]
  },
  {
   "cell_type": "code",
   "execution_count": 7,
   "id": "08b69cf6",
   "metadata": {},
   "outputs": [],
   "source": [
    "### function to calculate RMSLE value \n",
    "def rmsle(y_test, y_preds):\n",
    "    return np.sqrt(mean_squared_log_error(y_test, y_preds))\n",
    "\n",
    "# Create function to evaluate our model\n",
    "def show_scores(model):\n",
    "    train_preds = model.predict(X_train)\n",
    "    val_preds = model.predict(X_valid)\n",
    "    scores = {\"Training MAE\": round(mean_absolute_error(y_train, train_preds),2),\n",
    "              \"Valid MAE\": round(mean_absolute_error(y_valid, val_preds),2),\n",
    "              \"Training RMSLE\": round(rmsle(y_train, train_preds),3),\n",
    "              \"Valid RMSLE\": round(rmsle(y_valid, val_preds),3),\n",
    "              \"Training R^2\": round(model.score(X_train, y_train),3),\n",
    "              \"Valid R^2\": round(model.score(X_valid, y_valid),3)}\n",
    "    return scores"
   ]
  },
  {
   "cell_type": "code",
   "execution_count": 8,
   "id": "6bcd32fc",
   "metadata": {},
   "outputs": [
    {
     "data": {
      "text/plain": [
       "{'Training MAE': 1623.43,\n",
       " 'Valid MAE': 6139.5,\n",
       " 'Training RMSLE': 0.086,\n",
       " 'Valid RMSLE': 0.255,\n",
       " 'Training R^2': 0.987,\n",
       " 'Valid R^2': 0.873}"
      ]
     },
     "execution_count": 8,
     "metadata": {},
     "output_type": "execute_result"
    }
   ],
   "source": [
    "### Showing scores obtained using basic random forest model\n",
    "show_scores(rfr)"
   ]
  },
  {
   "cell_type": "markdown",
   "id": "d875eaab",
   "metadata": {},
   "source": [
    "Difference in the Training and the test score is extremely large. Which clearly indicates that the model is overfitting the training data. To overcome this issue we need to tune its hyperparameters.\n",
    "\n",
    "Let's get the parameters and it's values used for reference."
   ]
  },
  {
   "cell_type": "code",
   "execution_count": 9,
   "id": "1064af56",
   "metadata": {},
   "outputs": [
    {
     "data": {
      "text/plain": [
       "{'bootstrap': True,\n",
       " 'ccp_alpha': 0.0,\n",
       " 'criterion': 'mse',\n",
       " 'max_depth': None,\n",
       " 'max_features': 'auto',\n",
       " 'max_leaf_nodes': None,\n",
       " 'max_samples': None,\n",
       " 'min_impurity_decrease': 0.0,\n",
       " 'min_impurity_split': None,\n",
       " 'min_samples_leaf': 1,\n",
       " 'min_samples_split': 2,\n",
       " 'min_weight_fraction_leaf': 0.0,\n",
       " 'n_estimators': 100,\n",
       " 'n_jobs': -1,\n",
       " 'oob_score': False,\n",
       " 'random_state': 42,\n",
       " 'verbose': 0,\n",
       " 'warm_start': False}"
      ]
     },
     "execution_count": 9,
     "metadata": {},
     "output_type": "execute_result"
    }
   ],
   "source": [
    "rfr.get_params()"
   ]
  },
  {
   "cell_type": "markdown",
   "id": "0d7a3796",
   "metadata": {},
   "source": [
    "## Tuning the Hyperparameters\n",
    "\n",
    "I will tune the hyperparameters using\n",
    "* Randomized Search CV\n",
    "* Grid Search CV\n",
    "* brute force meaning\n",
    "\n",
    "### Randomized Search CV"
   ]
  },
  {
   "cell_type": "code",
   "execution_count": 10,
   "id": "7616b92d",
   "metadata": {},
   "outputs": [],
   "source": [
    "# Number of trees in random forest\n",
    "n_estimators = [int(x) for x in np.linspace(start = 10, stop = 1000, num = 10)]\n",
    "\n",
    "# Number of features to consider at every split\n",
    "max_features = ['auto', 'sqrt',0.5,1]\n",
    "\n",
    "# Maximum number of levels in tree\n",
    "max_depth = [int(x) for x in np.linspace(10, 110, num = 11)]\n",
    "max_depth.append(None)\n",
    "\n",
    "# Minimum number of samples required to split a node\n",
    "min_samples_split = [2, 5, 10]\n",
    "\n",
    "# Minimum number of samples required at each leaf node\n",
    "min_samples_leaf = [1, 2, 4]\n",
    "\n",
    "# Method of selecting samples for training each tree\n",
    "bootstrap = [True, False]\n",
    "\n",
    "\n",
    "# Create the random grid\n",
    "random_grid = {'n_estimators': n_estimators,\n",
    "               'max_features': max_features,\n",
    "               'max_depth': max_depth,\n",
    "               'min_samples_split': min_samples_split,\n",
    "               'min_samples_leaf': min_samples_leaf,\n",
    "               'bootstrap': bootstrap}"
   ]
  },
  {
   "cell_type": "code",
   "execution_count": 11,
   "id": "4229a339",
   "metadata": {},
   "outputs": [
    {
     "data": {
      "text/plain": [
       "{'n_estimators': [10, 120, 230, 340, 450, 560, 670, 780, 890, 1000],\n",
       " 'max_features': ['auto', 'sqrt', 0.5, 1],\n",
       " 'max_depth': [10, 20, 30, 40, 50, 60, 70, 80, 90, 100, 110, None],\n",
       " 'min_samples_split': [2, 5, 10],\n",
       " 'min_samples_leaf': [1, 2, 4],\n",
       " 'bootstrap': [True, False]}"
      ]
     },
     "execution_count": 11,
     "metadata": {},
     "output_type": "execute_result"
    }
   ],
   "source": [
    "random_grid"
   ]
  },
  {
   "cell_type": "code",
   "execution_count": null,
   "id": "47ac69a0",
   "metadata": {},
   "outputs": [],
   "source": [
    "# Use the random grid to search for best hyperparameters\n",
    "# Using rfr as the base model \n",
    "# Random search of parameters, using 3 fold cross validation, \n",
    "# search across 20 different combinations, and use all available cores\n",
    "random_rf = RandomizedSearchCV(estimator = rfr,\n",
    "                               param_distributions = random_grid,\n",
    "                               n_iter = 20,\n",
    "                               cv = 3,\n",
    "                               verbose=2)"
   ]
  },
  {
   "cell_type": "code",
   "execution_count": null,
   "id": "ac814c50",
   "metadata": {},
   "outputs": [],
   "source": [
    "%%time\n",
    "# Fit the random search model\n",
    "random_rf.fit(X_train, y_train)"
   ]
  },
  {
   "cell_type": "code",
   "execution_count": null,
   "id": "998d9495",
   "metadata": {
    "scrolled": true
   },
   "outputs": [],
   "source": [
    "### Best parameter values\n",
    "random_rf.best_params_"
   ]
  },
  {
   "cell_type": "code",
   "execution_count": null,
   "id": "da3ba272",
   "metadata": {
    "scrolled": true
   },
   "outputs": [],
   "source": [
    "### Scores using the best parameter value according to Randomized search CV\n",
    "show_scores(random_rf.best_estimator_)"
   ]
  },
  {
   "cell_type": "markdown",
   "id": "36560872",
   "metadata": {},
   "source": [
    "These score indicate that the model is not over fitting our training data. Thus, confirming that we are moving in the righ direction."
   ]
  },
  {
   "cell_type": "code",
   "execution_count": null,
   "id": "24e36a95",
   "metadata": {},
   "outputs": [],
   "source": [
    "random_rf.cv_results_"
   ]
  },
  {
   "cell_type": "markdown",
   "id": "bd052b37",
   "metadata": {},
   "source": [
    "Using the CV_results to get the values of the different param combination used and the score obtained to evalute the trend in values. This will help us narrow down the range of best parameter values."
   ]
  },
  {
   "cell_type": "code",
   "execution_count": 12,
   "id": "98934196",
   "metadata": {},
   "outputs": [],
   "source": [
    "### Creating a dictionary of the values\n",
    "param_dict = {'mean_score' : [0.61363931, 0.62357845, 0.65473148, 0.65507297, 0.6317566 ,\n",
    "                              0.63205734, 0.64745413, 0.6318784 , 0.40211098, 0.59241486,\n",
    "                              0.64738885, 0.54382744, 0.58498043, 0.63091702, 0.64740812,\n",
    "                              0.59597657, 0.63881187, 0.5886381 , 0.64498251, 0.59768314],\n",
    "              'estimator' : [890, 10, 670, 780, 780, 560, 1000, 340, 10, 560, 560,\n",
    "                             890, 120, 120, 340, 890, 230, 560, 120, 450],\n",
    "              'param_min_sample_split' : [2, 2, 5, 5, 5, 2, 5, 10, 5, 10, 10, 10, 2, 10, 10, 10,\n",
    "                                          2, 2, 5, 5],\n",
    "              'param_min_samples_leaf':[1, 4, 2, 2, 1, 4, 4, 4, 2, 4, 4, 2, 4, 4, 1, 4, 1, 4,\n",
    "                                        4, 1],\n",
    "              'param_max_features':[1, 'auto', 'sqrt', 'sqrt', 1, 'auto', 0.5, 'auto', 1,\n",
    "                                    1, 0.5, 'auto', 1, 'auto', 0.5, 'sqrt', 1, 1, 0.5, 0.5],\n",
    "              'param_max_depth':[20, 40, 70, 70, 80, 20, 60, 20, 10, 60, 90, 50, 30, 30,\n",
    "                                 20, 10, 30, 60, 30, 10],\n",
    "              'param_bootstrap':[False, True, False, True, True, True, True, True, True,\n",
    "                                 False, True, False, True, True, True, True, False,\n",
    "                                 True, False, False]}\n",
    "\n",
    "### Creating a dataframe from the dictionary\n",
    "random_param_df = pd.DataFrame.from_dict(param_dict)"
   ]
  },
  {
   "cell_type": "code",
   "execution_count": 13,
   "id": "c04ed06f",
   "metadata": {},
   "outputs": [
    {
     "data": {
      "text/html": [
       "<div>\n",
       "<style scoped>\n",
       "    .dataframe tbody tr th:only-of-type {\n",
       "        vertical-align: middle;\n",
       "    }\n",
       "\n",
       "    .dataframe tbody tr th {\n",
       "        vertical-align: top;\n",
       "    }\n",
       "\n",
       "    .dataframe thead th {\n",
       "        text-align: right;\n",
       "    }\n",
       "</style>\n",
       "<table border=\"1\" class=\"dataframe\">\n",
       "  <thead>\n",
       "    <tr style=\"text-align: right;\">\n",
       "      <th></th>\n",
       "      <th>mean_score</th>\n",
       "      <th>estimator</th>\n",
       "      <th>param_min_sample_split</th>\n",
       "      <th>param_min_samples_leaf</th>\n",
       "      <th>param_max_features</th>\n",
       "      <th>param_max_depth</th>\n",
       "      <th>param_bootstrap</th>\n",
       "    </tr>\n",
       "  </thead>\n",
       "  <tbody>\n",
       "    <tr>\n",
       "      <th>0</th>\n",
       "      <td>0.613639</td>\n",
       "      <td>890</td>\n",
       "      <td>2</td>\n",
       "      <td>1</td>\n",
       "      <td>1</td>\n",
       "      <td>20</td>\n",
       "      <td>False</td>\n",
       "    </tr>\n",
       "    <tr>\n",
       "      <th>1</th>\n",
       "      <td>0.623578</td>\n",
       "      <td>10</td>\n",
       "      <td>2</td>\n",
       "      <td>4</td>\n",
       "      <td>auto</td>\n",
       "      <td>40</td>\n",
       "      <td>True</td>\n",
       "    </tr>\n",
       "    <tr>\n",
       "      <th>2</th>\n",
       "      <td>0.654731</td>\n",
       "      <td>670</td>\n",
       "      <td>5</td>\n",
       "      <td>2</td>\n",
       "      <td>sqrt</td>\n",
       "      <td>70</td>\n",
       "      <td>False</td>\n",
       "    </tr>\n",
       "    <tr>\n",
       "      <th>3</th>\n",
       "      <td>0.655073</td>\n",
       "      <td>780</td>\n",
       "      <td>5</td>\n",
       "      <td>2</td>\n",
       "      <td>sqrt</td>\n",
       "      <td>70</td>\n",
       "      <td>True</td>\n",
       "    </tr>\n",
       "    <tr>\n",
       "      <th>4</th>\n",
       "      <td>0.631757</td>\n",
       "      <td>780</td>\n",
       "      <td>5</td>\n",
       "      <td>1</td>\n",
       "      <td>1</td>\n",
       "      <td>80</td>\n",
       "      <td>True</td>\n",
       "    </tr>\n",
       "    <tr>\n",
       "      <th>5</th>\n",
       "      <td>0.632057</td>\n",
       "      <td>560</td>\n",
       "      <td>2</td>\n",
       "      <td>4</td>\n",
       "      <td>auto</td>\n",
       "      <td>20</td>\n",
       "      <td>True</td>\n",
       "    </tr>\n",
       "    <tr>\n",
       "      <th>6</th>\n",
       "      <td>0.647454</td>\n",
       "      <td>1000</td>\n",
       "      <td>5</td>\n",
       "      <td>4</td>\n",
       "      <td>0.5</td>\n",
       "      <td>60</td>\n",
       "      <td>True</td>\n",
       "    </tr>\n",
       "    <tr>\n",
       "      <th>7</th>\n",
       "      <td>0.631878</td>\n",
       "      <td>340</td>\n",
       "      <td>10</td>\n",
       "      <td>4</td>\n",
       "      <td>auto</td>\n",
       "      <td>20</td>\n",
       "      <td>True</td>\n",
       "    </tr>\n",
       "    <tr>\n",
       "      <th>8</th>\n",
       "      <td>0.402111</td>\n",
       "      <td>10</td>\n",
       "      <td>5</td>\n",
       "      <td>2</td>\n",
       "      <td>1</td>\n",
       "      <td>10</td>\n",
       "      <td>True</td>\n",
       "    </tr>\n",
       "    <tr>\n",
       "      <th>9</th>\n",
       "      <td>0.592415</td>\n",
       "      <td>560</td>\n",
       "      <td>10</td>\n",
       "      <td>4</td>\n",
       "      <td>1</td>\n",
       "      <td>60</td>\n",
       "      <td>False</td>\n",
       "    </tr>\n",
       "    <tr>\n",
       "      <th>10</th>\n",
       "      <td>0.647389</td>\n",
       "      <td>560</td>\n",
       "      <td>10</td>\n",
       "      <td>4</td>\n",
       "      <td>0.5</td>\n",
       "      <td>90</td>\n",
       "      <td>True</td>\n",
       "    </tr>\n",
       "    <tr>\n",
       "      <th>11</th>\n",
       "      <td>0.543827</td>\n",
       "      <td>890</td>\n",
       "      <td>10</td>\n",
       "      <td>2</td>\n",
       "      <td>auto</td>\n",
       "      <td>50</td>\n",
       "      <td>False</td>\n",
       "    </tr>\n",
       "    <tr>\n",
       "      <th>12</th>\n",
       "      <td>0.584980</td>\n",
       "      <td>120</td>\n",
       "      <td>2</td>\n",
       "      <td>4</td>\n",
       "      <td>1</td>\n",
       "      <td>30</td>\n",
       "      <td>True</td>\n",
       "    </tr>\n",
       "    <tr>\n",
       "      <th>13</th>\n",
       "      <td>0.630917</td>\n",
       "      <td>120</td>\n",
       "      <td>10</td>\n",
       "      <td>4</td>\n",
       "      <td>auto</td>\n",
       "      <td>30</td>\n",
       "      <td>True</td>\n",
       "    </tr>\n",
       "    <tr>\n",
       "      <th>14</th>\n",
       "      <td>0.647408</td>\n",
       "      <td>340</td>\n",
       "      <td>10</td>\n",
       "      <td>1</td>\n",
       "      <td>0.5</td>\n",
       "      <td>20</td>\n",
       "      <td>True</td>\n",
       "    </tr>\n",
       "    <tr>\n",
       "      <th>15</th>\n",
       "      <td>0.595977</td>\n",
       "      <td>890</td>\n",
       "      <td>10</td>\n",
       "      <td>4</td>\n",
       "      <td>sqrt</td>\n",
       "      <td>10</td>\n",
       "      <td>True</td>\n",
       "    </tr>\n",
       "    <tr>\n",
       "      <th>16</th>\n",
       "      <td>0.638812</td>\n",
       "      <td>230</td>\n",
       "      <td>2</td>\n",
       "      <td>1</td>\n",
       "      <td>1</td>\n",
       "      <td>30</td>\n",
       "      <td>False</td>\n",
       "    </tr>\n",
       "    <tr>\n",
       "      <th>17</th>\n",
       "      <td>0.588638</td>\n",
       "      <td>560</td>\n",
       "      <td>2</td>\n",
       "      <td>4</td>\n",
       "      <td>1</td>\n",
       "      <td>60</td>\n",
       "      <td>True</td>\n",
       "    </tr>\n",
       "    <tr>\n",
       "      <th>18</th>\n",
       "      <td>0.644983</td>\n",
       "      <td>120</td>\n",
       "      <td>5</td>\n",
       "      <td>4</td>\n",
       "      <td>0.5</td>\n",
       "      <td>30</td>\n",
       "      <td>False</td>\n",
       "    </tr>\n",
       "    <tr>\n",
       "      <th>19</th>\n",
       "      <td>0.597683</td>\n",
       "      <td>450</td>\n",
       "      <td>5</td>\n",
       "      <td>1</td>\n",
       "      <td>0.5</td>\n",
       "      <td>10</td>\n",
       "      <td>False</td>\n",
       "    </tr>\n",
       "  </tbody>\n",
       "</table>\n",
       "</div>"
      ],
      "text/plain": [
       "    mean_score  estimator  param_min_sample_split  param_min_samples_leaf   \n",
       "0     0.613639        890                       2                       1  \\\n",
       "1     0.623578         10                       2                       4   \n",
       "2     0.654731        670                       5                       2   \n",
       "3     0.655073        780                       5                       2   \n",
       "4     0.631757        780                       5                       1   \n",
       "5     0.632057        560                       2                       4   \n",
       "6     0.647454       1000                       5                       4   \n",
       "7     0.631878        340                      10                       4   \n",
       "8     0.402111         10                       5                       2   \n",
       "9     0.592415        560                      10                       4   \n",
       "10    0.647389        560                      10                       4   \n",
       "11    0.543827        890                      10                       2   \n",
       "12    0.584980        120                       2                       4   \n",
       "13    0.630917        120                      10                       4   \n",
       "14    0.647408        340                      10                       1   \n",
       "15    0.595977        890                      10                       4   \n",
       "16    0.638812        230                       2                       1   \n",
       "17    0.588638        560                       2                       4   \n",
       "18    0.644983        120                       5                       4   \n",
       "19    0.597683        450                       5                       1   \n",
       "\n",
       "   param_max_features  param_max_depth  param_bootstrap  \n",
       "0                   1               20            False  \n",
       "1                auto               40             True  \n",
       "2                sqrt               70            False  \n",
       "3                sqrt               70             True  \n",
       "4                   1               80             True  \n",
       "5                auto               20             True  \n",
       "6                 0.5               60             True  \n",
       "7                auto               20             True  \n",
       "8                   1               10             True  \n",
       "9                   1               60            False  \n",
       "10                0.5               90             True  \n",
       "11               auto               50            False  \n",
       "12                  1               30             True  \n",
       "13               auto               30             True  \n",
       "14                0.5               20             True  \n",
       "15               sqrt               10             True  \n",
       "16                  1               30            False  \n",
       "17                  1               60             True  \n",
       "18                0.5               30            False  \n",
       "19                0.5               10            False  "
      ]
     },
     "execution_count": 13,
     "metadata": {},
     "output_type": "execute_result"
    }
   ],
   "source": [
    "random_param_df"
   ]
  },
  {
   "cell_type": "markdown",
   "id": "8d4e4cc6",
   "metadata": {},
   "source": [
    "**Plotting a line graph to see the trend of number of estimators with the mean score obtained**"
   ]
  },
  {
   "cell_type": "code",
   "execution_count": 14,
   "id": "0e3c0d36",
   "metadata": {},
   "outputs": [
    {
     "data": {
      "text/plain": [
       "<AxesSubplot:xlabel='estimator', ylabel='mean_score'>"
      ]
     },
     "execution_count": 14,
     "metadata": {},
     "output_type": "execute_result"
    },
    {
     "data": {
      "image/png": "[encoded data removed]",
      "text/plain": [
       "<Figure size 720x432 with 1 Axes>"
      ]
     },
     "metadata": {
      "needs_background": "light"
     },
     "output_type": "display_data"
    }
   ],
   "source": [
    "plt.figure(figsize=(10,6))\n",
    "plt.xticks([10, 120, 230, 340, 450, 560, 670, 780, 890, 1000])\n",
    "### Grouping the n_estimator values together to get a mean value\n",
    "sns.lineplot(x= 'estimator',\n",
    "             y='mean_score',\n",
    "             data= random_param_df.groupby('estimator').mean('mean_score'))"
   ]
  },
  {
   "cell_type": "markdown",
   "id": "4f983c5b",
   "metadata": {},
   "source": [
    "**Analyzing the min_sample_leaf value**"
   ]
  },
  {
   "cell_type": "code",
   "execution_count": 15,
   "id": "602e6f08",
   "metadata": {
    "scrolled": true
   },
   "outputs": [
    {
     "data": {
      "text/html": [
       "<div>\n",
       "<style scoped>\n",
       "    .dataframe tbody tr th:only-of-type {\n",
       "        vertical-align: middle;\n",
       "    }\n",
       "\n",
       "    .dataframe tbody tr th {\n",
       "        vertical-align: top;\n",
       "    }\n",
       "\n",
       "    .dataframe thead th {\n",
       "        text-align: right;\n",
       "    }\n",
       "</style>\n",
       "<table border=\"1\" class=\"dataframe\">\n",
       "  <thead>\n",
       "    <tr style=\"text-align: right;\">\n",
       "      <th></th>\n",
       "      <th>count</th>\n",
       "      <th>mean</th>\n",
       "      <th>std</th>\n",
       "      <th>min</th>\n",
       "      <th>25%</th>\n",
       "      <th>50%</th>\n",
       "      <th>75%</th>\n",
       "      <th>max</th>\n",
       "    </tr>\n",
       "    <tr>\n",
       "      <th>param_min_samples_leaf</th>\n",
       "      <th></th>\n",
       "      <th></th>\n",
       "      <th></th>\n",
       "      <th></th>\n",
       "      <th></th>\n",
       "      <th></th>\n",
       "      <th></th>\n",
       "      <th></th>\n",
       "    </tr>\n",
       "  </thead>\n",
       "  <tbody>\n",
       "    <tr>\n",
       "      <th>1</th>\n",
       "      <td>5.0</td>\n",
       "      <td>0.625860</td>\n",
       "      <td>0.020063</td>\n",
       "      <td>0.597683</td>\n",
       "      <td>0.613639</td>\n",
       "      <td>0.631757</td>\n",
       "      <td>0.638812</td>\n",
       "      <td>0.647408</td>\n",
       "    </tr>\n",
       "    <tr>\n",
       "      <th>2</th>\n",
       "      <td>4.0</td>\n",
       "      <td>0.563936</td>\n",
       "      <td>0.119919</td>\n",
       "      <td>0.402111</td>\n",
       "      <td>0.508398</td>\n",
       "      <td>0.599279</td>\n",
       "      <td>0.654817</td>\n",
       "      <td>0.655073</td>\n",
       "    </tr>\n",
       "    <tr>\n",
       "      <th>4</th>\n",
       "      <td>11.0</td>\n",
       "      <td>0.620024</td>\n",
       "      <td>0.024687</td>\n",
       "      <td>0.584980</td>\n",
       "      <td>0.594196</td>\n",
       "      <td>0.630917</td>\n",
       "      <td>0.638520</td>\n",
       "      <td>0.647454</td>\n",
       "    </tr>\n",
       "  </tbody>\n",
       "</table>\n",
       "</div>"
      ],
      "text/plain": [
       "                        count      mean       std       min       25%   \n",
       "param_min_samples_leaf                                                  \n",
       "1                         5.0  0.625860  0.020063  0.597683  0.613639  \\\n",
       "2                         4.0  0.563936  0.119919  0.402111  0.508398   \n",
       "4                        11.0  0.620024  0.024687  0.584980  0.594196   \n",
       "\n",
       "                             50%       75%       max  \n",
       "param_min_samples_leaf                                \n",
       "1                       0.631757  0.638812  0.647408  \n",
       "2                       0.599279  0.654817  0.655073  \n",
       "4                       0.630917  0.638520  0.647454  "
      ]
     },
     "execution_count": 15,
     "metadata": {},
     "output_type": "execute_result"
    }
   ],
   "source": [
    "random_param_df.groupby('param_min_samples_leaf').describe()['mean_score']"
   ]
  },
  {
   "cell_type": "markdown",
   "id": "b0dbc598",
   "metadata": {},
   "source": [
    "we can see that although min_samples_leaf value 1 has higher mean score the max value achived by it is least compared to value 2 or 4. However, value 4 gives the best average result with 2 as the second best."
   ]
  },
  {
   "cell_type": "code",
   "execution_count": 16,
   "id": "239ff904",
   "metadata": {},
   "outputs": [
    {
     "data": {
      "text/plain": [
       "<AxesSubplot:xlabel='param_min_samples_leaf', ylabel='mean_score'>"
      ]
     },
     "execution_count": 16,
     "metadata": {},
     "output_type": "execute_result"
    },
    {
     "data": {
      "image/png": "[encoded data removed]",
      "text/plain": [
       "<Figure size 720x432 with 1 Axes>"
      ]
     },
     "metadata": {
      "needs_background": "light"
     },
     "output_type": "display_data"
    }
   ],
   "source": [
    "### Visualizing min_sample leaf results\n",
    "plt.figure(figsize=(10,6))\n",
    "sns.lineplot(x= 'param_min_samples_leaf',\n",
    "             y='mean_score',\n",
    "             data= random_param_df.groupby('param_min_samples_leaf').mean('mean_score'))"
   ]
  },
  {
   "cell_type": "markdown",
   "id": "d57ea68e",
   "metadata": {},
   "source": [
    "**Analyzing the min_sample_split value**"
   ]
  },
  {
   "cell_type": "code",
   "execution_count": 17,
   "id": "5d7554bf",
   "metadata": {
    "scrolled": true
   },
   "outputs": [
    {
     "data": {
      "text/html": [
       "<div>\n",
       "<style scoped>\n",
       "    .dataframe tbody tr th:only-of-type {\n",
       "        vertical-align: middle;\n",
       "    }\n",
       "\n",
       "    .dataframe tbody tr th {\n",
       "        vertical-align: top;\n",
       "    }\n",
       "\n",
       "    .dataframe thead th {\n",
       "        text-align: right;\n",
       "    }\n",
       "</style>\n",
       "<table border=\"1\" class=\"dataframe\">\n",
       "  <thead>\n",
       "    <tr style=\"text-align: right;\">\n",
       "      <th></th>\n",
       "      <th>count</th>\n",
       "      <th>mean</th>\n",
       "      <th>std</th>\n",
       "      <th>min</th>\n",
       "      <th>25%</th>\n",
       "      <th>50%</th>\n",
       "      <th>75%</th>\n",
       "      <th>max</th>\n",
       "    </tr>\n",
       "    <tr>\n",
       "      <th>param_min_sample_split</th>\n",
       "      <th></th>\n",
       "      <th></th>\n",
       "      <th></th>\n",
       "      <th></th>\n",
       "      <th></th>\n",
       "      <th></th>\n",
       "      <th></th>\n",
       "      <th></th>\n",
       "    </tr>\n",
       "  </thead>\n",
       "  <tbody>\n",
       "    <tr>\n",
       "      <th>2</th>\n",
       "      <td>6.0</td>\n",
       "      <td>0.613618</td>\n",
       "      <td>0.022441</td>\n",
       "      <td>0.584980</td>\n",
       "      <td>0.594888</td>\n",
       "      <td>0.618609</td>\n",
       "      <td>0.629938</td>\n",
       "      <td>0.638812</td>\n",
       "    </tr>\n",
       "    <tr>\n",
       "      <th>5</th>\n",
       "      <td>7.0</td>\n",
       "      <td>0.604827</td>\n",
       "      <td>0.091574</td>\n",
       "      <td>0.402111</td>\n",
       "      <td>0.614720</td>\n",
       "      <td>0.644983</td>\n",
       "      <td>0.651093</td>\n",
       "      <td>0.655073</td>\n",
       "    </tr>\n",
       "    <tr>\n",
       "      <th>10</th>\n",
       "      <td>7.0</td>\n",
       "      <td>0.612830</td>\n",
       "      <td>0.037732</td>\n",
       "      <td>0.543827</td>\n",
       "      <td>0.594196</td>\n",
       "      <td>0.630917</td>\n",
       "      <td>0.639634</td>\n",
       "      <td>0.647408</td>\n",
       "    </tr>\n",
       "  </tbody>\n",
       "</table>\n",
       "</div>"
      ],
      "text/plain": [
       "                        count      mean       std       min       25%   \n",
       "param_min_sample_split                                                  \n",
       "2                         6.0  0.613618  0.022441  0.584980  0.594888  \\\n",
       "5                         7.0  0.604827  0.091574  0.402111  0.614720   \n",
       "10                        7.0  0.612830  0.037732  0.543827  0.594196   \n",
       "\n",
       "                             50%       75%       max  \n",
       "param_min_sample_split                                \n",
       "2                       0.618609  0.629938  0.638812  \n",
       "5                       0.644983  0.651093  0.655073  \n",
       "10                      0.630917  0.639634  0.647408  "
      ]
     },
     "execution_count": 17,
     "metadata": {},
     "output_type": "execute_result"
    }
   ],
   "source": [
    "random_param_df.groupby('param_min_sample_split').describe()['mean_score']"
   ]
  },
  {
   "cell_type": "code",
   "execution_count": 18,
   "id": "df4b3db8",
   "metadata": {},
   "outputs": [
    {
     "data": {
      "text/plain": [
       "<AxesSubplot:xlabel='param_min_sample_split', ylabel='mean_score'>"
      ]
     },
     "execution_count": 18,
     "metadata": {},
     "output_type": "execute_result"
    },
    {
     "data": {
      "image/png": "[encoded data removed]",
      "text/plain": [
       "<Figure size 720x432 with 1 Axes>"
      ]
     },
     "metadata": {
      "needs_background": "light"
     },
     "output_type": "display_data"
    }
   ],
   "source": [
    "plt.figure(figsize=(10,6))\n",
    "sns.lineplot(x= 'param_min_sample_split',\n",
    "             y='mean_score',\n",
    "             data= random_param_df.groupby('param_min_sample_split').mean('mean_score'))"
   ]
  },
  {
   "cell_type": "markdown",
   "id": "6ac4e474",
   "metadata": {},
   "source": [
    "**Analyzing the max_depth value**"
   ]
  },
  {
   "cell_type": "code",
   "execution_count": 19,
   "id": "0eadc40b",
   "metadata": {},
   "outputs": [
    {
     "data": {
      "text/plain": [
       "<AxesSubplot:xlabel='param_max_depth', ylabel='mean_score'>"
      ]
     },
     "execution_count": 19,
     "metadata": {},
     "output_type": "execute_result"
    },
    {
     "data": {
      "image/png": "[encoded data removed]",
      "text/plain": [
       "<Figure size 720x432 with 1 Axes>"
      ]
     },
     "metadata": {
      "needs_background": "light"
     },
     "output_type": "display_data"
    }
   ],
   "source": [
    "plt.figure(figsize=(10,6))\n",
    "sns.lineplot(x= 'param_max_depth',\n",
    "             y='mean_score',\n",
    "             data= random_param_df.groupby('param_max_depth').mean('mean_score'))"
   ]
  },
  {
   "cell_type": "markdown",
   "id": "3d1e3c41",
   "metadata": {},
   "source": [
    "Mean score is high for max_depth with value 70,90,80,20 and 40. We can use this range to further narrow down the best param values."
   ]
  },
  {
   "cell_type": "code",
   "execution_count": 20,
   "id": "6d953bd8",
   "metadata": {},
   "outputs": [
    {
     "data": {
      "text/html": [
       "<div>\n",
       "<style scoped>\n",
       "    .dataframe tbody tr th:only-of-type {\n",
       "        vertical-align: middle;\n",
       "    }\n",
       "\n",
       "    .dataframe tbody tr th {\n",
       "        vertical-align: top;\n",
       "    }\n",
       "\n",
       "    .dataframe thead th {\n",
       "        text-align: right;\n",
       "    }\n",
       "</style>\n",
       "<table border=\"1\" class=\"dataframe\">\n",
       "  <thead>\n",
       "    <tr style=\"text-align: right;\">\n",
       "      <th></th>\n",
       "      <th>count</th>\n",
       "      <th>mean</th>\n",
       "      <th>std</th>\n",
       "      <th>min</th>\n",
       "      <th>25%</th>\n",
       "      <th>50%</th>\n",
       "      <th>75%</th>\n",
       "      <th>max</th>\n",
       "    </tr>\n",
       "    <tr>\n",
       "      <th>param_max_features</th>\n",
       "      <th></th>\n",
       "      <th></th>\n",
       "      <th></th>\n",
       "      <th></th>\n",
       "      <th></th>\n",
       "      <th></th>\n",
       "      <th></th>\n",
       "      <th></th>\n",
       "    </tr>\n",
       "  </thead>\n",
       "  <tbody>\n",
       "    <tr>\n",
       "      <th>0.5</th>\n",
       "      <td>5.0</td>\n",
       "      <td>0.636983</td>\n",
       "      <td>0.021995</td>\n",
       "      <td>0.597683</td>\n",
       "      <td>0.644983</td>\n",
       "      <td>0.647389</td>\n",
       "      <td>0.647408</td>\n",
       "      <td>0.647454</td>\n",
       "    </tr>\n",
       "    <tr>\n",
       "      <th>1</th>\n",
       "      <td>7.0</td>\n",
       "      <td>0.578907</td>\n",
       "      <td>0.080787</td>\n",
       "      <td>0.402111</td>\n",
       "      <td>0.586809</td>\n",
       "      <td>0.592415</td>\n",
       "      <td>0.622698</td>\n",
       "      <td>0.638812</td>\n",
       "    </tr>\n",
       "    <tr>\n",
       "      <th>auto</th>\n",
       "      <td>5.0</td>\n",
       "      <td>0.612452</td>\n",
       "      <td>0.038522</td>\n",
       "      <td>0.543827</td>\n",
       "      <td>0.623578</td>\n",
       "      <td>0.630917</td>\n",
       "      <td>0.631878</td>\n",
       "      <td>0.632057</td>\n",
       "    </tr>\n",
       "    <tr>\n",
       "      <th>sqrt</th>\n",
       "      <td>3.0</td>\n",
       "      <td>0.635260</td>\n",
       "      <td>0.034021</td>\n",
       "      <td>0.595977</td>\n",
       "      <td>0.625354</td>\n",
       "      <td>0.654731</td>\n",
       "      <td>0.654902</td>\n",
       "      <td>0.655073</td>\n",
       "    </tr>\n",
       "  </tbody>\n",
       "</table>\n",
       "</div>"
      ],
      "text/plain": [
       "                    count      mean       std       min       25%       50%   \n",
       "param_max_features                                                            \n",
       "0.5                   5.0  0.636983  0.021995  0.597683  0.644983  0.647389  \\\n",
       "1                     7.0  0.578907  0.080787  0.402111  0.586809  0.592415   \n",
       "auto                  5.0  0.612452  0.038522  0.543827  0.623578  0.630917   \n",
       "sqrt                  3.0  0.635260  0.034021  0.595977  0.625354  0.654731   \n",
       "\n",
       "                         75%       max  \n",
       "param_max_features                      \n",
       "0.5                 0.647408  0.647454  \n",
       "1                   0.622698  0.638812  \n",
       "auto                0.631878  0.632057  \n",
       "sqrt                0.654902  0.655073  "
      ]
     },
     "execution_count": 20,
     "metadata": {},
     "output_type": "execute_result"
    }
   ],
   "source": [
    "random_param_df.groupby('param_max_features').describe()['mean_score']"
   ]
  },
  {
   "cell_type": "markdown",
   "id": "d1d1056a",
   "metadata": {},
   "source": [
    "`sqrt` and `0.5` has high max value as well as mean value."
   ]
  },
  {
   "cell_type": "markdown",
   "id": "b18fcd49",
   "metadata": {},
   "source": [
    "**Fitting a second randomized search model with filtered param value to further narrow down the best parameter values.**"
   ]
  },
  {
   "cell_type": "code",
   "execution_count": 21,
   "id": "f15c9de1",
   "metadata": {},
   "outputs": [],
   "source": [
    "# Number of trees in random forest\n",
    "n_estimators1 = [int(x) for x in np.linspace(start = 600, stop = 800, num = 10)]\n",
    "\n",
    "# Number of features to consider at every split\n",
    "max_features1 = ['sqrt',0.5]\n",
    "\n",
    "# Maximum number of levels in tree\n",
    "max_depth1 = [20,40,70,110]\n",
    "\n",
    "# Minimum number of samples required to split a node\n",
    "min_samples_split1 = [5,10]\n",
    "\n",
    "# Minimum number of samples required at each leaf node\n",
    "min_samples_leaf1 = [2, 4]\n",
    "\n",
    "# Create the random grid\n",
    "random_grid1 = {'n_estimators': n_estimators1,\n",
    "               'max_features': max_features1,\n",
    "               'max_depth': max_depth1,\n",
    "               'min_samples_split': min_samples_split1,\n",
    "               'min_samples_leaf': min_samples_leaf1}"
   ]
  },
  {
   "cell_type": "code",
   "execution_count": 22,
   "id": "3959876c",
   "metadata": {},
   "outputs": [
    {
     "data": {
      "text/plain": [
       "{'n_estimators': [600, 622, 644, 666, 688, 711, 733, 755, 777, 800],\n",
       " 'max_features': ['sqrt', 0.5],\n",
       " 'max_depth': [20, 40, 70, 110],\n",
       " 'min_samples_split': [5, 10],\n",
       " 'min_samples_leaf': [2, 4]}"
      ]
     },
     "execution_count": 22,
     "metadata": {},
     "output_type": "execute_result"
    }
   ],
   "source": [
    "random_grid1"
   ]
  },
  {
   "cell_type": "code",
   "execution_count": null,
   "id": "20d58004",
   "metadata": {},
   "outputs": [],
   "source": [
    "# Random search of parameters, using 3 fold cross validation, \n",
    "# search across 40 different combinations, and use all available cores\n",
    "random_rf1 = RandomizedSearchCV(estimator = rfr,\n",
    "                                param_distributions = random_grid1,\n",
    "                                cv = 3, \n",
    "                                n_iter= 40,\n",
    "                                verbose=2)"
   ]
  },
  {
   "cell_type": "code",
   "execution_count": null,
   "id": "6f84ec03",
   "metadata": {},
   "outputs": [],
   "source": [
    "random_rf1.fit(X_train,y_train)"
   ]
  },
  {
   "cell_type": "code",
   "execution_count": null,
   "id": "7a9d884d",
   "metadata": {},
   "outputs": [],
   "source": [
    "random_rf1.cv_results_"
   ]
  },
  {
   "cell_type": "code",
   "execution_count": 23,
   "id": "6c911896",
   "metadata": {},
   "outputs": [],
   "source": [
    "### Creating a dictionary of the values from cv_results_\n",
    "param1_dict = {'mean_score' : [0.65548971, 0.64767165, 0.64732684, 0.65461818, 0.65471639,\n",
    "                              0.64820532, 0.64759574, 0.65494413, 0.64800324, 0.6476721 ,\n",
    "                              0.64836527, 0.64784263, 0.64810392, 0.65320502, 0.64730878,\n",
    "                              0.64802794, 0.64760472, 0.65465161, 0.64766866, 0.64801038,\n",
    "                              0.64744121, 0.65531063, 0.65473897, 0.65462962, 0.65311673,\n",
    "                              0.65466163, 0.64836464, 0.65343194, 0.65455235, 0.64799336,\n",
    "                              0.65455097, 0.65478765, 0.64833389, 0.6551582 , 0.65524784,\n",
    "                              0.65346536, 0.65504219, 0.65456178, 0.64803202, 0.65465529],\n",
    "              \n",
    "              'estimator' : [622, 666, 600, 600, 600, 800, 600, 711, 777, 644, 777,\n",
    "                             777, 622, 733, 644, 644, 600, 777, 688, 644, 733, 777,\n",
    "                             777, 733, 666, 688, 688, 666, 777, 600, 666, 777, 733,\n",
    "                             733, 800, 711, 800, 711, 733, 622],\n",
    "              \n",
    "              'param_min_sample_split' : [5, 5, 10, 10, 5, 5, 10, 10, 10, 5, 5, 10, 10, 10, 10,\n",
    "                                          10, 5, 5, 5, 10, 10, 5, 10, 5, 10, 10, 5, 10, 5, 10,\n",
    "                                          10, 10, 5, 5, 5, 10, 5, 5, 10, 10],\n",
    "              \n",
    "              'param_min_samples_leaf':[2, 4, 4, 4, 4, 2, 4, 2, 2, 2, 2, 2, 2, 4, 4, 2, 4, 4,\n",
    "                                        4, 2, 4, 2, 4, 4, 4, 4, 2, 2, 4, 2, 4, 4, 2, 2, 2, 2,\n",
    "                                        2, 4, 2, 4],\n",
    "              \n",
    "              'param_max_features':['sqrt', 0.5, 0.5, 'sqrt', 'sqrt', 0.5, 0.5, 'sqrt',\n",
    "                                     0.5, 0.5, 0.5, 0.5, 0.5, 'sqrt', 0.5, 0.5, 0.5, 'sqrt',\n",
    "                                     0.5, 0.5, 0.5, 'sqrt', 'sqrt', 'sqrt', 'sqrt', 'sqrt',\n",
    "                                     0.5, 'sqrt', 'sqrt', 0.5, 'sqrt', 'sqrt', 0.5, 'sqrt',\n",
    "                                     'sqrt', 'sqrt', 'sqrt', 'sqrt', 0.5, 'sqrt'],\n",
    "              \n",
    "              'param_max_depth':[40, 40, 40, 70, 40, 40, 20, 110, 70, 20, 70, 20, 20,\n",
    "                                 20, 110, 70, 110, 70, 110, 40, 70, 40, 40, 70, 20, 110,\n",
    "                                 70, 20, 40, 110, 40, 110, 70, 70, 40, 20, 110, 70, 40,\n",
    "                                 110]}\n",
    "\n",
    "### Translating the dictonary to dataframe\n",
    "random_param_df1 = pd.DataFrame.from_dict(param1_dict)"
   ]
  },
  {
   "cell_type": "code",
   "execution_count": 24,
   "id": "e611bffd",
   "metadata": {},
   "outputs": [
    {
     "data": {
      "text/html": [
       "<div>\n",
       "<style scoped>\n",
       "    .dataframe tbody tr th:only-of-type {\n",
       "        vertical-align: middle;\n",
       "    }\n",
       "\n",
       "    .dataframe tbody tr th {\n",
       "        vertical-align: top;\n",
       "    }\n",
       "\n",
       "    .dataframe thead th {\n",
       "        text-align: right;\n",
       "    }\n",
       "</style>\n",
       "<table border=\"1\" class=\"dataframe\">\n",
       "  <thead>\n",
       "    <tr style=\"text-align: right;\">\n",
       "      <th></th>\n",
       "      <th>mean_score</th>\n",
       "      <th>estimator</th>\n",
       "      <th>param_min_sample_split</th>\n",
       "      <th>param_min_samples_leaf</th>\n",
       "      <th>param_max_features</th>\n",
       "      <th>param_max_depth</th>\n",
       "    </tr>\n",
       "  </thead>\n",
       "  <tbody>\n",
       "    <tr>\n",
       "      <th>0</th>\n",
       "      <td>0.655490</td>\n",
       "      <td>622</td>\n",
       "      <td>5</td>\n",
       "      <td>2</td>\n",
       "      <td>sqrt</td>\n",
       "      <td>40</td>\n",
       "    </tr>\n",
       "    <tr>\n",
       "      <th>21</th>\n",
       "      <td>0.655311</td>\n",
       "      <td>777</td>\n",
       "      <td>5</td>\n",
       "      <td>2</td>\n",
       "      <td>sqrt</td>\n",
       "      <td>40</td>\n",
       "    </tr>\n",
       "    <tr>\n",
       "      <th>34</th>\n",
       "      <td>0.655248</td>\n",
       "      <td>800</td>\n",
       "      <td>5</td>\n",
       "      <td>2</td>\n",
       "      <td>sqrt</td>\n",
       "      <td>40</td>\n",
       "    </tr>\n",
       "    <tr>\n",
       "      <th>33</th>\n",
       "      <td>0.655158</td>\n",
       "      <td>733</td>\n",
       "      <td>5</td>\n",
       "      <td>2</td>\n",
       "      <td>sqrt</td>\n",
       "      <td>70</td>\n",
       "    </tr>\n",
       "    <tr>\n",
       "      <th>36</th>\n",
       "      <td>0.655042</td>\n",
       "      <td>800</td>\n",
       "      <td>5</td>\n",
       "      <td>2</td>\n",
       "      <td>sqrt</td>\n",
       "      <td>110</td>\n",
       "    </tr>\n",
       "    <tr>\n",
       "      <th>7</th>\n",
       "      <td>0.654944</td>\n",
       "      <td>711</td>\n",
       "      <td>10</td>\n",
       "      <td>2</td>\n",
       "      <td>sqrt</td>\n",
       "      <td>110</td>\n",
       "    </tr>\n",
       "    <tr>\n",
       "      <th>31</th>\n",
       "      <td>0.654788</td>\n",
       "      <td>777</td>\n",
       "      <td>10</td>\n",
       "      <td>4</td>\n",
       "      <td>sqrt</td>\n",
       "      <td>110</td>\n",
       "    </tr>\n",
       "    <tr>\n",
       "      <th>22</th>\n",
       "      <td>0.654739</td>\n",
       "      <td>777</td>\n",
       "      <td>10</td>\n",
       "      <td>4</td>\n",
       "      <td>sqrt</td>\n",
       "      <td>40</td>\n",
       "    </tr>\n",
       "    <tr>\n",
       "      <th>4</th>\n",
       "      <td>0.654716</td>\n",
       "      <td>600</td>\n",
       "      <td>5</td>\n",
       "      <td>4</td>\n",
       "      <td>sqrt</td>\n",
       "      <td>40</td>\n",
       "    </tr>\n",
       "    <tr>\n",
       "      <th>25</th>\n",
       "      <td>0.654662</td>\n",
       "      <td>688</td>\n",
       "      <td>10</td>\n",
       "      <td>4</td>\n",
       "      <td>sqrt</td>\n",
       "      <td>110</td>\n",
       "    </tr>\n",
       "    <tr>\n",
       "      <th>39</th>\n",
       "      <td>0.654655</td>\n",
       "      <td>622</td>\n",
       "      <td>10</td>\n",
       "      <td>4</td>\n",
       "      <td>sqrt</td>\n",
       "      <td>110</td>\n",
       "    </tr>\n",
       "    <tr>\n",
       "      <th>17</th>\n",
       "      <td>0.654652</td>\n",
       "      <td>777</td>\n",
       "      <td>5</td>\n",
       "      <td>4</td>\n",
       "      <td>sqrt</td>\n",
       "      <td>70</td>\n",
       "    </tr>\n",
       "    <tr>\n",
       "      <th>23</th>\n",
       "      <td>0.654630</td>\n",
       "      <td>733</td>\n",
       "      <td>5</td>\n",
       "      <td>4</td>\n",
       "      <td>sqrt</td>\n",
       "      <td>70</td>\n",
       "    </tr>\n",
       "    <tr>\n",
       "      <th>3</th>\n",
       "      <td>0.654618</td>\n",
       "      <td>600</td>\n",
       "      <td>10</td>\n",
       "      <td>4</td>\n",
       "      <td>sqrt</td>\n",
       "      <td>70</td>\n",
       "    </tr>\n",
       "    <tr>\n",
       "      <th>37</th>\n",
       "      <td>0.654562</td>\n",
       "      <td>711</td>\n",
       "      <td>5</td>\n",
       "      <td>4</td>\n",
       "      <td>sqrt</td>\n",
       "      <td>70</td>\n",
       "    </tr>\n",
       "    <tr>\n",
       "      <th>28</th>\n",
       "      <td>0.654552</td>\n",
       "      <td>777</td>\n",
       "      <td>5</td>\n",
       "      <td>4</td>\n",
       "      <td>sqrt</td>\n",
       "      <td>40</td>\n",
       "    </tr>\n",
       "    <tr>\n",
       "      <th>30</th>\n",
       "      <td>0.654551</td>\n",
       "      <td>666</td>\n",
       "      <td>10</td>\n",
       "      <td>4</td>\n",
       "      <td>sqrt</td>\n",
       "      <td>40</td>\n",
       "    </tr>\n",
       "    <tr>\n",
       "      <th>35</th>\n",
       "      <td>0.653465</td>\n",
       "      <td>711</td>\n",
       "      <td>10</td>\n",
       "      <td>2</td>\n",
       "      <td>sqrt</td>\n",
       "      <td>20</td>\n",
       "    </tr>\n",
       "    <tr>\n",
       "      <th>27</th>\n",
       "      <td>0.653432</td>\n",
       "      <td>666</td>\n",
       "      <td>10</td>\n",
       "      <td>2</td>\n",
       "      <td>sqrt</td>\n",
       "      <td>20</td>\n",
       "    </tr>\n",
       "    <tr>\n",
       "      <th>13</th>\n",
       "      <td>0.653205</td>\n",
       "      <td>733</td>\n",
       "      <td>10</td>\n",
       "      <td>4</td>\n",
       "      <td>sqrt</td>\n",
       "      <td>20</td>\n",
       "    </tr>\n",
       "    <tr>\n",
       "      <th>24</th>\n",
       "      <td>0.653117</td>\n",
       "      <td>666</td>\n",
       "      <td>10</td>\n",
       "      <td>4</td>\n",
       "      <td>sqrt</td>\n",
       "      <td>20</td>\n",
       "    </tr>\n",
       "    <tr>\n",
       "      <th>10</th>\n",
       "      <td>0.648365</td>\n",
       "      <td>777</td>\n",
       "      <td>5</td>\n",
       "      <td>2</td>\n",
       "      <td>0.5</td>\n",
       "      <td>70</td>\n",
       "    </tr>\n",
       "    <tr>\n",
       "      <th>26</th>\n",
       "      <td>0.648365</td>\n",
       "      <td>688</td>\n",
       "      <td>5</td>\n",
       "      <td>2</td>\n",
       "      <td>0.5</td>\n",
       "      <td>70</td>\n",
       "    </tr>\n",
       "    <tr>\n",
       "      <th>32</th>\n",
       "      <td>0.648334</td>\n",
       "      <td>733</td>\n",
       "      <td>5</td>\n",
       "      <td>2</td>\n",
       "      <td>0.5</td>\n",
       "      <td>70</td>\n",
       "    </tr>\n",
       "    <tr>\n",
       "      <th>5</th>\n",
       "      <td>0.648205</td>\n",
       "      <td>800</td>\n",
       "      <td>5</td>\n",
       "      <td>2</td>\n",
       "      <td>0.5</td>\n",
       "      <td>40</td>\n",
       "    </tr>\n",
       "    <tr>\n",
       "      <th>12</th>\n",
       "      <td>0.648104</td>\n",
       "      <td>622</td>\n",
       "      <td>10</td>\n",
       "      <td>2</td>\n",
       "      <td>0.5</td>\n",
       "      <td>20</td>\n",
       "    </tr>\n",
       "    <tr>\n",
       "      <th>38</th>\n",
       "      <td>0.648032</td>\n",
       "      <td>733</td>\n",
       "      <td>10</td>\n",
       "      <td>2</td>\n",
       "      <td>0.5</td>\n",
       "      <td>40</td>\n",
       "    </tr>\n",
       "    <tr>\n",
       "      <th>15</th>\n",
       "      <td>0.648028</td>\n",
       "      <td>644</td>\n",
       "      <td>10</td>\n",
       "      <td>2</td>\n",
       "      <td>0.5</td>\n",
       "      <td>70</td>\n",
       "    </tr>\n",
       "    <tr>\n",
       "      <th>19</th>\n",
       "      <td>0.648010</td>\n",
       "      <td>644</td>\n",
       "      <td>10</td>\n",
       "      <td>2</td>\n",
       "      <td>0.5</td>\n",
       "      <td>40</td>\n",
       "    </tr>\n",
       "    <tr>\n",
       "      <th>8</th>\n",
       "      <td>0.648003</td>\n",
       "      <td>777</td>\n",
       "      <td>10</td>\n",
       "      <td>2</td>\n",
       "      <td>0.5</td>\n",
       "      <td>70</td>\n",
       "    </tr>\n",
       "    <tr>\n",
       "      <th>29</th>\n",
       "      <td>0.647993</td>\n",
       "      <td>600</td>\n",
       "      <td>10</td>\n",
       "      <td>2</td>\n",
       "      <td>0.5</td>\n",
       "      <td>110</td>\n",
       "    </tr>\n",
       "    <tr>\n",
       "      <th>11</th>\n",
       "      <td>0.647843</td>\n",
       "      <td>777</td>\n",
       "      <td>10</td>\n",
       "      <td>2</td>\n",
       "      <td>0.5</td>\n",
       "      <td>20</td>\n",
       "    </tr>\n",
       "    <tr>\n",
       "      <th>9</th>\n",
       "      <td>0.647672</td>\n",
       "      <td>644</td>\n",
       "      <td>5</td>\n",
       "      <td>2</td>\n",
       "      <td>0.5</td>\n",
       "      <td>20</td>\n",
       "    </tr>\n",
       "    <tr>\n",
       "      <th>1</th>\n",
       "      <td>0.647672</td>\n",
       "      <td>666</td>\n",
       "      <td>5</td>\n",
       "      <td>4</td>\n",
       "      <td>0.5</td>\n",
       "      <td>40</td>\n",
       "    </tr>\n",
       "    <tr>\n",
       "      <th>18</th>\n",
       "      <td>0.647669</td>\n",
       "      <td>688</td>\n",
       "      <td>5</td>\n",
       "      <td>4</td>\n",
       "      <td>0.5</td>\n",
       "      <td>110</td>\n",
       "    </tr>\n",
       "    <tr>\n",
       "      <th>16</th>\n",
       "      <td>0.647605</td>\n",
       "      <td>600</td>\n",
       "      <td>5</td>\n",
       "      <td>4</td>\n",
       "      <td>0.5</td>\n",
       "      <td>110</td>\n",
       "    </tr>\n",
       "    <tr>\n",
       "      <th>6</th>\n",
       "      <td>0.647596</td>\n",
       "      <td>600</td>\n",
       "      <td>10</td>\n",
       "      <td>4</td>\n",
       "      <td>0.5</td>\n",
       "      <td>20</td>\n",
       "    </tr>\n",
       "    <tr>\n",
       "      <th>20</th>\n",
       "      <td>0.647441</td>\n",
       "      <td>733</td>\n",
       "      <td>10</td>\n",
       "      <td>4</td>\n",
       "      <td>0.5</td>\n",
       "      <td>70</td>\n",
       "    </tr>\n",
       "    <tr>\n",
       "      <th>2</th>\n",
       "      <td>0.647327</td>\n",
       "      <td>600</td>\n",
       "      <td>10</td>\n",
       "      <td>4</td>\n",
       "      <td>0.5</td>\n",
       "      <td>40</td>\n",
       "    </tr>\n",
       "    <tr>\n",
       "      <th>14</th>\n",
       "      <td>0.647309</td>\n",
       "      <td>644</td>\n",
       "      <td>10</td>\n",
       "      <td>4</td>\n",
       "      <td>0.5</td>\n",
       "      <td>110</td>\n",
       "    </tr>\n",
       "  </tbody>\n",
       "</table>\n",
       "</div>"
      ],
      "text/plain": [
       "    mean_score  estimator  param_min_sample_split  param_min_samples_leaf   \n",
       "0     0.655490        622                       5                       2  \\\n",
       "21    0.655311        777                       5                       2   \n",
       "34    0.655248        800                       5                       2   \n",
       "33    0.655158        733                       5                       2   \n",
       "36    0.655042        800                       5                       2   \n",
       "7     0.654944        711                      10                       2   \n",
       "31    0.654788        777                      10                       4   \n",
       "22    0.654739        777                      10                       4   \n",
       "4     0.654716        600                       5                       4   \n",
       "25    0.654662        688                      10                       4   \n",
       "39    0.654655        622                      10                       4   \n",
       "17    0.654652        777                       5                       4   \n",
       "23    0.654630        733                       5                       4   \n",
       "3     0.654618        600                      10                       4   \n",
       "37    0.654562        711                       5                       4   \n",
       "28    0.654552        777                       5                       4   \n",
       "30    0.654551        666                      10                       4   \n",
       "35    0.653465        711                      10                       2   \n",
       "27    0.653432        666                      10                       2   \n",
       "13    0.653205        733                      10                       4   \n",
       "24    0.653117        666                      10                       4   \n",
       "10    0.648365        777                       5                       2   \n",
       "26    0.648365        688                       5                       2   \n",
       "32    0.648334        733                       5                       2   \n",
       "5     0.648205        800                       5                       2   \n",
       "12    0.648104        622                      10                       2   \n",
       "38    0.648032        733                      10                       2   \n",
       "15    0.648028        644                      10                       2   \n",
       "19    0.648010        644                      10                       2   \n",
       "8     0.648003        777                      10                       2   \n",
       "29    0.647993        600                      10                       2   \n",
       "11    0.647843        777                      10                       2   \n",
       "9     0.647672        644                       5                       2   \n",
       "1     0.647672        666                       5                       4   \n",
       "18    0.647669        688                       5                       4   \n",
       "16    0.647605        600                       5                       4   \n",
       "6     0.647596        600                      10                       4   \n",
       "20    0.647441        733                      10                       4   \n",
       "2     0.647327        600                      10                       4   \n",
       "14    0.647309        644                      10                       4   \n",
       "\n",
       "   param_max_features  param_max_depth  \n",
       "0                sqrt               40  \n",
       "21               sqrt               40  \n",
       "34               sqrt               40  \n",
       "33               sqrt               70  \n",
       "36               sqrt              110  \n",
       "7                sqrt              110  \n",
       "31               sqrt              110  \n",
       "22               sqrt               40  \n",
       "4                sqrt               40  \n",
       "25               sqrt              110  \n",
       "39               sqrt              110  \n",
       "17               sqrt               70  \n",
       "23               sqrt               70  \n",
       "3                sqrt               70  \n",
       "37               sqrt               70  \n",
       "28               sqrt               40  \n",
       "30               sqrt               40  \n",
       "35               sqrt               20  \n",
       "27               sqrt               20  \n",
       "13               sqrt               20  \n",
       "24               sqrt               20  \n",
       "10                0.5               70  \n",
       "26                0.5               70  \n",
       "32                0.5               70  \n",
       "5                 0.5               40  \n",
       "12                0.5               20  \n",
       "38                0.5               40  \n",
       "15                0.5               70  \n",
       "19                0.5               40  \n",
       "8                 0.5               70  \n",
       "29                0.5              110  \n",
       "11                0.5               20  \n",
       "9                 0.5               20  \n",
       "1                 0.5               40  \n",
       "18                0.5              110  \n",
       "16                0.5              110  \n",
       "6                 0.5               20  \n",
       "20                0.5               70  \n",
       "2                 0.5               40  \n",
       "14                0.5              110  "
      ]
     },
     "execution_count": 24,
     "metadata": {},
     "output_type": "execute_result"
    }
   ],
   "source": [
    "random_param_df1.sort_values('mean_score',ascending = False)"
   ]
  },
  {
   "cell_type": "markdown",
   "id": "8031e6b7",
   "metadata": {},
   "source": [
    "From the above table it can be observed that optimal value of\n",
    "* min_sample_split = 5 \n",
    "* min_sample_leaf = 2 \n",
    "* max_feature = sqrt \n",
    "\n",
    "Thus we can fix these values for the corresponding hyperparameter during the Grid Search. "
   ]
  },
  {
   "cell_type": "markdown",
   "id": "2b598fe5",
   "metadata": {},
   "source": [
    "### Grid Search CV\n",
    "\n",
    "Using exhaustive search method for hyperparameter tuning"
   ]
  },
  {
   "cell_type": "code",
   "execution_count": 25,
   "id": "ae53d149",
   "metadata": {},
   "outputs": [
    {
     "data": {
      "text/plain": [
       "{'n_estimators': [620, 640, 660, 680, 700, 720, 740, 760, 780, 800],\n",
       " 'max_depth': [40, 70, 110]}"
      ]
     },
     "execution_count": 25,
     "metadata": {},
     "output_type": "execute_result"
    }
   ],
   "source": [
    "# Number of trees in random forest\n",
    "gs_estimator = [int(x) for x in np.linspace(start=620,stop=800,num=10)]\n",
    "\n",
    "# Maximum number of levels in tree\n",
    "gs_max_depth = [40,70,110]\n",
    "\n",
    "# Creating grid for Grid Search CV\n",
    "gs_grid = {'n_estimators' : gs_estimator,\n",
    "           'max_depth': gs_max_depth}\n",
    "gs_grid"
   ]
  },
  {
   "cell_type": "code",
   "execution_count": null,
   "id": "b24cc4e0",
   "metadata": {},
   "outputs": [],
   "source": [
    "# Use the random grid to search for best hyperparameters\n",
    "# Using Random forest model with best values achived through randomized search CV as the base model \n",
    "gs_rfr = GridSearchCV(RandomForestRegressor(min_samples_split= 5,\n",
    "                                            min_samples_leaf= 2,\n",
    "                                            max_features='sqrt',\n",
    "                                            n_jobs= -1),\n",
    "                      param_grid = gs_grid, \n",
    "                      cv = 3,\n",
    "                      verbose=2)"
   ]
  },
  {
   "cell_type": "code",
   "execution_count": null,
   "id": "f1ec7d26",
   "metadata": {},
   "outputs": [],
   "source": [
    "gs_rfr.fit(X_train,y_train)"
   ]
  },
  {
   "cell_type": "code",
   "execution_count": null,
   "id": "23cf9482",
   "metadata": {
    "scrolled": true
   },
   "outputs": [],
   "source": [
    "### Best hyperparameter values and the corresponding score from Grid Search CV\n",
    "gs_rfr.best_params_,gs_rfr.best_score_"
   ]
  },
  {
   "cell_type": "markdown",
   "id": "4a3846a4",
   "metadata": {},
   "source": [
    "Random search CV and Grid Search CV helped me narrow down the range of values, for the hyperparameters to a great extent. In the next step, I will maually tweak the values to try and improve the performance of the model further. \n",
    "\n",
    "I am storing the value of the hyperparameters and the scores received with that data in a dictionary."
   ]
  },
  {
   "cell_type": "code",
   "execution_count": 63,
   "id": "bf8526df",
   "metadata": {},
   "outputs": [],
   "source": [
    "### Creating the random forest regressor model with the best hyperparameter values\n",
    "best_rfr = RandomForestRegressor(n_estimators=800,\n",
    "                                 max_depth= 20,\n",
    "                                 min_samples_split= 2,\n",
    "                                 min_samples_leaf= 4,\n",
    "                                 max_features= 0.5,\n",
    "                                 n_jobs= -1)"
   ]
  },
  {
   "cell_type": "code",
   "execution_count": 64,
   "id": "84fdeabb",
   "metadata": {},
   "outputs": [
    {
     "data": {
      "text/plain": [
       "RandomForestRegressor(max_depth=20, max_features=0.5, min_samples_leaf=4,\n",
       "                      n_estimators=800, n_jobs=-1)"
      ]
     },
     "execution_count": 64,
     "metadata": {},
     "output_type": "execute_result"
    }
   ],
   "source": [
    "### Fitting the best model with X_train and y_train\n",
    "best_rfr.fit(X_train,y_train)"
   ]
  },
  {
   "cell_type": "code",
   "execution_count": 40,
   "id": "b98142d3",
   "metadata": {},
   "outputs": [
    {
     "data": {
      "text/plain": [
       "{'Training MAE': 3577.64,\n",
       " 'Valid MAE': 5981.34,\n",
       " 'Training RMSLE': 0.173,\n",
       " 'Valid RMSLE': 0.246,\n",
       " 'Training R^2': 0.941,\n",
       " 'Valid R^2': 0.878}"
      ]
     },
     "execution_count": 40,
     "metadata": {},
     "output_type": "execute_result"
    }
   ],
   "source": [
    "### Scores achived using the best model\n",
    "show_scores(best_rfr)"
   ]
  },
  {
   "cell_type": "code",
   "execution_count": 29,
   "id": "42367475",
   "metadata": {},
   "outputs": [],
   "source": [
    "myDict = {'n_estimators':[720,780,780,800,800,800],\n",
    "          'max_depth': [40,40,20,20,20,20],\n",
    "          'min_samples_split': [5,5,5,5,5,2],\n",
    "          'min_samples_leaf': [2,2,2,2,2,4],\n",
    "          'max_features':['sqrt','sqrt','sqrt',0.5,'sqrt',0.5],\n",
    "          'Training MAE': [3166.91, 3169.7,4348.27,3260.99,4346.77,3579.91],\n",
    "          'Valid MAE': [6371.83,6368.66,6525.04,5942.57,6513.76,5972.59],\n",
    "          'Training RMSLE': [0.15,0.154,0.204,0.16,0.204,0.173],\n",
    "          'Valid RMSLE': [0.264,0.264,0.27,0.246,0.269,0.246],\n",
    "          'Training R^2': [0.95,0.953,0.918,0.952,0.918,0.941],\n",
    "          'Valid R^2': [0.86,0.866,0.86,0.88,0.861,0.878]}\n",
    "param_df = pd.DataFrame.from_dict(myDict)"
   ]
  },
  {
   "cell_type": "code",
   "execution_count": 30,
   "id": "381bb502",
   "metadata": {},
   "outputs": [
    {
     "data": {
      "text/html": [
       "<div>\n",
       "<style scoped>\n",
       "    .dataframe tbody tr th:only-of-type {\n",
       "        vertical-align: middle;\n",
       "    }\n",
       "\n",
       "    .dataframe tbody tr th {\n",
       "        vertical-align: top;\n",
       "    }\n",
       "\n",
       "    .dataframe thead th {\n",
       "        text-align: right;\n",
       "    }\n",
       "</style>\n",
       "<table border=\"1\" class=\"dataframe\">\n",
       "  <thead>\n",
       "    <tr style=\"text-align: right;\">\n",
       "      <th></th>\n",
       "      <th>n_estimators</th>\n",
       "      <th>max_depth</th>\n",
       "      <th>min_samples_split</th>\n",
       "      <th>min_samples_leaf</th>\n",
       "      <th>max_features</th>\n",
       "      <th>Training MAE</th>\n",
       "      <th>Valid MAE</th>\n",
       "      <th>Training RMSLE</th>\n",
       "      <th>Valid RMSLE</th>\n",
       "      <th>Training R^2</th>\n",
       "      <th>Valid R^2</th>\n",
       "    </tr>\n",
       "  </thead>\n",
       "  <tbody>\n",
       "    <tr>\n",
       "      <th>0</th>\n",
       "      <td>720</td>\n",
       "      <td>40</td>\n",
       "      <td>5</td>\n",
       "      <td>2</td>\n",
       "      <td>sqrt</td>\n",
       "      <td>3166.91</td>\n",
       "      <td>6371.83</td>\n",
       "      <td>0.150</td>\n",
       "      <td>0.264</td>\n",
       "      <td>0.950</td>\n",
       "      <td>0.860</td>\n",
       "    </tr>\n",
       "    <tr>\n",
       "      <th>1</th>\n",
       "      <td>780</td>\n",
       "      <td>40</td>\n",
       "      <td>5</td>\n",
       "      <td>2</td>\n",
       "      <td>sqrt</td>\n",
       "      <td>3169.70</td>\n",
       "      <td>6368.66</td>\n",
       "      <td>0.154</td>\n",
       "      <td>0.264</td>\n",
       "      <td>0.953</td>\n",
       "      <td>0.866</td>\n",
       "    </tr>\n",
       "    <tr>\n",
       "      <th>2</th>\n",
       "      <td>780</td>\n",
       "      <td>20</td>\n",
       "      <td>5</td>\n",
       "      <td>2</td>\n",
       "      <td>sqrt</td>\n",
       "      <td>4348.27</td>\n",
       "      <td>6525.04</td>\n",
       "      <td>0.204</td>\n",
       "      <td>0.270</td>\n",
       "      <td>0.918</td>\n",
       "      <td>0.860</td>\n",
       "    </tr>\n",
       "    <tr>\n",
       "      <th>3</th>\n",
       "      <td>800</td>\n",
       "      <td>20</td>\n",
       "      <td>5</td>\n",
       "      <td>2</td>\n",
       "      <td>0.5</td>\n",
       "      <td>3260.99</td>\n",
       "      <td>5942.57</td>\n",
       "      <td>0.160</td>\n",
       "      <td>0.246</td>\n",
       "      <td>0.952</td>\n",
       "      <td>0.880</td>\n",
       "    </tr>\n",
       "    <tr>\n",
       "      <th>4</th>\n",
       "      <td>800</td>\n",
       "      <td>20</td>\n",
       "      <td>5</td>\n",
       "      <td>2</td>\n",
       "      <td>sqrt</td>\n",
       "      <td>4346.77</td>\n",
       "      <td>6513.76</td>\n",
       "      <td>0.204</td>\n",
       "      <td>0.269</td>\n",
       "      <td>0.918</td>\n",
       "      <td>0.861</td>\n",
       "    </tr>\n",
       "    <tr>\n",
       "      <th>5</th>\n",
       "      <td>800</td>\n",
       "      <td>20</td>\n",
       "      <td>2</td>\n",
       "      <td>4</td>\n",
       "      <td>0.5</td>\n",
       "      <td>3579.91</td>\n",
       "      <td>5972.59</td>\n",
       "      <td>0.173</td>\n",
       "      <td>0.246</td>\n",
       "      <td>0.941</td>\n",
       "      <td>0.878</td>\n",
       "    </tr>\n",
       "  </tbody>\n",
       "</table>\n",
       "</div>"
      ],
      "text/plain": [
       "   n_estimators  max_depth  min_samples_split  min_samples_leaf max_features   \n",
       "0           720         40                  5                 2         sqrt  \\\n",
       "1           780         40                  5                 2         sqrt   \n",
       "2           780         20                  5                 2         sqrt   \n",
       "3           800         20                  5                 2          0.5   \n",
       "4           800         20                  5                 2         sqrt   \n",
       "5           800         20                  2                 4          0.5   \n",
       "\n",
       "   Training MAE  Valid MAE  Training RMSLE  Valid RMSLE  Training R^2   \n",
       "0       3166.91    6371.83           0.150        0.264         0.950  \\\n",
       "1       3169.70    6368.66           0.154        0.264         0.953   \n",
       "2       4348.27    6525.04           0.204        0.270         0.918   \n",
       "3       3260.99    5942.57           0.160        0.246         0.952   \n",
       "4       4346.77    6513.76           0.204        0.269         0.918   \n",
       "5       3579.91    5972.59           0.173        0.246         0.941   \n",
       "\n",
       "   Valid R^2  \n",
       "0      0.860  \n",
       "1      0.866  \n",
       "2      0.860  \n",
       "3      0.880  \n",
       "4      0.861  \n",
       "5      0.878  "
      ]
     },
     "execution_count": 30,
     "metadata": {},
     "output_type": "execute_result"
    }
   ],
   "source": [
    "param_df"
   ]
  },
  {
   "cell_type": "markdown",
   "id": "aefc1395",
   "metadata": {},
   "source": [
    "## Make predictions\n",
    "\n",
    "Let's test the performance of the model on the test data that was cleaned using the steps used to clean the train and valid data."
   ]
  },
  {
   "cell_type": "code",
   "execution_count": 65,
   "id": "6f3f81e7",
   "metadata": {},
   "outputs": [],
   "source": [
    "test_df = pd.read_csv('Processed Data/Test_clean.csv')"
   ]
  },
  {
   "cell_type": "code",
   "execution_count": 66,
   "id": "2d234495",
   "metadata": {},
   "outputs": [],
   "source": [
    "test_pred = best_rfr.predict(test_df)"
   ]
  },
  {
   "cell_type": "markdown",
   "id": "02eace42",
   "metadata": {},
   "source": [
    "The bechmark csv contains the true value of sales price for test csv. We will compare the values from our prediction to the values in the becnh csv to calculate the evaluation metric."
   ]
  },
  {
   "cell_type": "code",
   "execution_count": 67,
   "id": "5213d67f",
   "metadata": {},
   "outputs": [],
   "source": [
    "bench = pd.read_csv(\"./bluebook-for-bulldozers-data/random_forest_benchmark_test.csv\")"
   ]
  },
  {
   "cell_type": "code",
   "execution_count": 68,
   "id": "15aec16e",
   "metadata": {},
   "outputs": [
    {
     "data": {
      "text/plain": [
       "0        13630.0\n",
       "1        32530.0\n",
       "2        48660.0\n",
       "3        96080.0\n",
       "4        27440.0\n",
       "          ...   \n",
       "12452    59080.0\n",
       "12453    10165.0\n",
       "12454    11125.0\n",
       "12455    13720.0\n",
       "12456    28810.0\n",
       "Name: SalePrice, Length: 12457, dtype: float64"
      ]
     },
     "execution_count": 68,
     "metadata": {},
     "output_type": "execute_result"
    }
   ],
   "source": [
    "true_val = bench.SalePrice\n",
    "true_val"
   ]
  },
  {
   "cell_type": "code",
   "execution_count": 69,
   "id": "136504bc",
   "metadata": {},
   "outputs": [
    {
     "data": {
      "text/plain": [
       "0.3000137337025846"
      ]
     },
     "execution_count": 69,
     "metadata": {},
     "output_type": "execute_result"
    }
   ],
   "source": [
    "### rmsle of the true value and the predicted value\n",
    "np.sqrt(mean_squared_log_error(true_val, test_pred))"
   ]
  },
  {
   "cell_type": "markdown",
   "id": "701273ad",
   "metadata": {},
   "source": [
    "## Feature Importance\n",
    "\n",
    "Let's first create a function that can display the feature and it's importance in the form of a bar graph. This function will take in the feature importance value, name of the feature/column and the number of features we want to be displayed. This function will return a dataframe of feature name and it's importance score."
   ]
  },
  {
   "cell_type": "code",
   "execution_count": 70,
   "id": "99689ae3",
   "metadata": {},
   "outputs": [],
   "source": [
    "def display_feature_importance(feat_importance,columns,n_features):\n",
    "    df_feat = pd.DataFrame({'Features': columns,\n",
    "                            'Importance':feat_importance}).sort_values('Importance').reset_index(drop=True)\n",
    "    plt.figure(figsize=(12,10))\n",
    "    sns.barplot(x = df_feat['Importance'][:n_features],y = df_feat['Features'][:n_features],orient='h')\n",
    "    return df_feat"
   ]
  },
  {
   "cell_type": "markdown",
   "id": "279461f2",
   "metadata": {},
   "source": [
    "The default method of feature importance used by random forest regressor is impurity based. This can result in a bisas towards data with high cardinality. Moreover, if the model is overfitting the training data the feature importance are not accurate.\n",
    "\n",
    "More on this at: https://towardsdatascience.com/best-practice-to-calculate-and-interpret-model-feature-importance-14f0e11ee660\n",
    "\n",
    "To analyse the true feature importance of our model we will calculate the value using the default method and permutation importance method"
   ]
  },
  {
   "cell_type": "code",
   "execution_count": 71,
   "id": "275a053a",
   "metadata": {},
   "outputs": [
    {
     "data": {
      "text/plain": [
       "array([4.05998719e-02, 3.08107114e-02, 8.12178000e-02, 2.21419141e-03,\n",
       "       3.52214762e-03, 1.35334603e-01, 4.54190381e-03, 5.76611954e-02,\n",
       "       7.48718161e-02, 1.14433016e-01, 5.32283682e-02, 2.12671564e-01,\n",
       "       2.96773507e-04, 2.04089481e-05, 6.86526229e-04, 9.83347933e-04,\n",
       "       1.69637856e-03, 4.93457739e-04, 2.69006160e-05, 1.52655493e-03,\n",
       "       1.31498528e-03, 1.31439555e-02, 6.35650570e-02, 5.17712814e-03,\n",
       "       7.23597296e-03, 2.82801967e-03, 6.14521688e-03, 7.82941877e-03,\n",
       "       7.28317251e-02, 3.04982691e-03, 4.11555597e-05, 0.00000000e+00])"
      ]
     },
     "execution_count": 71,
     "metadata": {},
     "output_type": "execute_result"
    }
   ],
   "source": [
    "### Using the default method\n",
    "model_F_importance = best_rfr.feature_importances_\n",
    "model_F_importance"
   ]
  },
  {
   "cell_type": "code",
   "execution_count": 73,
   "id": "d8b8a4d6",
   "metadata": {},
   "outputs": [
    {
     "data": {
      "image/png": "[encoded data removed]",
      "text/plain": [
       "<Figure size 864x720 with 1 Axes>"
      ]
     },
     "metadata": {
      "needs_background": "light"
     },
     "output_type": "display_data"
    }
   ],
   "source": [
    "feat_df = display_feature_importance(model_F_importance,X_train.columns,30)"
   ]
  },
  {
   "cell_type": "code",
   "execution_count": 75,
   "id": "0ce32728",
   "metadata": {},
   "outputs": [
    {
     "data": {
      "text/plain": [
       "array([4.75688541e-02, 1.66828612e-02, 9.52402603e-02, 1.84428053e-03,\n",
       "       4.11184809e-03, 5.91786875e-01, 4.31397632e-03, 7.58075432e-02,\n",
       "       1.80824885e-01, 2.95530631e-01, 1.54411408e-01, 6.50456687e-02,\n",
       "       1.93692073e-04, 4.03103808e-06, 4.90372856e-04, 1.06363046e-03,\n",
       "       9.73330667e-04, 4.83650667e-04, 1.99901411e-05, 2.13398020e-03,\n",
       "       1.97189228e-03, 2.58163614e-02, 1.91871708e-01, 6.71382312e-03,\n",
       "       1.01042015e-02, 2.61951916e-03, 6.16204346e-03, 1.16653249e-02,\n",
       "       2.86760765e-01, 3.23281714e-03, 2.38830540e-05, 0.00000000e+00])"
      ]
     },
     "execution_count": 75,
     "metadata": {},
     "output_type": "execute_result"
    }
   ],
   "source": [
    "### Using permutation imprortance module\n",
    "r = permutation_importance(best_rfr, X_train, y_train,n_repeats= 10,random_state=42)\n",
    "r.importances_mean"
   ]
  },
  {
   "cell_type": "code",
   "execution_count": 76,
   "id": "b40f130d",
   "metadata": {},
   "outputs": [
    {
     "data": {
      "image/png": "[encoded data removed]",
      "text/plain": [
       "<Figure size 864x720 with 1 Axes>"
      ]
     },
     "metadata": {
      "needs_background": "light"
     },
     "output_type": "display_data"
    }
   ],
   "source": [
    "permute_feat_df = display_feature_importance(r.importances_mean, X_train.columns,30)"
   ]
  },
  {
   "cell_type": "markdown",
   "id": "cd4a4705",
   "metadata": {},
   "source": [
    "The feature importance obtained through permutation importance makes more sense as the sale year is the most important feature to be considered for prediction. Since, we are working with time series and sale price prediction for future the year of sale is of prime importance."
   ]
  }
 ],
 "metadata": {
  "kernelspec": {
   "display_name": "Python 3",
   "language": "python",
   "name": "python3"
  },
  "language_info": {
   "codemirror_mode": {
    "name": "ipython",
    "version": 3
   },
   "file_extension": ".py",
   "mimetype": "text/x-python",
   "name": "python",
   "nbconvert_exporter": "python",
   "pygments_lexer": "ipython3",
   "version": "3.8.8"
  }
 },
 "nbformat": 4,
 "nbformat_minor": 5
}
